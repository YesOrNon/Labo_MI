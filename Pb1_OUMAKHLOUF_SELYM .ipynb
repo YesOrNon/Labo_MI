{
 "cells": [
  {
   "cell_type": "markdown",
   "metadata": {},
   "source": [
    "# Problème 1 : Ensemble de Mandelbrot"
   ]
  },
  {
   "cell_type": "markdown",
   "metadata": {},
   "source": [
    "On considère les suites complexes $(z_n)_{n\\in\\mathbb{N}}$ définies par :\n",
    "\n",
    "$$\n",
    "\\begin{cases}\n",
    "z_0=0\\\\\n",
    "z_{n+1}=z_n^2+c\n",
    "\\end{cases}\n",
    "\\tag{$\\star$}\n",
    "$$\n",
    "\n",
    "où $c$ est un nombre complexe donné.\n",
    "\n",
    "Le comportement de ces suites diffère selon la valeur de $c$ : elles peuvent être bornées (le module des termes de la suite est borné) ou non. L'ensemble des valeurs de $c$ pour lesquelles ces suites sont bornées est appelé **ensemble de Mandelbrot** et est noté $M$.\n",
    "\n",
    "Malgré la simplicité apparente de sa définition, cet ensemble s'avère d'une grande complexité. L'objectif de ce problème est de produire, à l'aide d'un ordinateur, une représentation graphique de l'ensemble de Mandelbrot dans le plan complexe. (On rappelle qu'un nombre complexe est représenté graphiquement par un point dont l'abscisse est la partie réelle et l'ordonnée la partie imaginaire.)"
   ]
  },
  {
   "cell_type": "markdown",
   "metadata": {},
   "source": [
    "## A. Calcul des termes d'une suite de type ($\\star$)"
   ]
  },
  {
   "cell_type": "markdown",
   "metadata": {},
   "source": [
    "* Calculer à la main les termes de la suite de type ($\\star$) associée à $c = 1+i$ jusqu'au rang 3."
   ]
  },
  {
   "cell_type": "markdown",
   "metadata": {},
   "source": [
    "$z_0=0, z_1=1+i, z_2=1+3i, z_3=-7+7i$"
   ]
  },
  {
   "cell_type": "markdown",
   "metadata": {},
   "source": [
    "Dans la suite de ce problème, nous allons effectuer des calculs avec des nombres complexes en Python. Pour cela, nous allons utiliser le type `complex` qui permet de représenter et de manipuler les nombres complexes. Nous renvoyons au document *Calcul d'expressions numériques* pour plus d'information sur le type `complex`."
   ]
  },
  {
   "cell_type": "markdown",
   "metadata": {},
   "source": [
    "- Ecrire une fonction `suite` qui prend en paramètres un entier `n` et un complexe `c` et renvoie la valeur au rang `n` de la suite de type ($\\star$) associée à `c`."
   ]
  },
  {
   "cell_type": "code",
   "execution_count": 35,
   "metadata": {},
   "outputs": [],
   "source": [
    "def suite(n, c) :\n",
    "    form = 0\n",
    "    for i in range(n) :\n",
    "        form = form**2 + c\n",
    "    return form"
   ]
  },
  {
   "cell_type": "markdown",
   "metadata": {},
   "source": [
    "- A l'aide de la fonction `suite`, calculer le terme de la suite de type ($\\star$) associée à $c = 1+i$ au rang 3."
   ]
  },
  {
   "cell_type": "code",
   "execution_count": 36,
   "metadata": {},
   "outputs": [
    {
     "data": {
      "text/plain": [
       "(-7+7j)"
      ]
     },
     "execution_count": 36,
     "metadata": {},
     "output_type": "execute_result"
    }
   ],
   "source": [
    "suite(3, complex(1, 1))"
   ]
  },
  {
   "cell_type": "markdown",
   "metadata": {},
   "source": [
    "- En expérimentant avec la fonction `suite`, conjecturer si les suites de type ($\\star$) associées à $c_1 = \\frac{1}{2}+\\frac{1}{2}i$, $c_2 = -\\frac{1}{4}+\\frac{1}{2}i$, $c_3 = -1 + \\frac{1}{5}i$ et $c_4 = \\frac{1}{5} + i$ sont bornées ou non. En déduire (toujours de manière conjecturale) quels nombres parmi $c_1, c_2, c_3, c_4$ appartiennent à l'ensemble de Mandelbrot."
   ]
  },
  {
   "cell_type": "code",
   "execution_count": 37,
   "metadata": {},
   "outputs": [
    {
     "name": "stdout",
     "output_type": "stream",
     "text": [
      "0\n",
      "(0.5+0.5j)\n",
      "(0.5+1j)\n",
      "(-0.25+1.5j)\n",
      "(-1.6875-0.25j)\n",
      "(3.28515625+1.34375j)\n",
      "(9.486587524414062+9.328857421875j)\n",
      "(3.467762060696259+177.49804487079382j)\n",
      "(-31493.030559244733+1231.5419717014022j)\n",
      "(990294278.6774606-77569977.39956954j)\n",
      "0\n",
      "(-0.25+0.5j)\n",
      "(-0.4375+0.25j)\n",
      "(-0.12109375+0.28125j)\n",
      "(-0.3144378662109375+0.431884765625j)\n",
      "(-0.33765327907167375+0.2283981516957283j)\n",
      "(-0.18815597883017132+0.3457612302920555j)\n",
      "(-0.334148156003536+0.36988591454574804j)\n",
      "(-0.275160599618781+0.2528066074457136j)\n",
      "(-0.23819782518564403+0.36087516461529534j)\n",
      "0\n",
      "(-1+0.2j)\n",
      "(-0.040000000000000036-0.2j)\n",
      "(-1.0384+0.21600000000000003j)\n",
      "(0.03161855999999985-0.24858880000000005j)\n",
      "(-1.0607966581489665+0.18427996022374407j)\n",
      "(0.09133044619995068-0.19096713193834436j)\n",
      "(-1.028127195077675+0.16511777326109234j)\n",
      "(0.029781650211585964-0.13952414616079672j)\n",
      "(-1.018580040672574+0.1916894813659379j)\n",
      "0\n",
      "(-0.25+0.5j)\n",
      "(-0.4375+0.25j)\n",
      "(-0.12109375+0.28125j)\n",
      "(-0.3144378662109375+0.431884765625j)\n",
      "(-0.33765327907167375+0.2283981516957283j)\n",
      "(-0.18815597883017132+0.3457612302920555j)\n",
      "(-0.334148156003536+0.36988591454574804j)\n",
      "(-0.275160599618781+0.2528066074457136j)\n",
      "(-0.23819782518564403+0.36087516461529534j)\n"
     ]
    }
   ],
   "source": [
    "for i in range(0, 10):\n",
    "    print(suite(i, complex(0.5, 0.5)))\n",
    "for i in range(0, 10):\n",
    "    print(suite(i, complex(-0.25, 0.5)))\n",
    "for i in range(0, 10):\n",
    "    print(suite(i, complex(-1, 0.2)))\n",
    "for i in range(0, 10):    \n",
    "    print(suite(i, complex(-0.25, 0.5)))    \n",
    "    "
   ]
  },
  {
   "cell_type": "markdown",
   "metadata": {},
   "source": [
    "Les suites $c_2, c_3, c_4$ sont bornées et appartiennent à l'ensemble de Mandelbrot"
   ]
  },
  {
   "cell_type": "markdown",
   "metadata": {},
   "source": [
    "## B. Algorithme pour déterminer l'appartenance à l'ensemble de Mandelbrot"
   ]
  },
  {
   "cell_type": "markdown",
   "metadata": {},
   "source": [
    "Il n'existe pas de critère simple pour déterminer si un nombre complexe $c$ appartient ou non à l'ensemble de Mandelbrot. On dispose cependant du résultat suivant (admis) :\n",
    "\n",
    "*Soit $(z_n)_{n\\in\\mathbb{N}}$ une suite de type ($\\star$). S'il existe un rang $k \\in \\mathbb{N}$ tel que $|z_k| > 2$, alors la suite $(z_n)_{n\\in\\mathbb{N}}$ tend vers l'infini en module.*"
   ]
  },
  {
   "cell_type": "markdown",
   "metadata": {},
   "source": [
    "Au vu de ce résultat, on peut proposer l'algorithme suivant pour déterminer si un nombre $c$ appartient ou non à l'ensemble de Mandelbrot. \n",
    "\n",
    "*On calcule les termes de la suite $(z_n)_{n\\in\\mathbb{N}}$ associée à $c$ jusqu'à un rang assez grand (rang à fixer en fonction de la puissance de calcul disponible et de l'exigence de précision). Dès qu'un terme dépasse 2 en module, on peut arrêter le calcul et conclure que $c$ n'appartient pas à l'ensemble de Mandelbrot. Si, au rang d'arrêt fixé, aucun terme n'a dépassé 2 en module, alors on considère que $c$ appartient à l'ensemble de Mandelbrot.*"
   ]
  },
  {
   "cell_type": "markdown",
   "metadata": {},
   "source": [
    "* Expliquer pourquoi cet algorithme n'est qu'approximatif et préciser dans quel cas il peut renvoyer une mauvaise réponse sur l'appartenance à l'ensemble de Mandelbrot."
   ]
  },
  {
   "cell_type": "markdown",
   "metadata": {},
   "source": [
    "L'algorithme est approximatif car il dépend de la puissance de calcul qui n'est pas la même pour toute les machines.\n",
    "Si une machine n'est pas assez puissante pour obtenir un rang c assez grand, on peut obtenir une mauvaise réponse."
   ]
  },
  {
   "cell_type": "markdown",
   "metadata": {},
   "source": [
    "- Ecrire une fonction `dansM` qui détermine si un nombre complexe appartient à l'ensemble de Mandelbrot en utilisant l'algorithme décrit ci-dessus. Cette fonction prendra en paramètres le nombre complexe à tester et le rang d'arrêt de l'algorithme. Attention, il n'est pas efficace de calculer les termes de la suite en appelant plusieurs fois la fonction `suite` (cela engendre des calculs inutiles)."
   ]
  },
  {
   "cell_type": "code",
   "execution_count": 38,
   "metadata": {},
   "outputs": [],
   "source": [
    "def dansM(complexe, rg_arret):\n",
    "    form = 0\n",
    "    for i in range(rg_arret) :\n",
    "        form = form**2 + complexe\n",
    "        if abs(form) > 2 :\n",
    "            return False\n",
    "    return True"
   ]
  },
  {
   "cell_type": "markdown",
   "metadata": {},
   "source": [
    "* Tester la fonction `dansM` sur des exemples."
   ]
  },
  {
   "cell_type": "code",
   "execution_count": 39,
   "metadata": {},
   "outputs": [
    {
     "name": "stdout",
     "output_type": "stream",
     "text": [
      "False\n",
      "True\n"
     ]
    }
   ],
   "source": [
    "print(dansM(complex(0.5, 0.5), 10000))\n",
    "print(dansM(complex(-1, 1/5), 10000))"
   ]
  },
  {
   "cell_type": "markdown",
   "metadata": {},
   "source": [
    "## C. Représentation graphique de l'ensemble de Mandelbrot"
   ]
  },
  {
   "cell_type": "markdown",
   "metadata": {},
   "source": [
    "On pose $ D = \\{ z \\in \\mathbb{C} \\:|\\: -2 \\leq \\operatorname{Re}(z) \\leq 2 \\:\\text{ et }\\: -2 \\leq \\operatorname{Im}(z) \\leq 2 \\}.$\n",
    "\n",
    "- Expliquer pourquoi l'ensemble de Mandelbrot est inclus dans cet ensemble $D$."
   ]
  },
  {
   "cell_type": "markdown",
   "metadata": {},
   "source": [
    "Je ne sais pas"
   ]
  },
  {
   "cell_type": "markdown",
   "metadata": {},
   "source": [
    "Pour obtenir une représentation de l'ensemble de Mandelbrot, on propose la méthode suivante. \n",
    "\n",
    "*On balaie l'ensemble de nombres complexes répartis sur une grille (suffisamment fine) couvrant $D$. Pami ces nombres, on détermine ceux qui appartiennent à l'ensemble de Mandelbrot et on affiche les points correspondants dans une fenêtre graphique.*\n",
    "\n",
    "- Pour commencer, écrire une fonction `trace_grille` qui trace l'ensemble des nombres complexes répartis sur une grille couvrant $D$. Cette fonction prendra comme argument le nombre de points dans chaque direction de la grille. Pour ce tracé, on utilisera la fonction `plot` de la bibliothèque `Matplotlib`. Pour des explications plus détaillées sur les grilles de points, voir le document *Parcourir une grille de points*. Pour des explications plus détaillées sur la bibliothèque `Matplotlib` et la fonction `plot`, voir le document *Représentations graphiques*."
   ]
  },
  {
   "cell_type": "code",
   "execution_count": 40,
   "metadata": {},
   "outputs": [],
   "source": [
    "import matplotlib.pyplot as plt\n",
    "from numpy import linspace\n",
    "\n",
    "def trace_grille(nb_pts) :\n",
    "    \n",
    "    lst_x = []\n",
    "    lst_y = []\n",
    "    \n",
    "    for x in linspace(-2, 2, nb_pts) :\n",
    "        for y in linspace(-2, 2, nb_pts) :\n",
    "            \n",
    "            lst_x.append(x)\n",
    "            lst_y.append(y)\n",
    "            \n",
    "    plt.plot(lst_x, lst_y, marker='+', linestyle='')\n",
    "    plt.axis('equal')\n",
    "    plt.show()"
   ]
  },
  {
   "cell_type": "markdown",
   "metadata": {},
   "source": [
    "- Ecrire une fonction `traceM` qui trace une représentation graphique de l'ensemble de Mandelbrot (selon la méthode de balayage d'une grille décrite plus haut). Cette fonction prendra comme argument le nombre de points dans chaque direction de la grille. Pour le tracé des points, on utilisera la marque pixel (`marker=','`) afin d'éviter les chevauchements entre les marques des points ."
   ]
  },
  {
   "cell_type": "code",
   "execution_count": 41,
   "metadata": {},
   "outputs": [],
   "source": [
    "def traceM(nb_pts):    \n",
    "    lst_re = []\n",
    "    lst_im = []\n",
    "    for re in linspace(-2, 2, 1000) :\n",
    "        for im in linspace(-2, 2, 1000) :\n",
    "            if dansM(complex(re, im), 100) :\n",
    "                lst_re.append(re)\n",
    "                lst_im.append(im)\n",
    "                   \n",
    "    plt.plot(lst_re, lst_im, marker=',', linestyle='')\n",
    "    plt.axis('equal')\n",
    "    plt.show()      "
   ]
  },
  {
   "cell_type": "markdown",
   "metadata": {},
   "source": [
    "- Tracer une représentation (la plus précise possible) de l'ensemble de Mandelbrot en utilisant la fonction `traceM`."
   ]
  },
  {
   "cell_type": "code",
   "execution_count": 42,
   "metadata": {},
   "outputs": [
    {
     "data": {
      "image/png": "[encoded data removed]",
      "text/plain": [
       "<Figure size 640x480 with 1 Axes>"
      ]
     },
     "metadata": {},
     "output_type": "display_data"
    },
    {
     "data": {
      "image/png": "[encoded data removed]",
      "text/plain": [
       "<Figure size 640x480 with 1 Axes>"
      ]
     },
     "metadata": {},
     "output_type": "display_data"
    }
   ],
   "source": [
    "nb_pts = 100\n",
    "trace_grille(nb_pts)\n",
    "traceM(nb_pts)"
   ]
  },
  {
   "cell_type": "markdown",
   "metadata": {},
   "source": [
    "Une des particularités de l'ensemble de Mandelbrot est la complexité de sa frontière et notamment la répétition des mêmes structures à différentes échelles. \n",
    "\n",
    "* Pour observer ce phénomène, écrire une fonction `traceM2` qui permet de tracer une représentation graphique de l'ensemble de Mandelbrot sur une fenêtre du type\n",
    "\n",
    "$$\\{ z \\in \\mathbb{C} \\:|\\: x_{min} \\leq \\operatorname{Re}(z) \\leq x_{max} \\:\\text{ et }\\: y_{min}\\leq \\operatorname{Im}(z) \\leq y_{max} \\},$$ \n",
    "\n",
    "où $x_{min}, x_{max}, y_{min}, y_{max}$ sont des paramètres. "
   ]
  },
  {
   "cell_type": "code",
   "execution_count": 43,
   "metadata": {},
   "outputs": [],
   "source": [
    "def traceM2(nb_pts,x_min, x_max, y_min, y_max):    \n",
    "    lst_re = []\n",
    "    lst_im = []\n",
    "    for re in linspace(x_min, x_max, 1000) :\n",
    "        for im in linspace(y_min, y_max, 1000) :\n",
    "            if dansM(complex(re, im), 100) :\n",
    "                lst_re.append(re)\n",
    "                lst_im.append(im)\n",
    "                \n",
    "    plt.plot(lst_re, lst_im, marker=',', linestyle='')\n",
    "    plt.axis('equal')\n",
    "    plt.show()      "
   ]
  },
  {
   "cell_type": "markdown",
   "metadata": {},
   "source": [
    "* A l'aide de cette fonction, tracer une représentation (la plus précise possible) de l'ensemble de Mandelbrot en zoomant sur une petite partie de sa frontière. "
   ]
  },
  {
   "cell_type": "code",
   "execution_count": 44,
   "metadata": {
    "scrolled": false
   },
   "outputs": [
    {
     "data": {
      "image/png": "[encoded data removed]",
      "text/plain": [
       "<Figure size 640x480 with 1 Axes>"
      ]
     },
     "metadata": {},
     "output_type": "display_data"
    }
   ],
   "source": [
    "traceM2(100, -1, -0.5, -0.25, 0)      #met un peu de temps à charger"
   ]
  },
  {
   "cell_type": "markdown",
   "metadata": {},
   "source": [
    "## D. Quelques propriétés géométriques de l'ensemble de Mandelbrot"
   ]
  },
  {
   "cell_type": "markdown",
   "metadata": {},
   "source": [
    "### D.1 Un disque inclus dans l'ensemble\n",
    "\n",
    "Soit $c \\in \\mathbb{C}$ tel que $|c|\\leq 1/4$. Soit $(z_n)_{n\\in\\mathbb{N}}$ la suite de type ($\\star$) associée à $c$.\n",
    "* Montrer par récurrence que, pour tout $n\\in \\mathbb{N}$, $|z_n|\\leq 1/2$.  \n",
    "* Que peut-on conclure sur l'appartenance de $c$ à l'ensemble de Mandelbrot ?\n",
    "* En déduire qu'un certain disque (dont on précisera le centre et le rayon) est inclus dans l'ensemble de Mandelbrot."
   ]
  },
  {
   "cell_type": "markdown",
   "metadata": {},
   "source": [
    "Soit $P_n$ la propriété : $|z_n|\\leq 1/2$ pour tout $n\\in \\mathbb{N}$, avec $c \\in \\mathbb{C}$ tel que $|c|\\leq 1/4$\n",
    "\n",
    "Initialisation : $|z_o|=0$, \n",
    "                 $P_0$ est vraie. \n",
    "                  \n",
    "Héréditée : Supposons $P_n$ vrai, montrons que $P_{n+1}$ est vraie. \n",
    "\n",
    "   On a $|z_n|\\leq 1/2$.\n",
    "   \n",
    "   $z_{n+1} = z_n + c$\n",
    "            \n",
    "   (Je ne vois pas quoi faire ensuite)\n",
    "            "
   ]
  },
  {
   "cell_type": "markdown",
   "metadata": {},
   "source": [
    "### D.2 Symétrie\n",
    "\n",
    "* Quel type de symétrie observe-t-on sur la représentation graphique de l'ensemble de Mandelbrot ?\n",
    "\n",
    "\n",
    "* Parmi les propriétés mathématiques suivantes, laquelle correspond à ce type de symétrie ?\n",
    "    1. Si un nombre complexe $c$ appartient à $M$ alors $\\overline{c}$ appartient à $M$.\n",
    "    2. Si un nombre complexe $c$ appartient à $M$ alors $-c$ appartient à $M$.\n",
    "    3. Si un nombre complexe $c$ appartient à $M$ alors $-\\overline{c}$ appartient à $M$.\n",
    "\n",
    "\n",
    "* A quels types de symétrie correspondent les deux autres propriétés."
   ]
  },
  {
   "cell_type": "markdown",
   "metadata": {},
   "source": [
    "* C'est une symétrie axiale, symétrie par rapport à l'axe des réels.\n",
    "\n",
    "  Propriété correspondant : Si un nombre complexe $c$ appartient à $M$ alors $\\overline{c}$ appartient à $M$.\n",
    "\n",
    "\n",
    "* La propriété n°2 correspondant à une symétrie du point et la propriété n°3 à une symétrie par rapport à l'axe des ordonnées (images)."
   ]
  },
  {
   "cell_type": "markdown",
   "metadata": {},
   "source": [
    "### D.3 Une cardioïde incluse dans l'ensemble\n",
    "\n",
    "Soit la fonction $f : [0, 2\\pi] \\rightarrow \\mathbb{C}$ définie par\n",
    "\n",
    "$$\n",
    "f(\\theta) =  \\frac{1}{4} + \\frac{1}{2}(1-\\cos \\theta) e^{i\\theta} \n",
    "$$\n",
    "\n",
    "Lorsque le paramètre $\\theta$ parcourt $[0, 2\\pi]$, l'ensemble des valeurs prises par $f(\\theta)$ forme une courbe fermée du plan complexe."
   ]
  },
  {
   "cell_type": "markdown",
   "metadata": {},
   "source": [
    "* Pour tout $\\theta \\in [0, 2\\pi]$, déterminer la partie réelle et la partie imaginaire de $f(\\theta)$."
   ]
  },
  {
   "cell_type": "markdown",
   "metadata": {},
   "source": [
    "$Im(f(\\theta))=\\frac{1}{2}(1-\\cos \\theta) e^{i\\theta} \n",
    "$\n",
    "\n",
    "$Re(f(\\theta))=1/4$"
   ]
  },
  {
   "cell_type": "markdown",
   "metadata": {},
   "source": [
    "* Tracer la courbe décrite par la fonction $f$. Pour ce faire, on utilisera la fonction `plot` de la bibliothèque Matplotlib. On tracera (en les reliant) les points d'affixe $f(\\theta)$ pour un nombre suffisamment grand de valeurs de $\\theta$. Voir la section *Courbes* du document *Représentations graphiques* pour des explications plus détaillées sur cette façon de tracer les courbes."
   ]
  },
  {
   "cell_type": "code",
   "execution_count": 45,
   "metadata": {},
   "outputs": [
    {
     "data": {
      "image/png": "[encoded data removed]",
      "text/plain": [
       "<Figure size 640x480 with 1 Axes>"
      ]
     },
     "metadata": {},
     "output_type": "display_data"
    }
   ],
   "source": [
    "from math import exp, cos\n",
    "x = linspace(0, 10, 100)\n",
    "y = [(1/4) + (1/2)*(1 - cos(x0))*exp(i * x0) for x0 in x]\n",
    "plt.plot(x,y)\n",
    "plt.axis('equal')\n",
    "plt.show()\n",
    "\n",
    "#Je ne sais pas comment modifier le i"
   ]
  },
  {
   "cell_type": "markdown",
   "metadata": {},
   "source": [
    "* Ce type de courbe est appelée une *cardioïde*. Justifier ce nom."
   ]
  },
  {
   "cell_type": "markdown",
   "metadata": {},
   "source": [
    "On dit Cardioïde car la courbe à une forme de coeur."
   ]
  },
  {
   "cell_type": "markdown",
   "metadata": {},
   "source": [
    "* Superposer le tracé de la cardioïde décrite par la fonction $f$ à une représentation de l'ensemble de Mandelbrot. "
   ]
  },
  {
   "cell_type": "code",
   "execution_count": 46,
   "metadata": {},
   "outputs": [
    {
     "data": {
      "image/png": "[encoded data removed]",
      "text/plain": [
       "<Figure size 640x480 with 1 Axes>"
      ]
     },
     "metadata": {},
     "output_type": "display_data"
    }
   ],
   "source": [
    "traceM(nb_pts)"
   ]
  },
  {
   "cell_type": "markdown",
   "metadata": {},
   "source": [
    "## E. Accélération du calcul de la représentation de l'ensemble de Mandelbrot"
   ]
  },
  {
   "cell_type": "markdown",
   "metadata": {},
   "source": [
    "La construction de la représentation de l'ensemble de Mandelbrot peut s'avérer assez longue quand la grille est fine. En utilisant les propriétés géométriques évoquées dans la partie précédente, on peut accélérer cette construction."
   ]
  },
  {
   "cell_type": "markdown",
   "metadata": {},
   "source": [
    "Pour les nombres de module inférieur ou égal à $1/4$, on peut éviter les appels à `dansM` car on sait a priori qu'ils sont dans l'ensemble de Mandelbrot. Le gain est important car c'est pour les nombres de l'ensemble de Mandelbrot que ces appels à `dansM` sont les plus coûteux.  \n",
    "\n",
    "Par ailleurs, au lieu de de parcourir une grille couvrant $D$ tout entier, on peut se contenter de parcourir une grille couvrant la moitié supérieure de $D$ et compléter la représentation par symétrie. "
   ]
  },
  {
   "cell_type": "markdown",
   "metadata": {},
   "source": [
    "* Implémenter ces accélérations dans une fonction `traceM3`."
   ]
  },
  {
   "cell_type": "code",
   "execution_count": 47,
   "metadata": {},
   "outputs": [
    {
     "data": {
      "image/png": "[encoded data removed]",
      "text/plain": [
       "<Figure size 640x480 with 1 Axes>"
      ]
     },
     "metadata": {},
     "output_type": "display_data"
    }
   ],
   "source": [
    "def traceM3(nb_pts) :\n",
    "    lst_re = []\n",
    "    lst_im = []\n",
    "    for re in linspace(-2, 2, 1000) :\n",
    "        for im in linspace(-0, 2, 1000) :\n",
    "            if abs(complex(re, im)) <= 1/4 :\n",
    "                lst_re.append(re)\n",
    "                lst_im.append(im)\n",
    "            else :\n",
    "                if dansM(complex(re, im), 100) :\n",
    "                    lst_re.append(re)\n",
    "                    lst_im.append(im)\n",
    "                   \n",
    "    plt.plot(lst_re, lst_im, marker=',', linestyle='')\n",
    "    plt.axis('equal')\n",
    "    plt.show()      \n",
    "    \n",
    "traceM3(nb_pts)"
   ]
  },
  {
   "cell_type": "markdown",
   "metadata": {},
   "source": [
    "Pour accélérer encore la construction de la représentation de l'ensemble de Mandelbrot, on peut inclure *a priori* les nombres complexes qui sont à l'intérieur de la cardioïde associée à $f$. "
   ]
  },
  {
   "cell_type": "markdown",
   "metadata": {},
   "source": [
    "Pour déterminer si un nombre complexe est à l'intérieur de la cardioïde associée à $f$, on peut procéder de la façon suivante.\n",
    "\n",
    "*On calcule le module $\\rho$ et un argument $\\theta$ du nombre $z-\\frac{1}{4}$. On teste si $\\rho \\leq \\frac{1}{2}(1-\\cos \\theta)$. Si cette inégalité est vraie, $z$ est à l'intérieur de la cardioïde. Sinon, $z$ est à l'extérieur.*"
   ]
  },
  {
   "cell_type": "markdown",
   "metadata": {},
   "source": [
    "* Ecrire une fonction `argument` qui renvoie un argument d'un nombre complexe. On pourra utiliser la fonction `atan2` du module `math` (voir documentation officielle du module `math`)."
   ]
  },
  {
   "cell_type": "code",
   "execution_count": null,
   "metadata": {},
   "outputs": [],
   "source": []
  },
  {
   "cell_type": "markdown",
   "metadata": {},
   "source": [
    "* Ecrire une fonction `dans_cardioide` qui prend en argument un nombre complexe et détermine si ce nombre complexe est à l'intérieur de la cardioïde."
   ]
  },
  {
   "cell_type": "code",
   "execution_count": null,
   "metadata": {},
   "outputs": [],
   "source": []
  },
  {
   "cell_type": "markdown",
   "metadata": {},
   "source": [
    "* Ajouter l'accélération liée à la cardioïde dans une fonction `traceM4`. Remarque : La cardioïde contient les nombres de module inférieur ou égal à 1/4 donc ce test devient superflu."
   ]
  },
  {
   "cell_type": "code",
   "execution_count": null,
   "metadata": {},
   "outputs": [],
   "source": []
  }
 ],
 "metadata": {
  "kernelspec": {
   "display_name": "Python 3 (ipykernel)",
   "language": "python",
   "name": "python3"
  },
  "language_info": {
   "codemirror_mode": {
    "name": "ipython",
    "version": 3
   },
   "file_extension": ".py",
   "mimetype": "text/x-python",
   "name": "python",
   "nbconvert_exporter": "python",
   "pygments_lexer": "ipython3",
   "version": "3.9.0"
  }
 },
 "nbformat": 4,
 "nbformat_minor": 1
}
