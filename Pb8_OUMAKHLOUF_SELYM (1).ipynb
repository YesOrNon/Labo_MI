{
 "cells": [
  {
   "cell_type": "markdown",
   "metadata": {},
   "source": [
    "# Problème 8 : Matrices et Géométrie"
   ]
  },
  {
   "cell_type": "markdown",
   "metadata": {},
   "source": [
    "\n",
    "Dans ce problème, on s'intéresse aux application de $\\mathbb{R}^2$ dans $\\mathbb{R}^2$ de la forme\n",
    "\n",
    "$$\n",
    "x \\mapsto Ax+b,\n",
    "$$\n",
    "\n",
    "où $A$ est une matrice réelle de taille $2 \\times 2$ et $b$ un vecteur réel de taille $2$.\n",
    "\n",
    "Une application de cette forme peut s'interpréter comme une **transformation géométrique du plan**, c'est-à-dire une application qui transforme un point du plan en un autre point du plan. En effet, en munissant le plan d'un repère, on peut représenter chaque point du plan par un couple de coordonnées, c'est-à-dire par un vecteur de $\\mathbb{R}^2$.\n",
    "\n",
    "Ces applications sont plus précisément appelées **transformations affines du plan**. Parmi elles, on trouve les **translations**, les **rotations**, les **symétries axiales**, etc.\n",
    "\n",
    "Nous souhaitons programmer des classes permettant de représenter et de manipuler les transformations affines. Pour cela, nous commencerons par créer des classes pour les vecteurs et les matrices.\n",
    "\n",
    "Enfin, en guise d'application, nous utiliserons des transformations affines pour gérer le déplacement d'un vaisseau dans un jeu vidéo 2D."
   ]
  },
  {
   "cell_type": "markdown",
   "metadata": {},
   "source": [
    "## A. Classes `Vec` et `Mat`\n",
    "\n",
    "* Créer une classe `Vec` pour représenter et manipuler les vecteurs.\n",
    "    * Un objet de cette classe aura pour unique attribut :\n",
    "        * `coeff`: la liste des coefficients du vecteur.\n",
    "    * La méthode `__init__` prendra en paramètre (en plus de `self`) la liste des coefficients du vecteur.\n",
    "    * Cette classe contiendra également les méthodes suivantes :\n",
    "        * `__repr__` ;\n",
    "        * `__add__`, qui renvoie la somme de deux vecteurs ;\n",
    "        * `__neg__` qui renvoie l'opposé d'un vecteur ;\n",
    "        * `__sub__`, qui renvoie la différence de deux vecteurs ;\n",
    "        * `__mul__`, qui renvoie le produit d'un vecteur par un réel ;\n",
    "        * `norme`, qui renvoie la norme euclidienne d'un vecteur.\n",
    "        \n",
    "Pour compléter la description de cette classe, voici des exemples d'utilisation.    \n",
    "~~~py\n",
    ">>> Vec([-1, 4, 2])\n",
    "Vec([-1, 4, 2])\n",
    "\n",
    ">>> Vec([2, 0, 1]) + Vec([1, 2, -1])\n",
    "Vec([3, 2, 0])\n",
    "\n",
    ">>> Vec([1, 2, 0, -1]) * 2\n",
    "Vec([2, 4, 0, -2])\n",
    "\n",
    ">>> -Vec([1, 2])\n",
    "Vec([-1, -2])\n",
    "\n",
    ">>> Vec([2, 0, 1]) - Vec([1, 2, -1])\n",
    "Vec([1, -2, 2])\n",
    "\n",
    ">>> Vec([3, 4]).norme()\n",
    "5.0\n",
    "~~~"
   ]
  },
  {
   "cell_type": "code",
   "execution_count": 1,
   "metadata": {},
   "outputs": [],
   "source": [
    "from math import sqrt # pour la norme\n",
    "\n",
    "class Vec:\n",
    "    \"\"\"\n",
    "    >>> Vec([-1, 4, 2])\n",
    "    Vec([-1, 4, 2])\n",
    "\n",
    "    >>> Vec([2, 0, 1]) + Vec([1, 2, -1])\n",
    "    Vec([3, 2, 0])\n",
    "    \n",
    "    >>> Vec([2, 0, 1, 1]) + Vec([1, 2, -1])\n",
    "    Vec([3, 2, 0, 1])\n",
    "\n",
    "    >>> Vec([1, 2, 0, -1]) * 2\n",
    "    Vec([2, 4, 0, -2])\n",
    "\n",
    "    >>> -Vec([1, 2])\n",
    "    Vec([-1, -2])\n",
    "\n",
    "    >>> Vec([2, 0, 1]) - Vec([1, 2, -1])\n",
    "    Vec([1, -2, 2])\n",
    "\n",
    "    >>> Vec([3, 4]).norme()\n",
    "    5.0\n",
    "    \"\"\"\n",
    "    \n",
    "    def __init__(self, coeff):\n",
    "        self.coeff = coeff\n",
    "        \n",
    "    def __repr__(self):\n",
    "        return \"Vec({})\".format(self.coeff)\n",
    "    \n",
    "    def __add__(self, other):\n",
    "        x = len(self.coeff)\n",
    "        y = len(other.coeff)\n",
    "        \n",
    "        if x > y:\n",
    "            for i in range(y):\n",
    "                self.coeff[i] += other.coeff[i]\n",
    "            return Vec(self.coeff)\n",
    "            \n",
    "        for i in range(x):\n",
    "            other.coeff[i] += self.coeff[i]\n",
    "            \n",
    "        return Vec(other.coeff)\n",
    "    \n",
    "    def __neg__(self):\n",
    "        return Vec([ - i for i in self.coeff])\n",
    "    \n",
    "    def __sub__(self, other):\n",
    "        x = len(self.coeff)\n",
    "        y = len(other.coeff)\n",
    "        \n",
    "        if x > y:\n",
    "            for i in range(y):\n",
    "                self.coeff[i] -= other.coeff[i]\n",
    "            return Vec(self.coeff)\n",
    "            \n",
    "        for i in range(x):\n",
    "            self.coeff[i] -= other.coeff[i]\n",
    "            other.coeff[i] = self.coeff[i]\n",
    "            \n",
    "        return Vec(other.coeff)\n",
    "    \n",
    "    def __mul__(self, other):\n",
    "        if type(other) == int or type(other) == float:\n",
    "            return Vec([ i * other for i in self.coeff])\n",
    "        \n",
    "        raise ValueError(\"Produit d'un vecteur par un coefficient REEL\")\n",
    "        \n",
    "    def norme(self):\n",
    "        carre = 0\n",
    "        for i in self.coeff:\n",
    "            carre += i ** 2\n",
    "        return sqrt(carre)"
   ]
  },
  {
   "cell_type": "code",
   "execution_count": 2,
   "metadata": {},
   "outputs": [
    {
     "data": {
      "text/plain": [
       "Vec([-1, 4, 2])"
      ]
     },
     "execution_count": 2,
     "metadata": {},
     "output_type": "execute_result"
    }
   ],
   "source": [
    "Vec([-1, 4, 2])"
   ]
  },
  {
   "cell_type": "code",
   "execution_count": 3,
   "metadata": {},
   "outputs": [
    {
     "data": {
      "text/plain": [
       "Vec([3, 2, 0, 1])"
      ]
     },
     "execution_count": 3,
     "metadata": {},
     "output_type": "execute_result"
    }
   ],
   "source": [
    "Vec([2, 0, 1, 1]) + Vec([1, 2, -1])"
   ]
  },
  {
   "cell_type": "code",
   "execution_count": 4,
   "metadata": {},
   "outputs": [
    {
     "data": {
      "text/plain": [
       "Vec([-1, -2])"
      ]
     },
     "execution_count": 4,
     "metadata": {},
     "output_type": "execute_result"
    }
   ],
   "source": [
    "-Vec([1, 2])"
   ]
  },
  {
   "cell_type": "code",
   "execution_count": 5,
   "metadata": {},
   "outputs": [
    {
     "data": {
      "text/plain": [
       "Vec([1, -2, 2, -1, 6])"
      ]
     },
     "execution_count": 5,
     "metadata": {},
     "output_type": "execute_result"
    }
   ],
   "source": [
    "Vec([2, 0, 1, 3]) - Vec([1, 2, -1, 4, 6])"
   ]
  },
  {
   "cell_type": "code",
   "execution_count": 6,
   "metadata": {},
   "outputs": [
    {
     "data": {
      "text/plain": [
       "Vec([9, 18, 0, -9])"
      ]
     },
     "execution_count": 6,
     "metadata": {},
     "output_type": "execute_result"
    }
   ],
   "source": [
    "Vec([1, 2, 0, -1]) * 9"
   ]
  },
  {
   "cell_type": "code",
   "execution_count": 7,
   "metadata": {},
   "outputs": [
    {
     "data": {
      "text/plain": [
       "5.0"
      ]
     },
     "execution_count": 7,
     "metadata": {},
     "output_type": "execute_result"
    }
   ],
   "source": [
    "Vec([4, 3]).norme()"
   ]
  },
  {
   "cell_type": "markdown",
   "metadata": {},
   "source": [
    "- Insérer des tests (*doctests*) dans les chaînes de documentation (*docstrings*) des différentes méthode de la classe `Vec`. Tester la classe `Vec` avec la commande `testmod` du module `doctest`."
   ]
  },
  {
   "cell_type": "code",
   "execution_count": 8,
   "metadata": {},
   "outputs": [
    {
     "data": {
      "text/plain": [
       "TestResults(failed=0, attempted=7)"
      ]
     },
     "execution_count": 8,
     "metadata": {},
     "output_type": "execute_result"
    }
   ],
   "source": [
    "from doctest import testmod\n",
    "testmod()"
   ]
  },
  {
   "cell_type": "markdown",
   "metadata": {},
   "source": [
    "* Créer une classe `Mat` pour représenter et manipuler les matrices.\n",
    "    * Un objet de cette classe aura pour unique attribut :\n",
    "        * `coeff`: les coefficients de la matrice sous forme d'une liste d'une listes (chaque sous-liste correspondant à une ligne de la matrice).\n",
    "    * La méthode `__init__` prendra en paramètre (en plus de `self`) la liste des coefficients du vecteur.\n",
    "    * Cette classe contiendra également les méthodes suivantes :\n",
    "        * `__repr__` ;\n",
    "        * `__add__`, qui renvoie la somme de deux matrices ;\n",
    "        * `__mul__`, qui renvoie le produit d'une matrice par une matrice ou par un vecteur (selon la nature de l'opérande de droite).\n",
    "        \n",
    "Indication : Dans la méthode `__init__`, utiliser la fonction `deepcopy` du module `copy` pour copier la liste de listes fournie en paramètre.\n",
    "\n",
    "Pour compléter la description de cette classe, voici des exemples d'utilisation.  \n",
    "```py\n",
    ">>> Mat([[1, 0, 1], [2, 1, 1]])\n",
    "Mat([[1, 0, 1], [2, 1, 1]])\n",
    "\n",
    ">>> A = Mat([[1, 0, 1], [2, 1, 1]])\n",
    ">>> B = Mat([[-1, 1, 0], [0, 2, -1]])  \n",
    ">>> A + B\n",
    "Mat([[0, 1, 1], [2, 3, 0]])\n",
    "\n",
    ">>> C = Mat([[1, 1], [2, 0], [1, -1]])  \n",
    ">>> A * C\n",
    "Mat([[2, 0], [5, 1]])\n",
    "\n",
    ">>> A * Vec([1, 0, 1])\n",
    "Vec([2, 3])\n",
    "```"
   ]
  },
  {
   "cell_type": "code",
   "execution_count": 58,
   "metadata": {},
   "outputs": [],
   "source": [
    "import numpy as np\n",
    "from copy import deepcopy\n",
    "\n",
    "class Mat:\n",
    "    \"\"\"\n",
    "    >>> Mat([[1, 0, 1], [2, 1, 1]])\n",
    "    Mat([[1, 0, 1], [2, 1, 1]])\n",
    "\n",
    "    >>> A = Mat([[1, 0, 1], [2, 1, 1]])\n",
    "    >>> B = Mat([[-1, 1, 0], [0, 2, -1]])  \n",
    "    >>> A + B\n",
    "    Mat([[0, 1, 1], [2, 3, 0]])\n",
    "\n",
    "    >>> C = Mat([[1, 1], [2, 0], [1, -1]])  \n",
    "    >>> A * C\n",
    "    Mat([[2, 0], [5, 1]])\n",
    "\n",
    "    >>> A * Vec([1, 0, 1])\n",
    "    Vec([2, 3])\n",
    "    \"\"\"\n",
    "    \n",
    "    def __init__(self, coeff):\n",
    "        self.coeff = deepcopy(coeff)\n",
    "        \n",
    "    def __repr__(self):\n",
    "        return \"Mat({})\".format(self.coeff)\n",
    "    \n",
    "    def __add__(self, other):\n",
    "        res = [[0] * len(self.coeff[0]) for _ in range(len(self.coeff))]\n",
    "        for i, line in enumerate(self.coeff):\n",
    "            for j in range(len(line)):\n",
    "                    res[i][j] = self.coeff[i][j] + other.coeff[i][j]\n",
    "        return Mat(res)\n",
    "       \n",
    "    def __mul__(self, other):\n",
    "        \"\"\"Multiplication par un vecteur ou une matrice.\"\"\"\n",
    "        if isinstance(other, Vec):\n",
    "            res = [0] * (len(other.coeff) - 1)\n",
    "            for i in range(len(res)):\n",
    "                for j in range(len(self.coeff[i])):\n",
    "                    res[i] += other.coeff[j] * self.coeff[i][j]\n",
    "            return Vec(res)\n",
    "        \n",
    "        elif isinstance(other, Mat):\n",
    "            if len(self.coeff) == len(other.coeff[0]):\n",
    "                x = min(len(self.coeff), len(other.coeff))\n",
    "                y = min(len(self.coeff[0]), len(other.coeff[0]))\n",
    "                res = [[0] * y for _ in range(x)]\n",
    "                for i, line in enumerate(self.coeff):\n",
    "                    for j in range(len(line) - 1):\n",
    "                        for k in range(len(line)):\n",
    "                            res[i][j] += self.coeff[i][k] * other.coeff[k][j]\n",
    "                return Mat(res)\n",
    "\n",
    "                return res\n",
    "            raise ValueError(\"Le nombre de lignes de la première matrice doit être égal au nombre de colonnes de la deuxième matrice.\")"
   ]
  },
  {
   "cell_type": "code",
   "execution_count": 61,
   "metadata": {},
   "outputs": [
    {
     "data": {
      "text/plain": [
       "Mat([[1, 0, 1], [2, 1, 1]])"
      ]
     },
     "execution_count": 61,
     "metadata": {},
     "output_type": "execute_result"
    }
   ],
   "source": [
    "Mat([[1, 0, 1], [2, 1, 1]])"
   ]
  },
  {
   "cell_type": "code",
   "execution_count": 62,
   "metadata": {},
   "outputs": [],
   "source": [
    "A = Mat([[1, 0, 1], [2, 1, 1]])\n",
    "B = Mat([[-1, 1, 0], [0, 2, -1]])\n",
    "C = Mat([[1, 1], [2, 0], [1, -1]])"
   ]
  },
  {
   "cell_type": "code",
   "execution_count": 63,
   "metadata": {},
   "outputs": [
    {
     "data": {
      "text/plain": [
       "Mat([[0, 1, 1], [2, 3, 0]])"
      ]
     },
     "execution_count": 63,
     "metadata": {},
     "output_type": "execute_result"
    }
   ],
   "source": [
    "A + B"
   ]
  },
  {
   "cell_type": "code",
   "execution_count": 64,
   "metadata": {},
   "outputs": [
    {
     "data": {
      "text/plain": [
       "Mat([[2, 0], [5, 1]])"
      ]
     },
     "execution_count": 64,
     "metadata": {},
     "output_type": "execute_result"
    }
   ],
   "source": [
    "A * C"
   ]
  },
  {
   "cell_type": "code",
   "execution_count": 65,
   "metadata": {},
   "outputs": [
    {
     "data": {
      "text/plain": [
       "Vec([2, 3])"
      ]
     },
     "execution_count": 65,
     "metadata": {},
     "output_type": "execute_result"
    }
   ],
   "source": [
    "A * Vec([1, 0, 1])"
   ]
  },
  {
   "cell_type": "markdown",
   "metadata": {},
   "source": [
    "- Insérer des tests (*doctests*) dans les chaînes de documentation (*docstrings*) des différentes méthode de la classe `Mat`. Tester la classe `Mat` avec la commande `testmod` du module `doctest`."
   ]
  },
  {
   "cell_type": "code",
   "execution_count": 59,
   "metadata": {},
   "outputs": [
    {
     "name": "stdout",
     "output_type": "stream",
     "text": [
      "**********************************************************************\n",
      "File \"__main__\", line ?, in __main__.TransAffine2D\n",
      "Failed example:\n",
      "    phi.applique(Vec([0, 1]))\n",
      "Expected:\n",
      "    Vec([0, 0])\n",
      "Got nothing\n",
      "**********************************************************************\n",
      "File \"__main__\", line ?, in __main__.TransAffine2D\n",
      "Failed example:\n",
      "    phi.applique(Vec([1, 0]))\n",
      "Expected:\n",
      "    Vec([2, 0])\n",
      "Got nothing\n",
      "**********************************************************************\n",
      "File \"__main__\", line ?, in __main__.TransAffine2D\n",
      "Failed example:\n",
      "    phi2.applique(Vec([1, 0]))\n",
      "Expected:\n",
      "    Vec([3, 1])\n",
      "Got nothing\n",
      "**********************************************************************\n",
      "1 items had failures:\n",
      "   3 of   7 in __main__.TransAffine2D\n",
      "***Test Failed*** 3 failures.\n"
     ]
    },
    {
     "data": {
      "text/plain": [
       "TestResults(failed=3, attempted=21)"
      ]
     },
     "execution_count": 59,
     "metadata": {},
     "output_type": "execute_result"
    }
   ],
   "source": [
    "testmod()"
   ]
  },
  {
   "cell_type": "markdown",
   "metadata": {},
   "source": [
    "- Quelle est la complexité (en nombre d'additions/multiplications) de :\n",
    "    - la méthode `__add__` pour calculer la somme de deux matrices carrées de taille $n$ ?\n",
    "    - la méthode `__mul__` pour calculer le produit de deux matrices carrées de taille $n$ ?\n",
    "    - la méthode `__mul__` pour calculer le produit d'une matrice carrée de taille $n$ avec un vecteur de taille $n$ ?"
   ]
  },
  {
   "cell_type": "markdown",
   "metadata": {},
   "source": [
    "<span : style = \"color : blue;\">\n",
    "    \n",
    "   * `__add__` : $2n$\n",
    "    \n",
    "   * `__mul__` de deux matrices : $n^{3}$\n",
    "    \n",
    "   * `__mul__` matrice * vecteur : $2n$\n",
    "</span>"
   ]
  },
  {
   "cell_type": "markdown",
   "metadata": {},
   "source": [
    "## B. Transformations affines"
   ]
  },
  {
   "cell_type": "markdown",
   "metadata": {},
   "source": [
    "### B.1. Quelques résultats théoriques"
   ]
  },
  {
   "cell_type": "markdown",
   "metadata": {},
   "source": [
    "- Une transformation affine du plan est-elle une application linéaire de $\\mathbb{R}^2$ dans $\\mathbb{R}^2$ ?"
   ]
  },
  {
   "cell_type": "markdown",
   "metadata": {},
   "source": [
    "*-- Entrer la réponse ici. --*"
   ]
  },
  {
   "cell_type": "markdown",
   "metadata": {},
   "source": [
    "- Montrer que la composition de deux transformations affines du plan est-encore une transformation affine du plan."
   ]
  },
  {
   "cell_type": "markdown",
   "metadata": {},
   "source": [
    "*-- Entrer la réponse ici. --*"
   ]
  },
  {
   "cell_type": "markdown",
   "metadata": {},
   "source": [
    "**Translations**\n",
    "\n",
    "Soit $v \\in \\mathbb{R}^2$. On appelle **translation de vecteur $v$** la transformation affine où $A$ est la matrice identité et $b =v$. On la note $T_v$.\n",
    "\n",
    "- Quelle est l'application réciproque de $T_v$ ? Justifier en vérifiant que la composée de $T_v$ et de sa réciproque est bien égale à l'application identité. (Indication : D'un point de vue géométrique, l'application réciproque \"ramène\" un point à sa position initiale.)"
   ]
  },
  {
   "cell_type": "markdown",
   "metadata": {},
   "source": [
    "*-- Entrer la réponse ici. --*"
   ]
  },
  {
   "cell_type": "markdown",
   "metadata": {},
   "source": [
    "**Rotations**\n",
    "\n",
    "On appelle **rotation de centre l'origine et d'angle $\\theta$** la transformation affine où $\\displaystyle A = \\begin{pmatrix}\n",
    "\\cos \\theta & -\\sin \\theta \\\\\n",
    "\\sin \\theta & \\cos \\theta \\\\\n",
    "\\end{pmatrix}$ et $b$ est le vecteur nul. On la note $R_\\theta$.\n",
    "\n",
    "- Quelle est l'application réciproque de $R_\\theta$ ? Justifier en vérifiant que la composée de $R_\\theta$ et de sa réciproque est bien égale à l'application identité "
   ]
  },
  {
   "cell_type": "markdown",
   "metadata": {},
   "source": [
    "*-- Entrer la réponse ici. --*"
   ]
  },
  {
   "cell_type": "markdown",
   "metadata": {},
   "source": [
    "* La rotation de centre $C$ et d'angle $\\theta$ est l'applcation $\n",
    "T_{\\vec{OC}} \\circ R_{\\theta} \\circ T_{\\vec{CO}}$. Exprimer cette application sous la forme $x \\mapsto Ax + b$."
   ]
  },
  {
   "cell_type": "markdown",
   "metadata": {},
   "source": [
    "*-- Entrer la réponse ici. --*"
   ]
  },
  {
   "cell_type": "markdown",
   "metadata": {},
   "source": [
    "**D'autres transformations**\n",
    "\n",
    "* Comment interpréter géométriquement les transformations affines suivantes ?\n",
    "    - $\\displaystyle A = \\begin{pmatrix}\n",
    "    1 & 0 \\\\\n",
    "    0 & -1 \\\\\n",
    "    \\end{pmatrix}$ et $b$ est le vecteur nul\n",
    "    - $\\displaystyle A = \\begin{pmatrix}\n",
    "    0 & 0 \\\\\n",
    "    0 & 1 \\\\\n",
    "    \\end{pmatrix}$ et $b$ est le vecteur nul\n",
    "    - $\\displaystyle A = \\begin{pmatrix}\n",
    "    2 & 0 \\\\\n",
    "    0 & 2 \\\\\n",
    "    \\end{pmatrix}$ et $b$ est le vecteur nul"
   ]
  },
  {
   "cell_type": "markdown",
   "metadata": {},
   "source": [
    "*-- Entrer la réponse ici. --*"
   ]
  },
  {
   "cell_type": "markdown",
   "metadata": {},
   "source": [
    "### B.2. Classes pour les transformations affines\n",
    "\n",
    "Nous allons maintenant écrire des classes permettant de représenter et manipuler des transformations affines quelconques (`TransAffine2D`), des rotations (`Rotation2D`) et des translations (`Translation2D`). \n",
    "\n",
    "Pour éviter de dupliquer du code, nous utiliserons le principe *d'héritage* (voir document sur la page du cours). Les classes `Rotation2D` et `Translation2D` hériteront des méthodes de `TransAffine2D`.\n",
    "\n",
    "- Compléter les classes suivantes de manière à ce que tous les doctests fonctionnent.\n",
    "\n",
    "#### Classe générale"
   ]
  },
  {
   "cell_type": "code",
   "execution_count": 71,
   "metadata": {},
   "outputs": [],
   "source": [
    "class TransAffine2D:\n",
    "    \"\"\"Transformation affine (quelconque) du plan.\n",
    "    \n",
    "    >>> A = Mat([[1, -1], [1, 1]])\n",
    "    >>> b = Vec([1, -1])\n",
    "    >>> phi = TransAffine2D(A, b)\n",
    "    >>> phi.applique(Vec([0, 1]))\n",
    "    Vec([0, 0])\n",
    "    >>> phi.applique(Vec([1, 0]))\n",
    "    Vec([2, 0])\n",
    "    \n",
    "    >>> phi2 = phi.compose(phi)\n",
    "    >>> phi2.applique(Vec([1, 0]))\n",
    "    Vec([3, 1])\n",
    "    \"\"\"\n",
    "    \n",
    "    def __init__(self, mat=None, vec=None):\n",
    "        # par défaut, on construit la transformation identité\n",
    "        self.mat = Mat([[1, 0], [0, 1]]) if mat is None else mat\n",
    "        self.vec = Vec([0, 0]) if vec is None else vec\n",
    "        \n",
    "    def __repr__(self):\n",
    "        return \"TransAffine2D({}, {})\".format(\n",
    "            repr(self.mat), repr(self.vec))\n",
    "    \n",
    "    def compose(self, other):\n",
    "        \"\"\"Construit la transformation (self o other).\n",
    "        \n",
    "        Attention à l'ordre ! La transformation composée\n",
    "        revient à appliquer d'abord other, puis self.\n",
    "        \"\"\"\n",
    "        mat = self.mat * other.mat\n",
    "        vec = self.mat * other.vec + self.vec\n",
    "        return TransAffine2D(mat, vec)\n",
    "    \n",
    "    def applique(self, vecteur):\n",
    "        \"\"\"Applique la transformation self à vecteur.\"\"\"\n",
    "        return self.mat * vecteur + self.vec"
   ]
  },
  {
   "cell_type": "code",
   "execution_count": 72,
   "metadata": {},
   "outputs": [
    {
     "data": {
      "text/plain": [
       "Vec([0, -1])"
      ]
     },
     "execution_count": 72,
     "metadata": {},
     "output_type": "execute_result"
    }
   ],
   "source": [
    "A = Mat([[1, -1], [1, 1]])\n",
    "b = Vec([1, -1])\n",
    "phi = TransAffine2D(A, b)\n",
    "phi.applique(Vec([0, 1]))"
   ]
  },
  {
   "cell_type": "markdown",
   "metadata": {},
   "source": [
    "#### Rotations"
   ]
  },
  {
   "cell_type": "code",
   "execution_count": null,
   "metadata": {},
   "outputs": [],
   "source": [
    "from math import cos, sin, pi\n",
    "\n",
    "class Rotation2D(TransAffine2D):\n",
    "    \"\"\"Rotation déterminée par un centre (vecteur 2D) et un angle.\n",
    "    \n",
    "    Cette classe hérite de TransAffine2D et ses instances ont \n",
    "    les mêmes attributs mat et vec.\n",
    "    \n",
    "    >>> r = Rotation2D(Vec([1, 1]), pi/2)\n",
    "    >>> r.applique(Vec([0, 0]))\n",
    "    Vec([2.0, 0.0])\n",
    "    \n",
    "    >>> r2 = r.compose(r)\n",
    "    >>> r2.applique(Vec([0, 0]))\n",
    "    Vec([2.0, 2.0])\n",
    "    \"\"\"\n",
    "    def __init__(self, centre, angle):\n",
    "        self.centre = centre\n",
    "        self.angle = angle\n",
    "        \n",
    "        self.mat = # à compléter\n",
    "        self.vec = # à compléter\n",
    "        \n",
    "    def __repr__(self):\n",
    "        return \"Rotation2D({}, {})\".format(repr(self.centre), repr(self.angle))"
   ]
  },
  {
   "cell_type": "markdown",
   "metadata": {},
   "source": [
    "#### Translations"
   ]
  },
  {
   "cell_type": "code",
   "execution_count": null,
   "metadata": {},
   "outputs": [],
   "source": [
    "class Translation2D(TransAffine2D):\n",
    "    \"\"\"Translation définie par un vecteur.\n",
    "    \n",
    "    >>> t = Translation2D(Vec([1, 0]))\n",
    "    >>> t.applique(Vec([0, 0]))\n",
    "    Vec([1, 0])\n",
    "    \"\"\"\n",
    "    def __init__(self, vec):\n",
    "        self.mat = # à compléter\n",
    "        self.vec = # à compléter\n",
    "        \n",
    "    def __repr__(self):\n",
    "        return \"Translation2D({})\".format(repr(self.vec))"
   ]
  },
  {
   "cell_type": "code",
   "execution_count": null,
   "metadata": {},
   "outputs": [],
   "source": [
    "from doctest import testmod\n",
    "testmod()"
   ]
  },
  {
   "cell_type": "markdown",
   "metadata": {},
   "source": [
    "#### Essais\n",
    "\n",
    "Pour mieux visualiser l'effet de certaines transformations affines, nous allons dessiner grâce à `matplotlib` l'effet d'une transformation sur un polygone. Pour cela, nous définissons d'abord une classe `Polygone`."
   ]
  },
  {
   "cell_type": "code",
   "execution_count": null,
   "metadata": {},
   "outputs": [],
   "source": [
    "from matplotlib.patches import Polygon\n",
    "\n",
    "class Polygone:\n",
    "    \"\"\"Polygone composé d'une liste de Vec vus comme des points.\"\"\"\n",
    "    def __init__(self, points):\n",
    "        self.points = [] if points is None else points\n",
    "        \n",
    "    def transforme(self, trans):\n",
    "        \"\"\"Applique la transformation trans à chaque point.\"\"\"\n",
    "        points = map(trans.applique, self.points)\n",
    "        return Polygone(list(points))\n",
    "    \n",
    "    def trace(self, left=0, right=1, top=1, bottom=0):\n",
    "        \"\"\"Trace self sur un graphique matplotlib.\n",
    "        \n",
    "        Les paramètres left, right, bottom et top permettent de spécifier\n",
    "        la portion du plan dessinée.\"\"\"\n",
    "        pts  = []\n",
    "        for v in self.points:\n",
    "            pts.append((v.coeff[0], v.coeff[1]))\n",
    "        fig, ax = plt.subplots()\n",
    "        ax.axis('equal')\n",
    "        ax.set(xlim=(left, right), ylim=(bottom, top))\n",
    "        ax.grid()\n",
    "        ax.add_patch(Polygon(pts, closed=True))\n",
    "        plt.show()"
   ]
  },
  {
   "cell_type": "markdown",
   "metadata": {},
   "source": [
    " Voici un polygone `P` et son tracé."
   ]
  },
  {
   "cell_type": "code",
   "execution_count": null,
   "metadata": {},
   "outputs": [],
   "source": [
    "from matplotlib import pyplot as plt\n",
    "\n",
    "P = Polygone([Vec([0, 0]), Vec([2, 0]), Vec([2, 1]),\n",
    "              Vec([1, 1]), Vec([0, 3]), Vec([0, 1])])\n",
    "\n",
    "P.trace(left=-5, right = 5, bottom=-5, top=5)"
   ]
  },
  {
   "cell_type": "markdown",
   "metadata": {},
   "source": [
    "- En utilisant les classes `Rotation2D`, `Translation2D` ou `TransAffine2D`, dessiner l'image du polygone `P` par :\n",
    "    - une rotation de centre $(-1, 0)$ et d'angle $\\pi/2$ ;\n",
    "    - une translation de vecteur $(-1, 2)$ ; \n",
    "    - une symétrie centrale de centre $(0, 0)$ ;\n",
    "    - une symétrie axiale par rapport à l'axe $x$."
   ]
  },
  {
   "cell_type": "code",
   "execution_count": null,
   "metadata": {},
   "outputs": [],
   "source": [
    "# transformation tr1 à définir\n",
    "P1 = P.transforme(tr1)\n",
    "P1.trace(left=-5, right = 5, bottom=-5, top=5)"
   ]
  },
  {
   "cell_type": "markdown",
   "metadata": {},
   "source": [
    "## C. Application : jeu de vaisseau 2D\n",
    "\n",
    "Pour terminer, voici une ébauche de code d'un petit jeu vidéo de vaisseau spatial. On y utilise directement le module `tkinter` (et non `fltk` comme en L1). Un objet `Canvas` est créé et des *listeners* sont définis pour la gestion des évènements.\n",
    "\n",
    "Ce code est fonctionnel sous réserve que les classes `Vec`, `Rotation2D` et `Translation2D` aient été correctement programmées. \n",
    "\n",
    "Dans un premier temps, il suffit de tester ce code et de vérifier qu'il fonctionne. Les touches permettant de contrôler le vaisseau sont : `haut` (accélérer), `gauche` (virer à babord), `droite` (virer à tribord). Le vaisseau subit l'attraction gravitationnelle de la planète centrale."
   ]
  },
  {
   "cell_type": "markdown",
   "metadata": {},
   "source": [
    "#### Polygones\n",
    "\n",
    "Nous redéfinissons la classe Polygone afin de pouvoir dessiner sur un canevas `tkinter`."
   ]
  },
  {
   "cell_type": "code",
   "execution_count": null,
   "metadata": {},
   "outputs": [],
   "source": [
    "class Polygone:\n",
    "    def __init__(self, points):\n",
    "        self.points = [] if points is None else points\n",
    "        \n",
    "    def transforme(self, trans):\n",
    "        points = map(trans.applique, self.points)\n",
    "        return Polygone(list(points))\n",
    "    \n",
    "    def dessine(self, canevas, etiquette):\n",
    "        coords = []\n",
    "        for p in self.points:\n",
    "            coords.append(p.coeff[0])\n",
    "            coords.append(p.coeff[1])\n",
    "        canevas.create_polygon(\n",
    "            coords, fill=\"gray\", outline=\"black\", width=2, \n",
    "            tag=etiquette)"
   ]
  },
  {
   "cell_type": "markdown",
   "metadata": {},
   "source": [
    "#### Vaisseaux\n",
    "\n",
    "La dynamique du vaisseau obéit à la seconde loi de Newton (sous forme simplifiée) : l'accélération est proportionnelle à la somme des forces qui s'appliquent sur le vaisseau. Couplé à une boucle principale régulière, cela suffit à donner une impression de mouvement réaliste."
   ]
  },
  {
   "cell_type": "code",
   "execution_count": null,
   "metadata": {},
   "outputs": [],
   "source": [
    "class Vaisseau:\n",
    "    coef_acceleration = 0.05\n",
    "    coef_rotation = 0.0003\n",
    "    \n",
    "    forme_defaut = Polygone([Vec([-15, 10]), Vec([20, 0]), Vec([-15, -10])])\n",
    "    \n",
    "    def __init__(self, jeu, etiquette,\n",
    "                 position=None, vitesse=None, \n",
    "                 direction=0, rotation=0,\n",
    "                 forme=None):\n",
    "        self.jeu = jeu\n",
    "        self.etiquette = etiquette\n",
    "        self.position = Vec([0, 0]) if position is None else position\n",
    "        self.vitesse = Vec([0, 0]) if vitesse is None else vitesse\n",
    "        self.direction = direction\n",
    "        self.rotation = rotation\n",
    "        self.forme = Vaisseau.forme_defaut if forme is None else forme\n",
    "    \n",
    "    def deplace(self):\n",
    "        self.position += self.vitesse\n",
    "        self.direction += self.rotation\n",
    "        \n",
    "    def accelere(self):\n",
    "        vect = Vec([cos(self.direction), sin(self.direction)])\n",
    "        self.vitesse += vect * Vaisseau.coef_acceleration            \n",
    "    \n",
    "    def babord(self):\n",
    "        self.rotation -= Vaisseau.coef_rotation\n",
    "        \n",
    "    def tribord(self):\n",
    "        self.rotation += Vaisseau.coef_rotation\n",
    "        \n",
    "    def gravite(self, other):\n",
    "        v = other.position - self.position\n",
    "        d = max(v.norme(), other.rayon)  # pour éviter des effets bizarres\n",
    "        self.vitesse += v * other.masse * (1 / d ** 3)\n",
    "    \n",
    "    def dessine(self):\n",
    "        self.jeu.canevas.delete(self.etiquette)\n",
    "        rot = Rotation2D(Vec([0, 0]), self.direction)\n",
    "        trans = Translation2D(self.position)\n",
    "        poly = self.forme.transforme(trans.compose(rot))\n",
    "        poly.dessine(self.jeu.canevas, self.etiquette)"
   ]
  },
  {
   "cell_type": "markdown",
   "metadata": {},
   "source": [
    "#### Planètes"
   ]
  },
  {
   "cell_type": "code",
   "execution_count": null,
   "metadata": {},
   "outputs": [],
   "source": [
    "class Planete:\n",
    "    \n",
    "    def __init__(self, jeu, etiquette, position, masse, rayon):\n",
    "        self.jeu = jeu\n",
    "        self.etiquette = etiquette\n",
    "        self.position = position\n",
    "        self.masse = masse\n",
    "        self.rayon = rayon\n",
    "        \n",
    "    def dessine(self):\n",
    "        self.jeu.canevas.delete(self.etiquette)\n",
    "        x, y = self.position.coeff[0], self.position.coeff[1]\n",
    "        r = self.rayon\n",
    "        self.jeu.canevas.create_oval(x - r, y - r, x + r, y + r,\n",
    "                                     fill=\"gray\", outline=\"black\", width=2,\n",
    "                                     tag=self.etiquette)"
   ]
  },
  {
   "cell_type": "markdown",
   "metadata": {},
   "source": [
    "#### Interface et boucle principale du jeu"
   ]
  },
  {
   "cell_type": "code",
   "execution_count": null,
   "metadata": {},
   "outputs": [],
   "source": [
    "import tkinter as tk\n",
    "\n",
    "class Jeu:\n",
    "    \n",
    "    def __init__(self, largeur, hauteur):\n",
    "        self.largeur = largeur\n",
    "        self.hauteur = hauteur\n",
    "        \n",
    "        self.racine = tk.Tk()\n",
    "        self.canevas = tk.Canvas(self.racine, width=largeur, height=hauteur)\n",
    "        self.canevas.grid(column=0, row=0, sticky=(tk.N, tk.W, tk.E, tk.S))\n",
    "        \n",
    "        self.vaisseau = Vaisseau(self, \"voyager\", \n",
    "                                 Vec([largeur/2, hauteur/3]),\n",
    "                                 Vec([1, 0]))\n",
    "        self.planete = Planete(self, \"terre\", \n",
    "                               Vec([largeur/2, hauteur/2]), 200, 20)\n",
    "\n",
    "        self.pressees = set()\n",
    "        self.keymap = {\n",
    "            \"Up\": self.vaisseau.accelere,\n",
    "            \"Left\": self.vaisseau.babord,\n",
    "            \"Right\": self.vaisseau.tribord\n",
    "        }\n",
    "        self.configure_touches()\n",
    "        \n",
    "    def configure_touches(self):\n",
    "        self.racine.bind(\"<KeyPress>\", lambda e: self.pressees.add(e.keysym))\n",
    "        self.racine.bind(\"<KeyRelease>\", lambda e: self.pressees.discard(e.keysym))\n",
    "\n",
    "    def traite_touches(self):\n",
    "        for touche in self.keymap.keys() & self.pressees:\n",
    "            self.keymap[touche]()\n",
    "        \n",
    "    def tour(self):\n",
    "        self.traite_touches()\n",
    "        self.vaisseau.deplace()\n",
    "        self.vaisseau.dessine()\n",
    "        self.vaisseau.gravite(self.planete)\n",
    "        self.racine.after(20, self.tour)\n",
    "        \n",
    "    def lance(self):\n",
    "        self.tour()\n",
    "        self.planete.dessine()\n",
    "        self.racine.mainloop()"
   ]
  },
  {
   "cell_type": "code",
   "execution_count": null,
   "metadata": {},
   "outputs": [],
   "source": [
    "Jeu(800, 800).lance()"
   ]
  },
  {
   "cell_type": "markdown",
   "metadata": {},
   "source": [
    "* Apporter les améliorations suivantes au jeu.\n",
    "    * Modifier la forme du vaisseau.\n",
    "    * Ajouter la possibilité de décélérer (avec la touche `bas`).\n",
    "    * Arrêter le jeu lorsque le vaisseau sort de la fenêtre.\n",
    "    * Ajouter des obstacles dans la fenêtre (avec arrêt du jeu lorsque le vaisseau entre en collision avec ces obstacles)."
   ]
  },
  {
   "cell_type": "code",
   "execution_count": null,
   "metadata": {},
   "outputs": [],
   "source": []
  },
  {
   "cell_type": "code",
   "execution_count": null,
   "metadata": {},
   "outputs": [],
   "source": []
  },
  {
   "cell_type": "code",
   "execution_count": null,
   "metadata": {},
   "outputs": [],
   "source": []
  },
  {
   "cell_type": "code",
   "execution_count": null,
   "metadata": {},
   "outputs": [],
   "source": []
  },
  {
   "cell_type": "code",
   "execution_count": null,
   "metadata": {},
   "outputs": [],
   "source": []
  },
  {
   "cell_type": "code",
   "execution_count": null,
   "metadata": {},
   "outputs": [],
   "source": []
  },
  {
   "cell_type": "code",
   "execution_count": null,
   "metadata": {},
   "outputs": [],
   "source": []
  },
  {
   "cell_type": "code",
   "execution_count": null,
   "metadata": {},
   "outputs": [],
   "source": []
  },
  {
   "cell_type": "code",
   "execution_count": null,
   "metadata": {},
   "outputs": [],
   "source": []
  },
  {
   "cell_type": "code",
   "execution_count": null,
   "metadata": {},
   "outputs": [],
   "source": []
  },
  {
   "cell_type": "code",
   "execution_count": null,
   "metadata": {},
   "outputs": [],
   "source": []
  },
  {
   "cell_type": "code",
   "execution_count": null,
   "metadata": {},
   "outputs": [],
   "source": []
  },
  {
   "cell_type": "code",
   "execution_count": null,
   "metadata": {},
   "outputs": [],
   "source": []
  },
  {
   "cell_type": "code",
   "execution_count": null,
   "metadata": {},
   "outputs": [],
   "source": []
  },
  {
   "cell_type": "code",
   "execution_count": null,
   "metadata": {},
   "outputs": [],
   "source": []
  },
  {
   "cell_type": "code",
   "execution_count": null,
   "metadata": {},
   "outputs": [],
   "source": []
  }
 ],
 "metadata": {
  "kernelspec": {
   "display_name": "Python 3",
   "language": "python",
   "name": "python3"
  },
  "language_info": {
   "codemirror_mode": {
    "name": "ipython",
    "version": 3
   },
   "file_extension": ".py",
   "mimetype": "text/x-python",
   "name": "python",
   "nbconvert_exporter": "python",
   "pygments_lexer": "ipython3",
   "version": "3.9.2"
  }
 },
 "nbformat": 4,
 "nbformat_minor": 2
}
