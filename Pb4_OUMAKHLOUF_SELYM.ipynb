{
 "cells": [
  {
   "cell_type": "markdown",
   "metadata": {},
   "source": [
    "# Problème 4 : Générateurs de nombres pseudo-aléatoires"
   ]
  },
  {
   "cell_type": "markdown",
   "metadata": {},
   "source": [
    "La façon la plus courante de simuler des comportements aléatoires dans un programme informatique est d'utiliser un **générateur de nombres pseudo-aléatoires**. \n",
    "\n",
    "Comme son nom l'indique, un générateur de nombres pseudo-aléatoires ne produit pas des nombres réellement aléatoires. Il produit, par une procédure déterministe, une suite de nombres qui *ressemble* à une suite de nombres tirés aléatoirement (selon une loi uniforme sur une certaine plage de nombres).\n",
    "\n",
    "A partir d'un générateur de nombres pseudo-aléatoires, il est ensuite possible de construire d'autres fonctions aléatoires : des fonctions tirant des nombres aléatoirement selon d'autres loi, des fonctions tirant des éléments aléatoirement dans une liste, des fonctions mélangeant aléatoirement une liste, etc.\n",
    "\n",
    "Dans ce problème, nous allons programmer et étudier un certain type de générateurs : les générateurs à congruence linéaire. Nous utiliserons ensuite ce type de générateurs dans différentes applications.\n",
    "\n",
    "Pour plus d'informations sur les générateurs pseudo-aléatoires, nous renvoyons au document *Simulation aléatoire* sur la page du cours."
   ]
  },
  {
   "cell_type": "markdown",
   "metadata": {},
   "source": [
    "## A. Générateurs à congruence linéaire\n",
    "\n",
    "Un générateur produit les nombres pseudo-aléatoires de manière séquentielle. Il garde toujours en mémoire le dernier nombre produit (ou les derniers nombres produits). Quand un nouveau nombre est demandé par l'utilisateur, le générateur applique une certaine transformation au dernier nombre produit (ou aux derniers nombres produits) et renvoie le résultat comme nouveau nombre.\n",
    "\n",
    "Pour initialiser le processus de génération des nombres, un premier nombre doit être fourni au générateur. Ce nombre initial est appelée **graine** (**seed** en anglais). En prenant la même graine à chaque utilisation, on obtiendrait toujours la même suite de nombres, ce qui serait bien peu aléatoire ! En pratique, la graine est donc créée automatiquement à partir de données aléatoires du système (le temps en millisecondes écoulé depuis une date de référence par exemple). Elle peut néanmoins être fixée par l'utilisateur. Pour faire des tests ou du débogage, il est en effet utile de pouvoir générer plusieurs fois la même suite de nombres pseudo-aléatoires.\n",
    "\n",
    "Dans le cas des **générateurs à congruence linéaire**, seul le dernier nombre produit est gardé en mémoire. La transformation appliquée au dernier nombre pour en produire un nouveau est de la forme :\n",
    "\n",
    "\\begin{equation}\n",
    "\\tag{$\\star\\star$}\n",
    "\\varphi : x \\mapsto ax+c \\ \\operatorname{mod} m\n",
    "\\end{equation}\n",
    "\n",
    "où $m \\in \\mathbb{N}^*$, $a\\in\\{1,\\ldots,m-1\\}$, $c\\in\\{0,\\ldots,m-1\\}$ et $\\operatorname{mod} m$ désigne le reste modulo $m$.\n",
    "\n",
    "Les nombres $a$, $c$, $m$ sont appelés les **paramètres** du générateur.\n",
    "\n",
    "En termes mathématiques, les nombres pseudo-aléatoires produits par un générateur à congruence linéaire forment une suite récurrente $(x_n)_{n\\in \\mathbb{N}}$ définie par :\n",
    "\n",
    "\\begin{equation}\n",
    "\\tag{$\\star$}\n",
    "\\begin{cases}\n",
    "x_0=d\\\\\n",
    "x_{n+1}=\\varphi(x_n)\n",
    "\\end{cases}\n",
    "\\end{equation}\n",
    "\n",
    "où $d$ est la graine.\n",
    "\n",
    "Un générateur à congruence linéaire de paramètres $a$, $c$, $m$ produit des nombres pseudo-aléatoires dans l'ensemble $\\{0,\\ldots,m-1\\}$. Ces nombres pseudo-aléatoires sont censés ressembler à des nombres tirés aléatoirement dans $\\{0,\\ldots,m-1\\}$ selon une loi uniforme."
   ]
  },
  {
   "cell_type": "markdown",
   "metadata": {},
   "source": [
    "### A.1. Classe `GCL`\n",
    "\n",
    "Nous allons d'abord écrire une classe `GCL` pour créer et utiliser des générateurs à congruence linéaire. Un générateur à congruence linéaire sera représenté par les attributs suivants :\n",
    "\n",
    " `a`, `c` et `m` : les paramètres du générateur ;\n",
    " \n",
    " `value` : la valeur *courante* du générateur (c'est-à-dire la dernière valeur pseudo-aléatoire calculée).\n",
    " \n",
    "- Créer une classe `GCL` contenant :\n",
    "    * la méthode de construction `__init__` ;\n",
    "    * une méthode `random` ;\n",
    "    * une méthode `seed`.\n",
    "\n",
    "La méthode `__init__` de cette classe prendra en paramètres les paramètres du générateur. Par défaut, la valeur initiale (la graine) du générateur sera produite en utilisant la fonction `time` du module `time`.\n",
    "\n",
    "La méthode `random` appliquera la fontion $\\varphi$ à la valeur courante et renverra cette nouvelle valeur.\n",
    "\n",
    "La méthode `seed` prendra en paramètre une valeur entière et réinitialisera le générateur avec cette valeur entière comme graine (autrement dit, elle remplacera la valeur courante par la valeur fournie).\n",
    "        \n",
    "Avec cette classe, voilà par exemple comment créer un générateur de paramètres $(5,1,16)$ et afficher les 2 premiers nombres pseudo-aléatoires produits par ce générateur\n",
    "```python\n",
    "\n",
    "rd = GCL(5, 1, 16)\n",
    "print(rd.random())\n",
    "print(rd.random())\n",
    "```"
   ]
  },
  {
   "cell_type": "code",
   "execution_count": 35,
   "metadata": {},
   "outputs": [],
   "source": [
    "from time import time\n",
    "from random import uniform, randint, choice\n",
    "\n",
    "class GCL:\n",
    "    \n",
    "    def __init__(self, a : int, c : int, m : int):\n",
    "        self.a = a\n",
    "        self.c = c\n",
    "        self.m = m\n",
    "        self.value = int(time())\n",
    "        \n",
    "    def random(self):\n",
    "        self.value = (self.a * self.value + self.c) % self.m\n",
    "        return self.value\n",
    "        \n",
    "    def seed(self, entier : int):\n",
    "        self.value = (self.a * self.value + self.c) % self.m\n",
    "        \n",
    "    def uniform(self, a, b):\n",
    "        var = self.random() / self.m\n",
    "        return a + var * (b - a)\n",
    "    \n",
    "    def randint(self, a, b):\n",
    "        tmp = self.uniform(a, b)\n",
    "        if tmp < 0 :\n",
    "            return int(tmp - 1)\n",
    "        return int(tmp)\n",
    "        \n",
    "    def choice(self, lst :list):\n",
    "        indice = self.randint(0, len(lst) - 1)\n",
    "        return lst[indice]\n",
    "    \n",
    "    def sample(self, lst : list, k : int):\n",
    "        lst2 = []\n",
    "        for i in range(k) :\n",
    "            indice = self.randint(0, len(lst) - 1)\n",
    "            lst2.append(lst[indice])\n",
    "        return lst2"
   ]
  },
  {
   "cell_type": "code",
   "execution_count": 4,
   "metadata": {},
   "outputs": [
    {
     "name": "stdout",
     "output_type": "stream",
     "text": [
      "12.168073654174805\n"
     ]
    }
   ],
   "source": [
    "rd = GCL(5, 1, 16)\n",
    "print(rd.random())"
   ]
  },
  {
   "cell_type": "markdown",
   "metadata": {},
   "source": [
    "- Créer un générateur `rd` de paramètres $(5,1,16)$ et afficher les 20 premiers nombres pseudo-aléatoires produits par ce générateur."
   ]
  },
  {
   "cell_type": "code",
   "execution_count": 38,
   "metadata": {},
   "outputs": [
    {
     "name": "stdout",
     "output_type": "stream",
     "text": [
      "10\n",
      "3\n",
      "0\n",
      "1\n",
      "6\n",
      "15\n",
      "12\n",
      "13\n",
      "2\n",
      "11\n",
      "8\n",
      "9\n",
      "14\n",
      "7\n",
      "4\n",
      "5\n",
      "10\n",
      "3\n",
      "0\n",
      "1\n"
     ]
    }
   ],
   "source": [
    "rd = GCL(5, 1, 16)\n",
    "\n",
    "for i in range(20):\n",
    "    print(rd.random())"
   ]
  },
  {
   "cell_type": "markdown",
   "metadata": {},
   "source": [
    "- Fixer la graine du générateur à 10. Afficher les 20 premiers nombres pseudo-aléatoires produits par ce générateur avec cette graine."
   ]
  },
  {
   "cell_type": "code",
   "execution_count": 40,
   "metadata": {},
   "outputs": [
    {
     "name": "stdout",
     "output_type": "stream",
     "text": [
      "8\n",
      "9\n",
      "14\n",
      "7\n",
      "4\n",
      "5\n",
      "10\n",
      "3\n",
      "0\n",
      "1\n",
      "6\n",
      "15\n",
      "12\n",
      "13\n",
      "2\n",
      "11\n",
      "8\n",
      "9\n",
      "14\n",
      "7\n"
     ]
    }
   ],
   "source": [
    "rd.seed(10)\n",
    "\n",
    "for y in range(20):\n",
    "    print(rd.random())"
   ]
  },
  {
   "cell_type": "markdown",
   "metadata": {},
   "source": [
    "### A.2. Période des suites générées"
   ]
  },
  {
   "cell_type": "markdown",
   "metadata": {},
   "source": [
    "* Rappeler la définition d'une suite **périodique** et la définition de la **période** d'une suite périodique."
   ]
  },
  {
   "cell_type": "markdown",
   "metadata": {},
   "source": [
    "<span style = \"color : blue;\">\n",
    "    Une <strong>suite périodique</strong> est une suite dont les termes sont obtenus par la répétition d'un même motif d'une ou plusieurs valeurs.\n",
    "    \n",
    "La <strong>période</strong> est la taille du plus petit motif dont la répétition engendre la suite.\n",
    "</span>"
   ]
  },
  {
   "cell_type": "markdown",
   "metadata": {},
   "source": [
    "* Montrer qu'une suite récurrente qui prend la même valeur à deux rangs distincts $n_1$ et $n_2$ est nécessairement périodique (à partir du rang $n_1$). Que peut-on dire de sa période ?"
   ]
  },
  {
   "cell_type": "markdown",
   "metadata": {},
   "source": [
    "Soit $(u_n)_{n\\in \\mathbb{N}}$ une suite récurrente telle que $u_{n+1} = \\varphi(u_n)$.\n",
    "\n",
    "*-- Entrer la réponse ici. --*"
   ]
  },
  {
   "cell_type": "markdown",
   "metadata": {},
   "source": [
    "Le **principe des tiroirs** énonce que si l'on range $n$ chaussettes dans $m$ tiroirs (avec $n>m$), alors il y au moins un tiroir contenant plus d'une chaussette.\n",
    "\n",
    "Par exemple, si l'on considère $n$ nombres ne pouvant prendre que $m$ valeurs différentes (avec $n>m$), alors, d'après le principe des tiroirs, il y a nécessairement deux nombres ayant la même valeur. "
   ]
  },
  {
   "cell_type": "markdown",
   "metadata": {},
   "source": [
    "* Soit $(x_n)_{n\\in\\mathbb{N}}$ une suite du type $(\\star)$. En appliquant le principe de tiroirs aux nombres $x_0, x_1, \\ldots, x_m$, montrer que la suite $(x_n)_{n\\in\\mathbb{N}}$ est périodique (à partir d'un certain rang). Que peut-on dire de sa période ?"
   ]
  },
  {
   "cell_type": "markdown",
   "metadata": {},
   "source": [
    "*-- Entrer la réponse ici. --*"
   ]
  },
  {
   "cell_type": "markdown",
   "metadata": {},
   "source": [
    "Il est préférable d'utiliser un générateur qui produit des suites de périodes les plus longues possibles. On dit qu'un générateur de paramètres $(a,c,m)$ est de **période maximale** s'il produit des suites de période $m$ pour toutes les graines.\n",
    "\n",
    "On peut démontrer que si un générateur produit une suite de période $m$ pour une graine particulière, alors il produit des suites de période $m$ pour toutes les graines."
   ]
  },
  {
   "cell_type": "markdown",
   "metadata": {},
   "source": [
    "- Pour chacun des paramètres ci-dessous, déterminer (expérimentalement) si le générateur à congruence linéaire associé est de période maximale.\n",
    "    - $(5, 4, 8)$\n",
    "    - $(5, 5, 8)$\n",
    "    - $(5, 1, 16)$\n",
    "    - $(7, 1, 16)$"
   ]
  },
  {
   "cell_type": "code",
   "execution_count": 45,
   "metadata": {},
   "outputs": [
    {
     "name": "stdout",
     "output_type": "stream",
     "text": [
      "6\n",
      "3\n",
      "4\n",
      "1\n",
      "2\n",
      "7\n",
      "0\n",
      "5\n",
      "6\n",
      "3\n",
      "4\n",
      "1\n",
      "2\n",
      "7\n",
      "0\n",
      "5\n",
      "6\n"
     ]
    }
   ],
   "source": [
    "rd01 = GCL(5, 4, 8)\n",
    "rd02 = GCL(5, 5, 8)\n",
    "rd03 = GCL(5, 1, 16)\n",
    "rd04 = GCL(7, 1, 16)\n",
    "\n",
    "for i in range(17):\n",
    "    \n",
    "    #print(rd01.random())\n",
    "    print(rd02.random())\n",
    "    #print(rd03.random())\n",
    "    #print(rd04.random())"
   ]
  },
  {
   "cell_type": "markdown",
   "metadata": {},
   "source": [
    "<span style = \"color : blue;\">\n",
    "Le générateur $(5, 4, 8)$ n'est pas de période maximale.\n",
    "    \n",
    "Le générateur $(5, 5, 8)$ est de période maximale.\n",
    "    \n",
    "Le générateur $(5, 1, 16)$ produit des suites de période $16$ pour toutes les graines, il est de période maximale\n",
    "    \n",
    "Le générateur $(7, 1, 16)$ n'est pas de période maximale.\n",
    "</span>"
   ]
  },
  {
   "cell_type": "markdown",
   "metadata": {},
   "source": [
    "On dispose du théorème suivant pour déterminer si un générateur est de période maximale.\n",
    "\n",
    "**Théorème.** Dans le cas où $m=2^e$, avec $e$ un paramètre donné, un générateur est de période maximale si et seulement si $c$ est impair et $a \\equiv 1 [4]$. \n",
    "\n",
    "* Vérifier qu'en appliquant ce théorème aux 4 générateurs précédents, on retrouve les résultats déterminés expérimentalement."
   ]
  },
  {
   "cell_type": "markdown",
   "metadata": {},
   "source": [
    "<span style = \"color : blue;\">\n",
    "Générateur $(5, 4, 8)$ : $c = 4$, $4$ est paire, ce n'est pas un générateur aléatoire.\n",
    "    \n",
    "Générateur $(5, 5, 8)$ : $5 - 1 = 4$, $ 4$ est multiple de $4$, $c = 5$ est impaire, $8 = 2^{3}$, générateur de période maximale.\n",
    "    \n",
    "Générateur $(5, 1, 16)$ : $5 - 1 = 4$, $ 4$ est multiple de $4$, $c = 1$ est impaire, $16 = 2^{4}$, générateur de période maximale.\n",
    "    \n",
    "Générateur $(7, 1, 16)$ : $7 - 1 = 6$, $ 6$ n'est pas multiple de $4$, ce n'est pas une générateur de période maximale.\n",
    "    \n",
    "</span>"
   ]
  },
  {
   "cell_type": "markdown",
   "metadata": {},
   "source": [
    "### A.3. Tests de quelques générateurs à congruence linéaire"
   ]
  },
  {
   "cell_type": "markdown",
   "metadata": {},
   "source": [
    "- Créer les générateurs à congruence linéaire de paramètres suivants :\n",
    "    - `rd1` : $(9,5,2^{31})$\n",
    "    - `rd2` : $(11,5,2^{31})$\n",
    "    - `rd3` : $(1664523,1013904223,2^{31})$\n",
    "    - `rd4` : $(1664525,1013904223,2^{31})$"
   ]
  },
  {
   "cell_type": "code",
   "execution_count": 8,
   "metadata": {},
   "outputs": [
    {
     "name": "stdout",
     "output_type": "stream",
     "text": [
      "période max\n"
     ]
    }
   ],
   "source": [
    "rd1 = GCL(9, 5, 2 ** 31)\n",
    "rd2 = GCL(11, 5, 2 ** 31)\n",
    "rd3 = GCL(1664523, 1013904223, 2 ** 31)\n",
    "rd4 = GCL(1664525, 1013904223, 2 ** 31)\n",
    "\n",
    "if (1664525 - 1) % 4 == 0 :\n",
    "    print(\"période max\")\n",
    "else :\n",
    "    print(\"pas max\")"
   ]
  },
  {
   "cell_type": "markdown",
   "metadata": {},
   "source": [
    "* Ces générateurs sont-ils de période maximale ?"
   ]
  },
  {
   "cell_type": "markdown",
   "metadata": {},
   "source": [
    "<span style = \"color : blue;\">\n",
    "    \n",
    "- `rd1` : période max,\n",
    "    \n",
    "- `rd2` : pas de période maximale,\n",
    "    \n",
    "- `rd3` : pas de période maximale,\n",
    "    \n",
    "- `rd4` : période max.\n",
    "    \n",
    "</span>"
   ]
  },
  {
   "cell_type": "markdown",
   "metadata": {},
   "source": [
    "**Premier test.** Soit $n$ un entier fixé et $m$ un entier grand devant $n$. Si l'on tire aléatoirement un nombre $x$ dans $\\{0,\\ldots,m-1\\}$ suivant une loi uniforme, il y a (à peu près) autant de chance que $x \\equiv 0 \\pmod n$ ou que $x \\equiv 1 \\pmod n$ ou que $x \\equiv 2 \\pmod n$, etc. On aimerait donc que les nombres pseudo-aléatoires produits par nos générateurs vérifient aussi cette propriété."
   ]
  },
  {
   "cell_type": "markdown",
   "metadata": {},
   "source": [
    "- Ecrire une fonction `test_modulo` qui tire un échantillon de nombres pseudo-aléatoires produits par un générateur, calcule les congruences modulo $n$ (où $n$ est donné) et affiche la répartition des congruences sous forme d'histogramme. Cette fonction prendra comme paramètres : `rd`, le générateur de nombres pseudo-aléatoires, `nbsample`, la taille de l'échantillon, et `n`, le nombre modulo lequel on calcule les congruences. Indication : Pour tracer l'histogramme, on pourra utiliser la commande `bar` du module `matplotlib.pyplot` (voir document sur Matplotlib sur la page du cours)."
   ]
  },
  {
   "cell_type": "code",
   "execution_count": 9,
   "metadata": {},
   "outputs": [],
   "source": [
    "import matplotlib.pyplot as plt\n",
    "\n",
    "def test_modulo(rd : GCL, nbsample : int, n : int):\n",
    "    \n",
    "    values = []\n",
    "    cmpt = []\n",
    "    for i in range(nbsample) :\n",
    "        cmpt.append(i)\n",
    "        values.append(rd.random() % n)\n",
    "        \n",
    "    plt.bar(cmpt, values)\n",
    "    plt.show()"
   ]
  },
  {
   "cell_type": "markdown",
   "metadata": {},
   "source": [
    "- Tester les différents générateurs pour des congruences modulo 10 avec des échantillons de 10 000 nombres."
   ]
  },
  {
   "cell_type": "code",
   "execution_count": 46,
   "metadata": {},
   "outputs": [
    {
     "ename": "KeyboardInterrupt",
     "evalue": "",
     "output_type": "error",
     "traceback": [
      "\u001b[1;31m---------------------------------------------------------------------------\u001b[0m",
      "\u001b[1;31mKeyboardInterrupt\u001b[0m                         Traceback (most recent call last)",
      "Cell \u001b[1;32mIn [46], line 1\u001b[0m\n\u001b[1;32m----> 1\u001b[0m \u001b[43mtest_modulo\u001b[49m\u001b[43m(\u001b[49m\u001b[43mrd1\u001b[49m\u001b[43m,\u001b[49m\u001b[43m \u001b[49m\u001b[38;5;241;43m10000\u001b[39;49m\u001b[43m,\u001b[49m\u001b[43m \u001b[49m\u001b[38;5;241;43m10\u001b[39;49m\u001b[43m)\u001b[49m\n\u001b[0;32m      2\u001b[0m test_modulo(rd2, \u001b[38;5;241m10000\u001b[39m, \u001b[38;5;241m10\u001b[39m)\n\u001b[0;32m      3\u001b[0m test_modulo(rd3, \u001b[38;5;241m10000\u001b[39m, \u001b[38;5;241m10\u001b[39m)\n",
      "Cell \u001b[1;32mIn [9], line 12\u001b[0m, in \u001b[0;36mtest_modulo\u001b[1;34m(rd, nbsample, n)\u001b[0m\n\u001b[0;32m      9\u001b[0m     values\u001b[38;5;241m.\u001b[39mappend(rd\u001b[38;5;241m.\u001b[39mrandom() \u001b[38;5;241m%\u001b[39m n)\n\u001b[0;32m     11\u001b[0m plt\u001b[38;5;241m.\u001b[39mbar(cmpt, values)\n\u001b[1;32m---> 12\u001b[0m \u001b[43mplt\u001b[49m\u001b[38;5;241;43m.\u001b[39;49m\u001b[43mshow\u001b[49m\u001b[43m(\u001b[49m\u001b[43m)\u001b[49m\n",
      "File \u001b[1;32mc:\\users\\selym\\appdata\\local\\programs\\python\\python39-32\\lib\\site-packages\\matplotlib\\pyplot.py:353\u001b[0m, in \u001b[0;36mshow\u001b[1;34m(*args, **kwargs)\u001b[0m\n\u001b[0;32m    325\u001b[0m \u001b[38;5;124;03m\"\"\"\u001b[39;00m\n\u001b[0;32m    326\u001b[0m \u001b[38;5;124;03mDisplay all open figures.\u001b[39;00m\n\u001b[0;32m    327\u001b[0m \n\u001b[1;32m   (...)\u001b[0m\n\u001b[0;32m    350\u001b[0m \n\u001b[0;32m    351\u001b[0m \u001b[38;5;124;03m\"\"\"\u001b[39;00m\n\u001b[0;32m    352\u001b[0m _warn_if_gui_out_of_main_thread()\n\u001b[1;32m--> 353\u001b[0m \u001b[38;5;28;01mreturn\u001b[39;00m _backend_mod\u001b[38;5;241m.\u001b[39mshow(\u001b[38;5;241m*\u001b[39margs, \u001b[38;5;241m*\u001b[39m\u001b[38;5;241m*\u001b[39mkwargs)\n",
      "File \u001b[1;32mc:\\users\\selym\\appdata\\local\\programs\\python\\python39-32\\lib\\site-packages\\matplotlib_inline\\backend_inline.py:90\u001b[0m, in \u001b[0;36mshow\u001b[1;34m(close, block)\u001b[0m\n\u001b[0;32m     88\u001b[0m \u001b[38;5;28;01mtry\u001b[39;00m:\n\u001b[0;32m     89\u001b[0m     \u001b[38;5;28;01mfor\u001b[39;00m figure_manager \u001b[38;5;129;01min\u001b[39;00m Gcf\u001b[38;5;241m.\u001b[39mget_all_fig_managers():\n\u001b[1;32m---> 90\u001b[0m         \u001b[43mdisplay\u001b[49m\u001b[43m(\u001b[49m\n\u001b[0;32m     91\u001b[0m \u001b[43m            \u001b[49m\u001b[43mfigure_manager\u001b[49m\u001b[38;5;241;43m.\u001b[39;49m\u001b[43mcanvas\u001b[49m\u001b[38;5;241;43m.\u001b[39;49m\u001b[43mfigure\u001b[49m\u001b[43m,\u001b[49m\n\u001b[0;32m     92\u001b[0m \u001b[43m            \u001b[49m\u001b[43mmetadata\u001b[49m\u001b[38;5;241;43m=\u001b[39;49m\u001b[43m_fetch_figure_metadata\u001b[49m\u001b[43m(\u001b[49m\u001b[43mfigure_manager\u001b[49m\u001b[38;5;241;43m.\u001b[39;49m\u001b[43mcanvas\u001b[49m\u001b[38;5;241;43m.\u001b[39;49m\u001b[43mfigure\u001b[49m\u001b[43m)\u001b[49m\n\u001b[0;32m     93\u001b[0m \u001b[43m        \u001b[49m\u001b[43m)\u001b[49m\n\u001b[0;32m     94\u001b[0m \u001b[38;5;28;01mfinally\u001b[39;00m:\n\u001b[0;32m     95\u001b[0m     show\u001b[38;5;241m.\u001b[39m_to_draw \u001b[38;5;241m=\u001b[39m []\n",
      "File \u001b[1;32mc:\\users\\selym\\appdata\\local\\programs\\python\\python39-32\\lib\\site-packages\\IPython\\core\\display_functions.py:298\u001b[0m, in \u001b[0;36mdisplay\u001b[1;34m(include, exclude, metadata, transient, display_id, raw, clear, *objs, **kwargs)\u001b[0m\n\u001b[0;32m    296\u001b[0m     publish_display_data(data\u001b[38;5;241m=\u001b[39mobj, metadata\u001b[38;5;241m=\u001b[39mmetadata, \u001b[38;5;241m*\u001b[39m\u001b[38;5;241m*\u001b[39mkwargs)\n\u001b[0;32m    297\u001b[0m \u001b[38;5;28;01melse\u001b[39;00m:\n\u001b[1;32m--> 298\u001b[0m     format_dict, md_dict \u001b[38;5;241m=\u001b[39m \u001b[38;5;28;43mformat\u001b[39;49m\u001b[43m(\u001b[49m\u001b[43mobj\u001b[49m\u001b[43m,\u001b[49m\u001b[43m \u001b[49m\u001b[43minclude\u001b[49m\u001b[38;5;241;43m=\u001b[39;49m\u001b[43minclude\u001b[49m\u001b[43m,\u001b[49m\u001b[43m \u001b[49m\u001b[43mexclude\u001b[49m\u001b[38;5;241;43m=\u001b[39;49m\u001b[43mexclude\u001b[49m\u001b[43m)\u001b[49m\n\u001b[0;32m    299\u001b[0m     \u001b[38;5;28;01mif\u001b[39;00m \u001b[38;5;129;01mnot\u001b[39;00m format_dict:\n\u001b[0;32m    300\u001b[0m         \u001b[38;5;66;03m# nothing to display (e.g. _ipython_display_ took over)\u001b[39;00m\n\u001b[0;32m    301\u001b[0m         \u001b[38;5;28;01mcontinue\u001b[39;00m\n",
      "File \u001b[1;32mc:\\users\\selym\\appdata\\local\\programs\\python\\python39-32\\lib\\site-packages\\IPython\\core\\formatters.py:178\u001b[0m, in \u001b[0;36mDisplayFormatter.format\u001b[1;34m(self, obj, include, exclude)\u001b[0m\n\u001b[0;32m    176\u001b[0m md \u001b[38;5;241m=\u001b[39m \u001b[38;5;28;01mNone\u001b[39;00m\n\u001b[0;32m    177\u001b[0m \u001b[38;5;28;01mtry\u001b[39;00m:\n\u001b[1;32m--> 178\u001b[0m     data \u001b[38;5;241m=\u001b[39m \u001b[43mformatter\u001b[49m\u001b[43m(\u001b[49m\u001b[43mobj\u001b[49m\u001b[43m)\u001b[49m\n\u001b[0;32m    179\u001b[0m \u001b[38;5;28;01mexcept\u001b[39;00m:\n\u001b[0;32m    180\u001b[0m     \u001b[38;5;66;03m# FIXME: log the exception\u001b[39;00m\n\u001b[0;32m    181\u001b[0m     \u001b[38;5;28;01mraise\u001b[39;00m\n",
      "File \u001b[1;32mc:\\users\\selym\\appdata\\local\\programs\\python\\python39-32\\lib\\site-packages\\decorator.py:232\u001b[0m, in \u001b[0;36mdecorate.<locals>.fun\u001b[1;34m(*args, **kw)\u001b[0m\n\u001b[0;32m    230\u001b[0m \u001b[38;5;28;01mif\u001b[39;00m \u001b[38;5;129;01mnot\u001b[39;00m kwsyntax:\n\u001b[0;32m    231\u001b[0m     args, kw \u001b[38;5;241m=\u001b[39m fix(args, kw, sig)\n\u001b[1;32m--> 232\u001b[0m \u001b[38;5;28;01mreturn\u001b[39;00m caller(func, \u001b[38;5;241m*\u001b[39m(extras \u001b[38;5;241m+\u001b[39m args), \u001b[38;5;241m*\u001b[39m\u001b[38;5;241m*\u001b[39mkw)\n",
      "File \u001b[1;32mc:\\users\\selym\\appdata\\local\\programs\\python\\python39-32\\lib\\site-packages\\IPython\\core\\formatters.py:222\u001b[0m, in \u001b[0;36mcatch_format_error\u001b[1;34m(method, self, *args, **kwargs)\u001b[0m\n\u001b[0;32m    220\u001b[0m \u001b[38;5;124;03m\"\"\"show traceback on failed format call\"\"\"\u001b[39;00m\n\u001b[0;32m    221\u001b[0m \u001b[38;5;28;01mtry\u001b[39;00m:\n\u001b[1;32m--> 222\u001b[0m     r \u001b[38;5;241m=\u001b[39m method(\u001b[38;5;28mself\u001b[39m, \u001b[38;5;241m*\u001b[39margs, \u001b[38;5;241m*\u001b[39m\u001b[38;5;241m*\u001b[39mkwargs)\n\u001b[0;32m    223\u001b[0m \u001b[38;5;28;01mexcept\u001b[39;00m \u001b[38;5;167;01mNotImplementedError\u001b[39;00m:\n\u001b[0;32m    224\u001b[0m     \u001b[38;5;66;03m# don't warn on NotImplementedErrors\u001b[39;00m\n\u001b[0;32m    225\u001b[0m     \u001b[38;5;28;01mreturn\u001b[39;00m \u001b[38;5;28mself\u001b[39m\u001b[38;5;241m.\u001b[39m_check_return(\u001b[38;5;28;01mNone\u001b[39;00m, args[\u001b[38;5;241m0\u001b[39m])\n",
      "File \u001b[1;32mc:\\users\\selym\\appdata\\local\\programs\\python\\python39-32\\lib\\site-packages\\IPython\\core\\formatters.py:339\u001b[0m, in \u001b[0;36mBaseFormatter.__call__\u001b[1;34m(self, obj)\u001b[0m\n\u001b[0;32m    337\u001b[0m     \u001b[38;5;28;01mpass\u001b[39;00m\n\u001b[0;32m    338\u001b[0m \u001b[38;5;28;01melse\u001b[39;00m:\n\u001b[1;32m--> 339\u001b[0m     \u001b[38;5;28;01mreturn\u001b[39;00m \u001b[43mprinter\u001b[49m\u001b[43m(\u001b[49m\u001b[43mobj\u001b[49m\u001b[43m)\u001b[49m\n\u001b[0;32m    340\u001b[0m \u001b[38;5;66;03m# Finally look for special method names\u001b[39;00m\n\u001b[0;32m    341\u001b[0m method \u001b[38;5;241m=\u001b[39m get_real_method(obj, \u001b[38;5;28mself\u001b[39m\u001b[38;5;241m.\u001b[39mprint_method)\n",
      "File \u001b[1;32mc:\\users\\selym\\appdata\\local\\programs\\python\\python39-32\\lib\\site-packages\\IPython\\core\\pylabtools.py:151\u001b[0m, in \u001b[0;36mprint_figure\u001b[1;34m(fig, fmt, bbox_inches, base64, **kwargs)\u001b[0m\n\u001b[0;32m    148\u001b[0m     \u001b[38;5;28;01mfrom\u001b[39;00m \u001b[38;5;21;01mmatplotlib\u001b[39;00m\u001b[38;5;21;01m.\u001b[39;00m\u001b[38;5;21;01mbackend_bases\u001b[39;00m \u001b[38;5;28;01mimport\u001b[39;00m FigureCanvasBase\n\u001b[0;32m    149\u001b[0m     FigureCanvasBase(fig)\n\u001b[1;32m--> 151\u001b[0m fig\u001b[38;5;241m.\u001b[39mcanvas\u001b[38;5;241m.\u001b[39mprint_figure(bytes_io, \u001b[38;5;241m*\u001b[39m\u001b[38;5;241m*\u001b[39mkw)\n\u001b[0;32m    152\u001b[0m data \u001b[38;5;241m=\u001b[39m bytes_io\u001b[38;5;241m.\u001b[39mgetvalue()\n\u001b[0;32m    153\u001b[0m \u001b[38;5;28;01mif\u001b[39;00m fmt \u001b[38;5;241m==\u001b[39m \u001b[38;5;124m'\u001b[39m\u001b[38;5;124msvg\u001b[39m\u001b[38;5;124m'\u001b[39m:\n",
      "File \u001b[1;32mc:\\users\\selym\\appdata\\local\\programs\\python\\python39-32\\lib\\site-packages\\matplotlib\\backend_bases.py:2210\u001b[0m, in \u001b[0;36mFigureCanvasBase.print_figure\u001b[1;34m(self, filename, dpi, facecolor, edgecolor, orientation, format, bbox_inches, pad_inches, bbox_extra_artists, backend, **kwargs)\u001b[0m\n\u001b[0;32m   2207\u001b[0m     _bbox_inches_restore \u001b[38;5;241m=\u001b[39m \u001b[38;5;28;01mNone\u001b[39;00m\n\u001b[0;32m   2209\u001b[0m \u001b[38;5;28;01mtry\u001b[39;00m:\n\u001b[1;32m-> 2210\u001b[0m     result \u001b[38;5;241m=\u001b[39m print_method(\n\u001b[0;32m   2211\u001b[0m         filename,\n\u001b[0;32m   2212\u001b[0m         dpi\u001b[38;5;241m=\u001b[39mdpi,\n\u001b[0;32m   2213\u001b[0m         facecolor\u001b[38;5;241m=\u001b[39mfacecolor,\n\u001b[0;32m   2214\u001b[0m         edgecolor\u001b[38;5;241m=\u001b[39medgecolor,\n\u001b[0;32m   2215\u001b[0m         orientation\u001b[38;5;241m=\u001b[39morientation,\n\u001b[0;32m   2216\u001b[0m         bbox_inches_restore\u001b[38;5;241m=\u001b[39m_bbox_inches_restore,\n\u001b[0;32m   2217\u001b[0m         \u001b[38;5;241m*\u001b[39m\u001b[38;5;241m*\u001b[39mkwargs)\n\u001b[0;32m   2218\u001b[0m \u001b[38;5;28;01mfinally\u001b[39;00m:\n\u001b[0;32m   2219\u001b[0m     \u001b[38;5;28;01mif\u001b[39;00m bbox_inches \u001b[38;5;129;01mand\u001b[39;00m restore_bbox:\n",
      "File \u001b[1;32mc:\\users\\selym\\appdata\\local\\programs\\python\\python39-32\\lib\\site-packages\\matplotlib\\backend_bases.py:1639\u001b[0m, in \u001b[0;36m_check_savefig_extra_args.<locals>.wrapper\u001b[1;34m(*args, **kwargs)\u001b[0m\n\u001b[0;32m   1631\u001b[0m     cbook\u001b[38;5;241m.\u001b[39mwarn_deprecated(\n\u001b[0;32m   1632\u001b[0m         \u001b[38;5;124m'\u001b[39m\u001b[38;5;124m3.3\u001b[39m\u001b[38;5;124m'\u001b[39m, name\u001b[38;5;241m=\u001b[39mname,\n\u001b[0;32m   1633\u001b[0m         message\u001b[38;5;241m=\u001b[39m\u001b[38;5;124m'\u001b[39m\u001b[38;5;132;01m%(name)s\u001b[39;00m\u001b[38;5;124m() got unexpected keyword argument \u001b[39m\u001b[38;5;124m\"\u001b[39m\u001b[38;5;124m'\u001b[39m\n\u001b[0;32m   1634\u001b[0m                 \u001b[38;5;241m+\u001b[39m arg \u001b[38;5;241m+\u001b[39m \u001b[38;5;124m'\u001b[39m\u001b[38;5;124m\"\u001b[39m\u001b[38;5;124m which is no longer supported as of \u001b[39m\u001b[38;5;124m'\u001b[39m\n\u001b[0;32m   1635\u001b[0m                 \u001b[38;5;124m'\u001b[39m\u001b[38;5;132;01m%(since)s\u001b[39;00m\u001b[38;5;124m and will become an error \u001b[39m\u001b[38;5;124m'\u001b[39m\n\u001b[0;32m   1636\u001b[0m                 \u001b[38;5;124m'\u001b[39m\u001b[38;5;132;01m%(removal)s\u001b[39;00m\u001b[38;5;124m'\u001b[39m)\n\u001b[0;32m   1637\u001b[0m     kwargs\u001b[38;5;241m.\u001b[39mpop(arg)\n\u001b[1;32m-> 1639\u001b[0m \u001b[38;5;28;01mreturn\u001b[39;00m func(\u001b[38;5;241m*\u001b[39margs, \u001b[38;5;241m*\u001b[39m\u001b[38;5;241m*\u001b[39mkwargs)\n",
      "File \u001b[1;32mc:\\users\\selym\\appdata\\local\\programs\\python\\python39-32\\lib\\site-packages\\matplotlib\\backends\\backend_agg.py:509\u001b[0m, in \u001b[0;36mFigureCanvasAgg.print_png\u001b[1;34m(self, filename_or_obj, metadata, pil_kwargs, *args)\u001b[0m\n\u001b[0;32m    460\u001b[0m \u001b[38;5;129m@_check_savefig_extra_args\u001b[39m\n\u001b[0;32m    461\u001b[0m \u001b[38;5;28;01mdef\u001b[39;00m \u001b[38;5;21mprint_png\u001b[39m(\u001b[38;5;28mself\u001b[39m, filename_or_obj, \u001b[38;5;241m*\u001b[39margs,\n\u001b[0;32m    462\u001b[0m               metadata\u001b[38;5;241m=\u001b[39m\u001b[38;5;28;01mNone\u001b[39;00m, pil_kwargs\u001b[38;5;241m=\u001b[39m\u001b[38;5;28;01mNone\u001b[39;00m):\n\u001b[0;32m    463\u001b[0m     \u001b[38;5;124;03m\"\"\"\u001b[39;00m\n\u001b[0;32m    464\u001b[0m \u001b[38;5;124;03m    Write the figure to a PNG file.\u001b[39;00m\n\u001b[0;32m    465\u001b[0m \n\u001b[1;32m   (...)\u001b[0m\n\u001b[0;32m    507\u001b[0m \u001b[38;5;124;03m        *metadata*, including the default 'Software' key.\u001b[39;00m\n\u001b[0;32m    508\u001b[0m \u001b[38;5;124;03m    \"\"\"\u001b[39;00m\n\u001b[1;32m--> 509\u001b[0m     \u001b[43mFigureCanvasAgg\u001b[49m\u001b[38;5;241;43m.\u001b[39;49m\u001b[43mdraw\u001b[49m\u001b[43m(\u001b[49m\u001b[38;5;28;43mself\u001b[39;49m\u001b[43m)\u001b[49m\n\u001b[0;32m    510\u001b[0m     mpl\u001b[38;5;241m.\u001b[39mimage\u001b[38;5;241m.\u001b[39mimsave(\n\u001b[0;32m    511\u001b[0m         filename_or_obj, \u001b[38;5;28mself\u001b[39m\u001b[38;5;241m.\u001b[39mbuffer_rgba(), \u001b[38;5;28mformat\u001b[39m\u001b[38;5;241m=\u001b[39m\u001b[38;5;124m\"\u001b[39m\u001b[38;5;124mpng\u001b[39m\u001b[38;5;124m\"\u001b[39m, origin\u001b[38;5;241m=\u001b[39m\u001b[38;5;124m\"\u001b[39m\u001b[38;5;124mupper\u001b[39m\u001b[38;5;124m\"\u001b[39m,\n\u001b[0;32m    512\u001b[0m         dpi\u001b[38;5;241m=\u001b[39m\u001b[38;5;28mself\u001b[39m\u001b[38;5;241m.\u001b[39mfigure\u001b[38;5;241m.\u001b[39mdpi, metadata\u001b[38;5;241m=\u001b[39mmetadata, pil_kwargs\u001b[38;5;241m=\u001b[39mpil_kwargs)\n",
      "File \u001b[1;32mc:\\users\\selym\\appdata\\local\\programs\\python\\python39-32\\lib\\site-packages\\matplotlib\\backends\\backend_agg.py:407\u001b[0m, in \u001b[0;36mFigureCanvasAgg.draw\u001b[1;34m(self)\u001b[0m\n\u001b[0;32m    403\u001b[0m \u001b[38;5;66;03m# Acquire a lock on the shared font cache.\u001b[39;00m\n\u001b[0;32m    404\u001b[0m \u001b[38;5;28;01mwith\u001b[39;00m RendererAgg\u001b[38;5;241m.\u001b[39mlock, \\\n\u001b[0;32m    405\u001b[0m      (\u001b[38;5;28mself\u001b[39m\u001b[38;5;241m.\u001b[39mtoolbar\u001b[38;5;241m.\u001b[39m_wait_cursor_for_draw_cm() \u001b[38;5;28;01mif\u001b[39;00m \u001b[38;5;28mself\u001b[39m\u001b[38;5;241m.\u001b[39mtoolbar\n\u001b[0;32m    406\u001b[0m       \u001b[38;5;28;01melse\u001b[39;00m nullcontext()):\n\u001b[1;32m--> 407\u001b[0m     \u001b[38;5;28;43mself\u001b[39;49m\u001b[38;5;241;43m.\u001b[39;49m\u001b[43mfigure\u001b[49m\u001b[38;5;241;43m.\u001b[39;49m\u001b[43mdraw\u001b[49m\u001b[43m(\u001b[49m\u001b[38;5;28;43mself\u001b[39;49m\u001b[38;5;241;43m.\u001b[39;49m\u001b[43mrenderer\u001b[49m\u001b[43m)\u001b[49m\n\u001b[0;32m    408\u001b[0m     \u001b[38;5;66;03m# A GUI class may be need to update a window using this draw, so\u001b[39;00m\n\u001b[0;32m    409\u001b[0m     \u001b[38;5;66;03m# don't forget to call the superclass.\u001b[39;00m\n\u001b[0;32m    410\u001b[0m     \u001b[38;5;28msuper\u001b[39m()\u001b[38;5;241m.\u001b[39mdraw()\n",
      "File \u001b[1;32mc:\\users\\selym\\appdata\\local\\programs\\python\\python39-32\\lib\\site-packages\\matplotlib\\artist.py:41\u001b[0m, in \u001b[0;36mallow_rasterization.<locals>.draw_wrapper\u001b[1;34m(artist, renderer, *args, **kwargs)\u001b[0m\n\u001b[0;32m     38\u001b[0m     \u001b[38;5;28;01mif\u001b[39;00m artist\u001b[38;5;241m.\u001b[39mget_agg_filter() \u001b[38;5;129;01mis\u001b[39;00m \u001b[38;5;129;01mnot\u001b[39;00m \u001b[38;5;28;01mNone\u001b[39;00m:\n\u001b[0;32m     39\u001b[0m         renderer\u001b[38;5;241m.\u001b[39mstart_filter()\n\u001b[1;32m---> 41\u001b[0m     \u001b[38;5;28;01mreturn\u001b[39;00m draw(artist, renderer, \u001b[38;5;241m*\u001b[39margs, \u001b[38;5;241m*\u001b[39m\u001b[38;5;241m*\u001b[39mkwargs)\n\u001b[0;32m     42\u001b[0m \u001b[38;5;28;01mfinally\u001b[39;00m:\n\u001b[0;32m     43\u001b[0m     \u001b[38;5;28;01mif\u001b[39;00m artist\u001b[38;5;241m.\u001b[39mget_agg_filter() \u001b[38;5;129;01mis\u001b[39;00m \u001b[38;5;129;01mnot\u001b[39;00m \u001b[38;5;28;01mNone\u001b[39;00m:\n",
      "File \u001b[1;32mc:\\users\\selym\\appdata\\local\\programs\\python\\python39-32\\lib\\site-packages\\matplotlib\\figure.py:1863\u001b[0m, in \u001b[0;36mFigure.draw\u001b[1;34m(self, renderer)\u001b[0m\n\u001b[0;32m   1860\u001b[0m             \u001b[38;5;66;03m# ValueError can occur when resizing a window.\u001b[39;00m\n\u001b[0;32m   1862\u001b[0m     \u001b[38;5;28mself\u001b[39m\u001b[38;5;241m.\u001b[39mpatch\u001b[38;5;241m.\u001b[39mdraw(renderer)\n\u001b[1;32m-> 1863\u001b[0m     \u001b[43mmimage\u001b[49m\u001b[38;5;241;43m.\u001b[39;49m\u001b[43m_draw_list_compositing_images\u001b[49m\u001b[43m(\u001b[49m\n\u001b[0;32m   1864\u001b[0m \u001b[43m        \u001b[49m\u001b[43mrenderer\u001b[49m\u001b[43m,\u001b[49m\u001b[43m \u001b[49m\u001b[38;5;28;43mself\u001b[39;49m\u001b[43m,\u001b[49m\u001b[43m \u001b[49m\u001b[43martists\u001b[49m\u001b[43m,\u001b[49m\u001b[43m \u001b[49m\u001b[38;5;28;43mself\u001b[39;49m\u001b[38;5;241;43m.\u001b[39;49m\u001b[43msuppressComposite\u001b[49m\u001b[43m)\u001b[49m\n\u001b[0;32m   1866\u001b[0m     renderer\u001b[38;5;241m.\u001b[39mclose_group(\u001b[38;5;124m'\u001b[39m\u001b[38;5;124mfigure\u001b[39m\u001b[38;5;124m'\u001b[39m)\n\u001b[0;32m   1867\u001b[0m \u001b[38;5;28;01mfinally\u001b[39;00m:\n",
      "File \u001b[1;32mc:\\users\\selym\\appdata\\local\\programs\\python\\python39-32\\lib\\site-packages\\matplotlib\\image.py:131\u001b[0m, in \u001b[0;36m_draw_list_compositing_images\u001b[1;34m(renderer, parent, artists, suppress_composite)\u001b[0m\n\u001b[0;32m    129\u001b[0m \u001b[38;5;28;01mif\u001b[39;00m not_composite \u001b[38;5;129;01mor\u001b[39;00m \u001b[38;5;129;01mnot\u001b[39;00m has_images:\n\u001b[0;32m    130\u001b[0m     \u001b[38;5;28;01mfor\u001b[39;00m a \u001b[38;5;129;01min\u001b[39;00m artists:\n\u001b[1;32m--> 131\u001b[0m         \u001b[43ma\u001b[49m\u001b[38;5;241;43m.\u001b[39;49m\u001b[43mdraw\u001b[49m\u001b[43m(\u001b[49m\u001b[43mrenderer\u001b[49m\u001b[43m)\u001b[49m\n\u001b[0;32m    132\u001b[0m \u001b[38;5;28;01melse\u001b[39;00m:\n\u001b[0;32m    133\u001b[0m     \u001b[38;5;66;03m# Composite any adjacent images together\u001b[39;00m\n\u001b[0;32m    134\u001b[0m     image_group \u001b[38;5;241m=\u001b[39m []\n",
      "File \u001b[1;32mc:\\users\\selym\\appdata\\local\\programs\\python\\python39-32\\lib\\site-packages\\matplotlib\\artist.py:41\u001b[0m, in \u001b[0;36mallow_rasterization.<locals>.draw_wrapper\u001b[1;34m(artist, renderer, *args, **kwargs)\u001b[0m\n\u001b[0;32m     38\u001b[0m     \u001b[38;5;28;01mif\u001b[39;00m artist\u001b[38;5;241m.\u001b[39mget_agg_filter() \u001b[38;5;129;01mis\u001b[39;00m \u001b[38;5;129;01mnot\u001b[39;00m \u001b[38;5;28;01mNone\u001b[39;00m:\n\u001b[0;32m     39\u001b[0m         renderer\u001b[38;5;241m.\u001b[39mstart_filter()\n\u001b[1;32m---> 41\u001b[0m     \u001b[38;5;28;01mreturn\u001b[39;00m draw(artist, renderer, \u001b[38;5;241m*\u001b[39margs, \u001b[38;5;241m*\u001b[39m\u001b[38;5;241m*\u001b[39mkwargs)\n\u001b[0;32m     42\u001b[0m \u001b[38;5;28;01mfinally\u001b[39;00m:\n\u001b[0;32m     43\u001b[0m     \u001b[38;5;28;01mif\u001b[39;00m artist\u001b[38;5;241m.\u001b[39mget_agg_filter() \u001b[38;5;129;01mis\u001b[39;00m \u001b[38;5;129;01mnot\u001b[39;00m \u001b[38;5;28;01mNone\u001b[39;00m:\n",
      "File \u001b[1;32mc:\\users\\selym\\appdata\\local\\programs\\python\\python39-32\\lib\\site-packages\\matplotlib\\cbook\\deprecation.py:411\u001b[0m, in \u001b[0;36m_delete_parameter.<locals>.wrapper\u001b[1;34m(*inner_args, **inner_kwargs)\u001b[0m\n\u001b[0;32m    401\u001b[0m     deprecation_addendum \u001b[38;5;241m=\u001b[39m (\n\u001b[0;32m    402\u001b[0m         \u001b[38;5;124mf\u001b[39m\u001b[38;5;124m\"\u001b[39m\u001b[38;5;124mIf any parameter follows \u001b[39m\u001b[38;5;132;01m{\u001b[39;00mname\u001b[38;5;132;01m!r}\u001b[39;00m\u001b[38;5;124m, they should be passed as \u001b[39m\u001b[38;5;124m\"\u001b[39m\n\u001b[0;32m    403\u001b[0m         \u001b[38;5;124mf\u001b[39m\u001b[38;5;124m\"\u001b[39m\u001b[38;5;124mkeyword, not positionally.\u001b[39m\u001b[38;5;124m\"\u001b[39m)\n\u001b[0;32m    404\u001b[0m     warn_deprecated(\n\u001b[0;32m    405\u001b[0m         since,\n\u001b[0;32m    406\u001b[0m         name\u001b[38;5;241m=\u001b[39m\u001b[38;5;28mrepr\u001b[39m(name),\n\u001b[1;32m   (...)\u001b[0m\n\u001b[0;32m    409\u001b[0m                  \u001b[38;5;28;01melse\u001b[39;00m deprecation_addendum,\n\u001b[0;32m    410\u001b[0m         \u001b[38;5;241m*\u001b[39m\u001b[38;5;241m*\u001b[39mkwargs)\n\u001b[1;32m--> 411\u001b[0m \u001b[38;5;28;01mreturn\u001b[39;00m func(\u001b[38;5;241m*\u001b[39minner_args, \u001b[38;5;241m*\u001b[39m\u001b[38;5;241m*\u001b[39minner_kwargs)\n",
      "File \u001b[1;32mc:\\users\\selym\\appdata\\local\\programs\\python\\python39-32\\lib\\site-packages\\matplotlib\\axes\\_base.py:2747\u001b[0m, in \u001b[0;36m_AxesBase.draw\u001b[1;34m(self, renderer, inframe)\u001b[0m\n\u001b[0;32m   2744\u001b[0m         a\u001b[38;5;241m.\u001b[39mdraw(renderer)\n\u001b[0;32m   2745\u001b[0m     renderer\u001b[38;5;241m.\u001b[39mstop_rasterizing()\n\u001b[1;32m-> 2747\u001b[0m \u001b[43mmimage\u001b[49m\u001b[38;5;241;43m.\u001b[39;49m\u001b[43m_draw_list_compositing_images\u001b[49m\u001b[43m(\u001b[49m\u001b[43mrenderer\u001b[49m\u001b[43m,\u001b[49m\u001b[43m \u001b[49m\u001b[38;5;28;43mself\u001b[39;49m\u001b[43m,\u001b[49m\u001b[43m \u001b[49m\u001b[43martists\u001b[49m\u001b[43m)\u001b[49m\n\u001b[0;32m   2749\u001b[0m renderer\u001b[38;5;241m.\u001b[39mclose_group(\u001b[38;5;124m'\u001b[39m\u001b[38;5;124maxes\u001b[39m\u001b[38;5;124m'\u001b[39m)\n\u001b[0;32m   2750\u001b[0m \u001b[38;5;28mself\u001b[39m\u001b[38;5;241m.\u001b[39mstale \u001b[38;5;241m=\u001b[39m \u001b[38;5;28;01mFalse\u001b[39;00m\n",
      "File \u001b[1;32mc:\\users\\selym\\appdata\\local\\programs\\python\\python39-32\\lib\\site-packages\\matplotlib\\image.py:131\u001b[0m, in \u001b[0;36m_draw_list_compositing_images\u001b[1;34m(renderer, parent, artists, suppress_composite)\u001b[0m\n\u001b[0;32m    129\u001b[0m \u001b[38;5;28;01mif\u001b[39;00m not_composite \u001b[38;5;129;01mor\u001b[39;00m \u001b[38;5;129;01mnot\u001b[39;00m has_images:\n\u001b[0;32m    130\u001b[0m     \u001b[38;5;28;01mfor\u001b[39;00m a \u001b[38;5;129;01min\u001b[39;00m artists:\n\u001b[1;32m--> 131\u001b[0m         \u001b[43ma\u001b[49m\u001b[38;5;241;43m.\u001b[39;49m\u001b[43mdraw\u001b[49m\u001b[43m(\u001b[49m\u001b[43mrenderer\u001b[49m\u001b[43m)\u001b[49m\n\u001b[0;32m    132\u001b[0m \u001b[38;5;28;01melse\u001b[39;00m:\n\u001b[0;32m    133\u001b[0m     \u001b[38;5;66;03m# Composite any adjacent images together\u001b[39;00m\n\u001b[0;32m    134\u001b[0m     image_group \u001b[38;5;241m=\u001b[39m []\n",
      "File \u001b[1;32mc:\\users\\selym\\appdata\\local\\programs\\python\\python39-32\\lib\\site-packages\\matplotlib\\artist.py:41\u001b[0m, in \u001b[0;36mallow_rasterization.<locals>.draw_wrapper\u001b[1;34m(artist, renderer, *args, **kwargs)\u001b[0m\n\u001b[0;32m     38\u001b[0m     \u001b[38;5;28;01mif\u001b[39;00m artist\u001b[38;5;241m.\u001b[39mget_agg_filter() \u001b[38;5;129;01mis\u001b[39;00m \u001b[38;5;129;01mnot\u001b[39;00m \u001b[38;5;28;01mNone\u001b[39;00m:\n\u001b[0;32m     39\u001b[0m         renderer\u001b[38;5;241m.\u001b[39mstart_filter()\n\u001b[1;32m---> 41\u001b[0m     \u001b[38;5;28;01mreturn\u001b[39;00m draw(artist, renderer, \u001b[38;5;241m*\u001b[39margs, \u001b[38;5;241m*\u001b[39m\u001b[38;5;241m*\u001b[39mkwargs)\n\u001b[0;32m     42\u001b[0m \u001b[38;5;28;01mfinally\u001b[39;00m:\n\u001b[0;32m     43\u001b[0m     \u001b[38;5;28;01mif\u001b[39;00m artist\u001b[38;5;241m.\u001b[39mget_agg_filter() \u001b[38;5;129;01mis\u001b[39;00m \u001b[38;5;129;01mnot\u001b[39;00m \u001b[38;5;28;01mNone\u001b[39;00m:\n",
      "File \u001b[1;32mc:\\users\\selym\\appdata\\local\\programs\\python\\python39-32\\lib\\site-packages\\matplotlib\\patches.py:586\u001b[0m, in \u001b[0;36mPatch.draw\u001b[1;34m(self, renderer)\u001b[0m\n\u001b[0;32m    584\u001b[0m transform \u001b[38;5;241m=\u001b[39m \u001b[38;5;28mself\u001b[39m\u001b[38;5;241m.\u001b[39mget_transform()\n\u001b[0;32m    585\u001b[0m tpath \u001b[38;5;241m=\u001b[39m transform\u001b[38;5;241m.\u001b[39mtransform_path_non_affine(path)\n\u001b[1;32m--> 586\u001b[0m affine \u001b[38;5;241m=\u001b[39m \u001b[43mtransform\u001b[49m\u001b[38;5;241;43m.\u001b[39;49m\u001b[43mget_affine\u001b[49m\u001b[43m(\u001b[49m\u001b[43m)\u001b[49m\n\u001b[0;32m    587\u001b[0m draw_path(tpath, affine,\n\u001b[0;32m    588\u001b[0m           \u001b[38;5;66;03m# Work around a bug in the PDF and SVG renderers, which\u001b[39;00m\n\u001b[0;32m    589\u001b[0m           \u001b[38;5;66;03m# do not draw the hatches if the facecolor is fully\u001b[39;00m\n\u001b[0;32m    590\u001b[0m           \u001b[38;5;66;03m# transparent, but do if it is None.\u001b[39;00m\n\u001b[0;32m    591\u001b[0m           \u001b[38;5;28mself\u001b[39m\u001b[38;5;241m.\u001b[39m_facecolor \u001b[38;5;28;01mif\u001b[39;00m \u001b[38;5;28mself\u001b[39m\u001b[38;5;241m.\u001b[39m_facecolor[\u001b[38;5;241m3\u001b[39m] \u001b[38;5;28;01melse\u001b[39;00m \u001b[38;5;28;01mNone\u001b[39;00m)\n",
      "File \u001b[1;32mc:\\users\\selym\\appdata\\local\\programs\\python\\python39-32\\lib\\site-packages\\matplotlib\\transforms.py:2371\u001b[0m, in \u001b[0;36mCompositeGenericTransform.get_affine\u001b[1;34m(self)\u001b[0m\n\u001b[0;32m   2369\u001b[0m     \u001b[38;5;28;01mreturn\u001b[39;00m \u001b[38;5;28mself\u001b[39m\u001b[38;5;241m.\u001b[39m_b\u001b[38;5;241m.\u001b[39mget_affine()\n\u001b[0;32m   2370\u001b[0m \u001b[38;5;28;01melse\u001b[39;00m:\n\u001b[1;32m-> 2371\u001b[0m     \u001b[38;5;28;01mreturn\u001b[39;00m Affine2D(np\u001b[38;5;241m.\u001b[39mdot(\u001b[38;5;28;43mself\u001b[39;49m\u001b[38;5;241;43m.\u001b[39;49m\u001b[43m_b\u001b[49m\u001b[38;5;241;43m.\u001b[39;49m\u001b[43mget_affine\u001b[49m\u001b[43m(\u001b[49m\u001b[43m)\u001b[49m\u001b[38;5;241m.\u001b[39mget_matrix(),\n\u001b[0;32m   2372\u001b[0m                            \u001b[38;5;28mself\u001b[39m\u001b[38;5;241m.\u001b[39m_a\u001b[38;5;241m.\u001b[39mget_affine()\u001b[38;5;241m.\u001b[39mget_matrix()))\n",
      "File \u001b[1;32mc:\\users\\selym\\appdata\\local\\programs\\python\\python39-32\\lib\\site-packages\\matplotlib\\transforms.py:2371\u001b[0m, in \u001b[0;36mCompositeGenericTransform.get_affine\u001b[1;34m(self)\u001b[0m\n\u001b[0;32m   2369\u001b[0m     \u001b[38;5;28;01mreturn\u001b[39;00m \u001b[38;5;28mself\u001b[39m\u001b[38;5;241m.\u001b[39m_b\u001b[38;5;241m.\u001b[39mget_affine()\n\u001b[0;32m   2370\u001b[0m \u001b[38;5;28;01melse\u001b[39;00m:\n\u001b[1;32m-> 2371\u001b[0m     \u001b[38;5;28;01mreturn\u001b[39;00m Affine2D(np\u001b[38;5;241m.\u001b[39mdot(\u001b[38;5;28;43mself\u001b[39;49m\u001b[38;5;241;43m.\u001b[39;49m\u001b[43m_b\u001b[49m\u001b[38;5;241;43m.\u001b[39;49m\u001b[43mget_affine\u001b[49m\u001b[43m(\u001b[49m\u001b[43m)\u001b[49m\u001b[38;5;241m.\u001b[39mget_matrix(),\n\u001b[0;32m   2372\u001b[0m                            \u001b[38;5;28mself\u001b[39m\u001b[38;5;241m.\u001b[39m_a\u001b[38;5;241m.\u001b[39mget_affine()\u001b[38;5;241m.\u001b[39mget_matrix()))\n",
      "File \u001b[1;32mc:\\users\\selym\\appdata\\local\\programs\\python\\python39-32\\lib\\site-packages\\matplotlib\\transforms.py:2371\u001b[0m, in \u001b[0;36mCompositeGenericTransform.get_affine\u001b[1;34m(self)\u001b[0m\n\u001b[0;32m   2369\u001b[0m     \u001b[38;5;28;01mreturn\u001b[39;00m \u001b[38;5;28mself\u001b[39m\u001b[38;5;241m.\u001b[39m_b\u001b[38;5;241m.\u001b[39mget_affine()\n\u001b[0;32m   2370\u001b[0m \u001b[38;5;28;01melse\u001b[39;00m:\n\u001b[1;32m-> 2371\u001b[0m     \u001b[38;5;28;01mreturn\u001b[39;00m \u001b[43mAffine2D\u001b[49m\u001b[43m(\u001b[49m\u001b[43mnp\u001b[49m\u001b[38;5;241;43m.\u001b[39;49m\u001b[43mdot\u001b[49m\u001b[43m(\u001b[49m\u001b[38;5;28;43mself\u001b[39;49m\u001b[38;5;241;43m.\u001b[39;49m\u001b[43m_b\u001b[49m\u001b[38;5;241;43m.\u001b[39;49m\u001b[43mget_affine\u001b[49m\u001b[43m(\u001b[49m\u001b[43m)\u001b[49m\u001b[38;5;241;43m.\u001b[39;49m\u001b[43mget_matrix\u001b[49m\u001b[43m(\u001b[49m\u001b[43m)\u001b[49m\u001b[43m,\u001b[49m\n\u001b[0;32m   2372\u001b[0m \u001b[43m                           \u001b[49m\u001b[38;5;28;43mself\u001b[39;49m\u001b[38;5;241;43m.\u001b[39;49m\u001b[43m_a\u001b[49m\u001b[38;5;241;43m.\u001b[39;49m\u001b[43mget_affine\u001b[49m\u001b[43m(\u001b[49m\u001b[43m)\u001b[49m\u001b[38;5;241;43m.\u001b[39;49m\u001b[43mget_matrix\u001b[49m\u001b[43m(\u001b[49m\u001b[43m)\u001b[49m\u001b[43m)\u001b[49m\u001b[43m)\u001b[49m\n",
      "File \u001b[1;32mc:\\users\\selym\\appdata\\local\\programs\\python\\python39-32\\lib\\site-packages\\matplotlib\\transforms.py:1846\u001b[0m, in \u001b[0;36mAffine2D.__init__\u001b[1;34m(self, matrix, **kwargs)\u001b[0m\n\u001b[0;32m   1843\u001b[0m \u001b[38;5;28;01mif\u001b[39;00m matrix \u001b[38;5;129;01mis\u001b[39;00m \u001b[38;5;28;01mNone\u001b[39;00m:\n\u001b[0;32m   1844\u001b[0m     \u001b[38;5;66;03m# A bit faster than np.identity(3).\u001b[39;00m\n\u001b[0;32m   1845\u001b[0m     matrix \u001b[38;5;241m=\u001b[39m IdentityTransform\u001b[38;5;241m.\u001b[39m_mtx\u001b[38;5;241m.\u001b[39mcopy()\n\u001b[1;32m-> 1846\u001b[0m \u001b[38;5;28mself\u001b[39m\u001b[38;5;241m.\u001b[39m_mtx \u001b[38;5;241m=\u001b[39m \u001b[43mmatrix\u001b[49m\u001b[38;5;241;43m.\u001b[39;49m\u001b[43mcopy\u001b[49m\u001b[43m(\u001b[49m\u001b[43m)\u001b[49m\n\u001b[0;32m   1847\u001b[0m \u001b[38;5;28mself\u001b[39m\u001b[38;5;241m.\u001b[39m_invalid \u001b[38;5;241m=\u001b[39m \u001b[38;5;241m0\u001b[39m\n",
      "\u001b[1;31mKeyboardInterrupt\u001b[0m: "
     ]
    }
   ],
   "source": [
    "test_modulo(rd1, 10000, 10)\n",
    "test_modulo(rd2, 10000, 10)\n",
    "test_modulo(rd3, 10000, 10)\n",
    "test_modulo(rd4, 10000, 10)"
   ]
  },
  {
   "cell_type": "markdown",
   "metadata": {},
   "source": [
    "- Tester les différents générateurs pour des congruences modulo 4 avec des échantillons de 4 000 nombres."
   ]
  },
  {
   "cell_type": "code",
   "execution_count": 16,
   "metadata": {},
   "outputs": [
    {
     "data": {
      "image/png": "[encoded data removed]",
      "text/plain": [
       "<Figure size 640x480 with 1 Axes>"
      ]
     },
     "metadata": {},
     "output_type": "display_data"
    },
    {
     "data": {
      "image/png": "[encoded data removed]",
      "text/plain": [
       "<Figure size 640x480 with 1 Axes>"
      ]
     },
     "metadata": {},
     "output_type": "display_data"
    },
    {
     "data": {
      "image/png": "[encoded data removed]",
      "text/plain": [
       "<Figure size 640x480 with 1 Axes>"
      ]
     },
     "metadata": {},
     "output_type": "display_data"
    },
    {
     "data": {
      "image/png": "[encoded data removed]",
      "text/plain": [
       "<Figure size 640x480 with 1 Axes>"
      ]
     },
     "metadata": {},
     "output_type": "display_data"
    }
   ],
   "source": [
    "test_modulo(rd1, 4000, 4)\n",
    "test_modulo(rd2, 4000, 10)\n",
    "test_modulo(rd3, 4000, 4)\n",
    "test_modulo(rd4, 4000, 4)"
   ]
  },
  {
   "cell_type": "markdown",
   "metadata": {},
   "source": [
    "- Parmi les générateurs, lesquels réussissent ce premier test ?"
   ]
  },
  {
   "cell_type": "markdown",
   "metadata": {},
   "source": [
    "*-- Entrer la réponse ici. --*"
   ]
  },
  {
   "cell_type": "markdown",
   "metadata": {},
   "source": [
    "**Deuxième test.** Si l'on tire aléatoirement trois nombres $x_1,x_2,x_3$ de façon indépendante, suivant une même loi, il y autant de chance que $x_1<x_2<x_3$ ou que $x_1<x_3<x_2$ ou que $x_2<x_1<x_3$, etc. On aimerait donc que les nombres pseudo-aléatoires produits par nos générateurs vérifient aussi cette propriété.\n",
    "\n",
    "- Ecrire une fonction `test_ordre` qui tire un échantillon de triplets de nombres pseudo-aléatoires produits par un générateur, détermine l'ordre de ces triplets et affiche la répartition des ordres trouvés dans l'échantillon sous forme d'histogramme. Cette fonction prendra comme paramètres : `rd`, le générateur de nombres pseudo-aléatoires, et `nbsample`, la taille de l'échantillon."
   ]
  },
  {
   "cell_type": "code",
   "execution_count": null,
   "metadata": {},
   "outputs": [],
   "source": []
  },
  {
   "cell_type": "markdown",
   "metadata": {},
   "source": [
    "* Tester avec un échantillon de 60 000 triplets de nombres"
   ]
  },
  {
   "cell_type": "code",
   "execution_count": null,
   "metadata": {},
   "outputs": [],
   "source": []
  },
  {
   "cell_type": "markdown",
   "metadata": {},
   "source": [
    "* Parmi les générateurs, lesquels réussissent ce deuxième test ?"
   ]
  },
  {
   "cell_type": "markdown",
   "metadata": {},
   "source": [
    "*-- Entrer la réponse ici.--*"
   ]
  },
  {
   "cell_type": "markdown",
   "metadata": {},
   "source": [
    "* Finalement, au vu de ces deux tests, quels générateurs semblent être de bons générateurs."
   ]
  },
  {
   "cell_type": "markdown",
   "metadata": {},
   "source": [
    "*-- Entrer la réponse ici.--*"
   ]
  },
  {
   "cell_type": "markdown",
   "metadata": {},
   "source": [
    "### A.4. Générateur du module `random`"
   ]
  },
  {
   "cell_type": "markdown",
   "metadata": {},
   "source": [
    "* Quel type de générateur est utilisé dans le module `random` de Python ? Quelle est sa période ?"
   ]
  },
  {
   "cell_type": "markdown",
   "metadata": {},
   "source": [
    "<span style = \"color : blue;\">\n",
    "Le module <strong>random</strong> de Python utilise le générateur de nombres pseudo-aléatoires <strong>Mersenne Twister</strong>.\n",
    "    \n",
    "Il a une période de $2^{19937-1}$. \n",
    "</span>"
   ]
  },
  {
   "cell_type": "markdown",
   "metadata": {},
   "source": [
    "## B. Fonctions aléatoires complémentaires"
   ]
  },
  {
   "cell_type": "markdown",
   "metadata": {},
   "source": [
    "* Compléter la classe `GCL` avec les méthodes suivantes.\n",
    "    * `uniform` prend en paramètres deux réels `a` et `b` et renvoie un nombre réel tiré selon une loi uniforme sur l'intervalle $[a, b]$.\n",
    "    * `randint`prend en paramètres deux entiers `a` et `b` renvoie un nombre entier tiré selon une loi uniforme entre `a` et `b-1`.\n",
    "    * `choice` prend en paramètre une liste et renvoie un élément de la liste tiré aléatoirement.\n",
    "    * `sample` prend en paramètre une liste `lst` et un entier `k`, et renvoie une liste de longueur `k` composée d'éléments tirés aléatoirement sans remise dans `lst`.\n",
    "    \n",
    "Indication pour la méthode `uniform` : En divisant par $m$ le nombre entier pseudo-aléatoire fourni par la méthode `random`, on obtient un nombre réel pseudo-aléatoire entre $0$ et $1$ ($1$ exclu). Il suffit ensuite d'appliquer une certaine transformation affine pour obtenir un nombre réel pseudo-aléatoire entre $a$ et $b$ ($b$ exclu).\n",
    "\n",
    "Indication pour la méthode `randint` : Arrondir (inférieurement) le nombre réel pseudo-aléatoire fourni par l'appel à la méthode `uniform` sur l'intervalle $[a, b]$.\n",
    "\n",
    "Indication pour la méthode `choice` : Utiliser la méthode `randint`.\n",
    "    \n",
    "```py\n",
    ">>> rd = GCL(1664525, 1013904223, 2**31)\n",
    "\n",
    ">>> rd.uniform(1.5, 3.5)\n",
    "3.185575816487498\n",
    ">>> rd.uniform(1.5, 3.5)\n",
    "2.972734514132826\n",
    "\n",
    ">>> rd.randint(10, 15)\n",
    "10\n",
    ">>> rd.randint(10, 15)\n",
    "13\n",
    "\n",
    ">>> lst = ['A', 'B', 'C', 'D']\n",
    ">>> rd.choice(lst)\n",
    "'C'\n",
    ">>> rd.choice(lst)\n",
    "'A'\n",
    "```"
   ]
  },
  {
   "cell_type": "code",
   "execution_count": 62,
   "metadata": {},
   "outputs": [
    {
     "data": {
      "text/plain": [
       "14"
      ]
     },
     "execution_count": 62,
     "metadata": {},
     "output_type": "execute_result"
    }
   ],
   "source": [
    "rd = GCL(1664525, 1013904223, 2**31)\n",
    "\n",
    "lst = ['A', 'B', 'C', 'D']\n",
    "\n",
    "rd.randint(10, 15)\n",
    "\n",
    "        \n"
   ]
  },
  {
   "cell_type": "markdown",
   "metadata": {},
   "source": [
    "## C. Applications"
   ]
  },
  {
   "cell_type": "markdown",
   "metadata": {},
   "source": [
    "Pour les applications proposées ici, on utilisera un (bon) générateur à congruence linéaire.\n",
    "\n",
    "### C.1. Simulation de la marche d'un ivrogne\n",
    "\n",
    "On considère un ivrogne qui se déplace dans le plan. Il part du point de coordonnées $(0,0)$. A chaque étape, il fait un déplacement de longueur 1, aléatoirement dans l'une des quatre directions (vers le haut, vers le bas, à gauche ou à droite).\n",
    "\n",
    "Voilà un exemple d'une telle marche d'ivrogne :\n",
    "```\n",
    "(0, 0)\n",
    "(-1, 0)\n",
    "(-1, -1)\n",
    "(-1, 0)\n",
    "(-2, 0)\n",
    "(-2, 1)\n",
    "(-3, 1)\n",
    "(-3, 0)\n",
    "etc.\n",
    "```\n",
    "\n",
    "* Ecrire une fonction `trace_marche` qui prend en paramètres un générateur aléatoire `rd` et un nombre d'étapes `n`, et qui simule une marche d'ivrogne à `n` étapes et l'affiche dans une fenêtre graphique."
   ]
  },
  {
   "cell_type": "code",
   "execution_count": 64,
   "metadata": {},
   "outputs": [
    {
     "name": "stdout",
     "output_type": "stream",
     "text": [
      "(-1, 0)\n",
      "(-2, 0)\n",
      "(-3, 0)\n",
      "(-4, 0)\n",
      "(-5, 0)\n",
      "(-6, 0)\n",
      "(-7, 0)\n",
      "(-8, 0)\n"
     ]
    }
   ],
   "source": [
    "def trace_marche(rd, n):\n",
    "    couple = [0, 0]\n",
    "    for i in range(n):\n",
    "        indice = rd.choice([0, 1])\n",
    "        direction = rd.choice([-1, 1])\n",
    "        couple[indice] += direction\n",
    "        print(tuple(couple))\n",
    "        \n",
    "trace_marche(rd, 8)"
   ]
  },
  {
   "cell_type": "markdown",
   "metadata": {},
   "source": [
    "* Tracer trois marches d'ivrogne à  10 000 étapes."
   ]
  },
  {
   "cell_type": "code",
   "execution_count": null,
   "metadata": {},
   "outputs": [],
   "source": []
  },
  {
   "attachments": {
    "montecarlo.png": {
     "image/png": "[encoded data removed]"
    }
   },
   "cell_type": "markdown",
   "metadata": {},
   "source": [
    "### C.2. Calcul de $\\pi$ par une méthode aléatoire\n",
    "\n",
    "En considère un carré de côté 1 et un quart de disque inscrit dans ce carré comme dans la figure ci-dessous.\n",
    "\n",
    "![montecarlo.png](attachment:montecarlo.png)\n",
    "\n",
    "Si l'on tire un point au hasard dans ce carré, la probabilité que ce point soit dans le quart de disque est :\n",
    "\n",
    "$$\n",
    "\\frac{\\textrm{aire du quart de disque}}{\\textrm{aire du carré}}.\n",
    "$$\n",
    "\n",
    "Ce rapport vaut $\\displaystyle \\frac{\\pi}{4}$. Une façon de calculer $\\pi$ consiste donc à tirer beaucoup de points au hasard dans le carré et de calculer la proportion de points qui tombent dans le quart de disque. Cette proportion multipliée par 4 donne une approximation de $\\pi$."
   ]
  },
  {
   "cell_type": "markdown",
   "metadata": {},
   "source": [
    "* Ecrire une fonction `montecarlo` qui prend en paramètres un générateur aléatoire `rd` et un entier `n`, et calcule une approximation de $\\pi$ selon la méthode décrite plus haut en utilisant `n` points. Cette fonction affichera également une représentation graphique des points tirés (avec une couleur différente selon qu'ils sont ou non dans le quart de disque)."
   ]
  },
  {
   "cell_type": "code",
   "execution_count": null,
   "metadata": {},
   "outputs": [],
   "source": []
  },
  {
   "cell_type": "markdown",
   "metadata": {},
   "source": [
    "* Calculer une approximation de $\\pi$ avec 10 000 points."
   ]
  },
  {
   "cell_type": "code",
   "execution_count": null,
   "metadata": {},
   "outputs": [],
   "source": []
  },
  {
   "cell_type": "markdown",
   "metadata": {},
   "source": [
    "* Combien de décimales correctes de $\\pi$ retrouve-t-on dans cette approximation ? Cette méthode vous semble-t-elle efficace ?"
   ]
  },
  {
   "cell_type": "raw",
   "metadata": {},
   "source": [
    "*--Entrer la réponse ici.--*"
   ]
  },
  {
   "cell_type": "markdown",
   "metadata": {},
   "source": [
    "### C.3. Vignettes à collectionner\n",
    "\n",
    "La Coupe du Monde approchant, on se pose la question suivante : Combien faut-il acheter de paquets de vignettes pour être (presque) sûr de compléter un album de vignettes (sans faire d'échanges) ?\n",
    "\n",
    "Pour formaliser cette question, on considère que l'album doit être rempli avec $n$ vignettes et que chaque paquet contient $p$ vignettes. La composition des paquets est aléatoire, toutes les vignettes apparaissant avec la même fréquence, mais il ne peut pas y avoir deux vignettes identiques dans un même paquet.\n",
    "\n",
    "* Ecrire une fonction `sim_album` qui simule le remplissage d'un album et renvoie le nombre de paquets nécessaire à ce remplissage. Cette fonction prendra en paramètres le nombre de vignettes de l'album et le nombre de vignettes dans les paquets. Remarque : Cette fonction étant basée une simulation aléatoire, il est normal que chaque appel renvoie une valeur différente."
   ]
  },
  {
   "cell_type": "code",
   "execution_count": null,
   "metadata": {},
   "outputs": [],
   "source": []
  },
  {
   "cell_type": "markdown",
   "metadata": {},
   "source": [
    "* On se place dans le cas où $n=20$ et $p=5$. Effectuer $1000$ simulations de remplissage d'album et représenter à l'aide d'un histogramme la répartition du nombre de paquets nécessaires pour remplir un album."
   ]
  },
  {
   "cell_type": "code",
   "execution_count": null,
   "metadata": {},
   "outputs": [],
   "source": []
  },
  {
   "cell_type": "markdown",
   "metadata": {},
   "source": [
    "* On se place toujours dans le cas où $n=20$ et $p=5$. En effectuant $1000$ simulations, estimer le nombre minimum de paquets à acheter pour être sûr à 90% de remplir totalement son album."
   ]
  },
  {
   "cell_type": "code",
   "execution_count": null,
   "metadata": {},
   "outputs": [],
   "source": []
  },
  {
   "cell_type": "markdown",
   "metadata": {},
   "source": [
    "* L'album officiel de la Coupe du Monde 2022 contient 670 vignettes et les paquets contiennent 5 vignettes. Estimer le nombre minimum de paquets à acheter pour être sûr à 90% de remplir totalement son album."
   ]
  },
  {
   "cell_type": "code",
   "execution_count": null,
   "metadata": {},
   "outputs": [],
   "source": []
  }
 ],
 "metadata": {
  "kernelspec": {
   "display_name": "Python 3 (ipykernel)",
   "language": "python",
   "name": "python3"
  },
  "language_info": {
   "codemirror_mode": {
    "name": "ipython",
    "version": 3
   },
   "file_extension": ".py",
   "mimetype": "text/x-python",
   "name": "python",
   "nbconvert_exporter": "python",
   "pygments_lexer": "ipython3",
   "version": "3.9.0"
  }
 },
 "nbformat": 4,
 "nbformat_minor": 2
}
