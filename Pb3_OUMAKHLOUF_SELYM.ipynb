{
 "cells": [
  {
   "cell_type": "markdown",
   "metadata": {},
   "source": [
    "# Problème 3 : Classes informatiques pour des objets mathématiques"
   ]
  },
  {
   "cell_type": "markdown",
   "metadata": {},
   "source": [
    "L'objectif de ce problème est de créer des **classes** informatiques pour représenter et manipuler un certain nombres d'objets mathématiques :\n",
    "\n",
    "* les nombres rationnels,\n",
    "* les matrices $2 \\times 2$,\n",
    "* les nombres binaires.\n",
    "\n",
    "Deux documents d'aide sont disponibles sur la page du cours. Le premier explique de façon générale les notions de **classe** et d'**objet**. Le second fournit un exemple de classe pour les nombres complexes. Il est essentiel de lire ces documents avant de commencer le problème ! En particulier, il est conseillé d'utiliser la classe sur les nombres complexes comme modèle pour les classes demandées ici."
   ]
  },
  {
   "cell_type": "markdown",
   "metadata": {},
   "source": [
    "## A. Nombres rationnels"
   ]
  },
  {
   "cell_type": "markdown",
   "metadata": {},
   "source": [
    "### A.1. Représentation irréductible"
   ]
  },
  {
   "cell_type": "markdown",
   "metadata": {},
   "source": [
    "On appelle **représentant irréductible** d'un nombre rationnel $\\frac{a}{b}$ un représentant $\\frac{p}{q}$ de ce nombre tel que $q>0$ et $p$ et $q$ soient premiers entre eux.\n",
    "* Déterminer un représentant irréductible de $\\frac{308}{196}$ et de $\\frac{110}{-132}$."
   ]
  },
  {
   "cell_type": "markdown",
   "metadata": {},
   "source": [
    "<span style = \" color : blue;\">\n",
    "    \n",
    "* Représentant irréductible de $\\frac{308}{196}$ : $\\frac{11}{7}$\n",
    "* Représentant irréductible de $\\frac{110}{-132}$ : $\\frac{-5}{6}$\n",
    "    \n",
    "</span>"
   ]
  },
  {
   "cell_type": "markdown",
   "metadata": {},
   "source": [
    "* Décrire la procédure pour trouver un représentant irréductible d'un nombre rationnel quelconque ? Indication : Par quoi divise-t-on le numérateur et le dénominateur ? Comment traite-t-on le signe au dénominateur ?"
   ]
  },
  {
   "cell_type": "markdown",
   "metadata": {},
   "source": [
    "<span style = \"color : blue;\">\n",
    "    Pour trouver un représentant dun nombre rationnel quelconque on divise a et b par leur pgcd tant que celui est est différent de 1. Si le dénominateur est négatif est transmet le signe au numérateur.\n",
    "</span>"
   ]
  },
  {
   "cell_type": "markdown",
   "metadata": {},
   "source": [
    "On rappelle le résultat d'arithmétique suivant.\n",
    "\n",
    "**Lemme de Gauss.** Soit $a$, $b$, $c$ trois entiers. Si $a$ est un diviseur de $bc$ et $a$ est premier avec $b$, alors $a$ est un diviseur de $c$.\n",
    "\n",
    "* Supposons qu'il existe deux représentants irréductibles $\\frac{a}{b}$ et $\\frac{c}{d}$ d'une même nombre rationnel.\n",
    "    * En utilisant le lemme de Gauss, montrer que $a$ divise $c$ et $c$ divise $a$.\n",
    "    * En déduire que $a=c$, puis que $b=d$.\n",
    "    * Conclure."
   ]
  },
  {
   "cell_type": "markdown",
   "metadata": {},
   "source": [
    "*-- Entrer la réponse ici. --*"
   ]
  },
  {
   "cell_type": "markdown",
   "metadata": {},
   "source": [
    "### A.2. Classe pour les nombres rationnels\n",
    "\n",
    "Nous allons maintenant créer une classe `Rat` pour représenter et manipuler les nombres rationnels. A aucun moment, cette classe ne devra utiliser le type `float`.\n",
    "\n",
    "Dans cette classe, un nombre rationnel sera représenté par deux attributs :\n",
    "\n",
    " `num` : le numérateur de son représentant irréductible ;\n",
    " \n",
    " `denom` : le numérateur de son représentant irréductible.\n",
    "\n",
    "- Dans un premier temps, créer une classe `Rat` contenant :\n",
    "    * la méthode de construction `__init__` ;\n",
    "    * les méthodes d'affichage `__repr__` et `__str__`.\n",
    "    \n",
    "La méthode de construction `__init__` prendra en paramètres n'importe couple numérateur-dénominateur (avec un dénominateur non-nul). Si aucun dénominateur n'est fourni, il sera pris égal à 1 par défaut. En pratique, la méthode `__init__` devra donc calculer à partir d'un couple numérateur-dénominateur quelconque le couple numérateur-dénominateur irréductible.\n",
    "\n",
    "Les méthodes d'affichage `__repr__` et `__str__` renverront respectivement une réprésentation du type `Rat({num}, {denom})` et du type `{num}/{denom}` (ou `num` si `denom = 1`).\n",
    "\n",
    "Voilà quelques exemples d'instructions que cette première version de la classe `Rat` doit pouvoir reproduire.\n",
    "\n",
    "```py\n",
    ">>> Rat(2, 3)\n",
    "Rat(2, 3)\n",
    "\n",
    ">>> Rat(21, 14)\n",
    "Rat(3, 2)\n",
    "\n",
    ">>> Rat(4, 2)\n",
    "Rat(2, 1)\n",
    "\n",
    ">>> Rat(10, -15)\n",
    "Rat(-2, 3)\n",
    "\n",
    ">>> Rat(4)\n",
    "Rat(4, 1)\n",
    "\n",
    ">>> print(Rat(21, 14))\n",
    "3/2\n",
    "\n",
    ">>> print(Rat(4))\n",
    "4\n",
    "```"
   ]
  },
  {
   "cell_type": "code",
   "execution_count": 1,
   "metadata": {},
   "outputs": [],
   "source": [
    "from math import gcd\n",
    "\n",
    "class Rat :\n",
    "    \n",
    "    def __init__(self, num : int, denom : int = 1) :\n",
    "        \n",
    "        if denom == 0 :\n",
    "            raise ValueError(\"Dénominateur non-nul\")\n",
    "            \n",
    "        pgcd = gcd(num, denom)\n",
    "        num = num // pgcd\n",
    "        denom = denom // pgcd\n",
    "            \n",
    "        if denom < 0 :\n",
    "            denom *= -1\n",
    "            num *= -1\n",
    "        \n",
    "        self.num = num\n",
    "        self.denom = denom\n",
    "        \n",
    "    def __repr__(self) :\n",
    "        return \"Rat\" + str((self.num, self.denom))\n",
    "\n",
    "    def __str__(self) :\n",
    "        if self.denom == 1 :\n",
    "            return str(self.num)\n",
    "        return str(self.num) + \"/\" + str(self.denom)\n",
    "    \n",
    "    def __add__(self, other) :\n",
    "        '''\n",
    "        Addtionne deux rationnels\n",
    "        >>> Rat(1, 2) + Rat(5, 4)\n",
    "        Rat(7, 4)\n",
    "        '''\n",
    "        \n",
    "        return Rat(self.num * other.denom + other.num * self.denom, self.denom * other.denom)\n",
    "    \n",
    "    def __sub__(self, other) :\n",
    "        '''\n",
    "        Soustrait deux rationnels\n",
    "        >>> Rat(1, 2) - Rat(3, 2)\n",
    "        Rat(-1, 1)\n",
    "        '''\n",
    "        return Rat(self.num * other.denom - other.num * self.denom, self.denom * other.denom)\n",
    "    \n",
    "    def __neg__(self) :\n",
    "        \"\"\"\n",
    "        Renvoie l'opposé d'un rationnel\n",
    "        >>> -Rat(1, 2)\n",
    "        Rat(-1, 2)\n",
    "        \"\"\"\n",
    "        return Rat(-self.num, self.denom)\n",
    "    \n",
    "    def __truediv__(self, other) :\n",
    "        \"\"\"\n",
    "        Division de deux rationnels\n",
    "        \"\"\"\n",
    "        return Rat(self.num * other.denom, self.denom * other.num)\n",
    "    \n",
    "    def __mul__(self, other) :\n",
    "        \"\"\"\n",
    "        Multiplie deux rationnels\n",
    "        >>> Rat(5, 8) * Rat(5, 9)\n",
    "        Rat(25, 72)\n",
    "        \"\"\"\n",
    "        return Rat(self.num * other.num, self.denom * other.denom)\n",
    "\n",
    "    def __eq__(self, other) :\n",
    "        \"\"\"\n",
    "        Détermine si deux rationnels sont égaux\n",
    "        >>> Rat(1, 2) == Rat(2, 4)\n",
    "        True\n",
    "        \"\"\"\n",
    "        return self.num * other.denom == self.denom * other.num\n",
    "    \n",
    "    def __lt__(self, other) :\n",
    "        \"\"\"\n",
    "        Vérifie si un rationnel est un inférieur à un autre rationnel\n",
    "        >>> Rat(3,3) < Rat(3,2)\n",
    "        True\n",
    "        \"\"\"\n",
    "        return self.num * other.denom < self.denom * other.num\n",
    "    \n",
    "    def __gt__(self, other) :\n",
    "        \"\"\"\n",
    "        Vérifie si un rationnel est un supérieur à un autre rationnel\n",
    "        >>> Rat(3,3) > Rat(3,2)\n",
    "        False\n",
    "        \"\"\"\n",
    "        return self.num * other.denom > self.denom * other.num\n",
    "    \n",
    "    def __le__(self, other) :\n",
    "        \"\"\"\n",
    "        Vérifie si un rationnel est inférieur ou égale à un autre rationnel\n",
    "        >>> Rat(3,3) <= Rat(9,9)\n",
    "        True\n",
    "        >>> Rat(1, 2) <= Rat (12, 8)\n",
    "        True\n",
    "        \"\"\"\n",
    "        return self.num * other.denom <= self.denom * other.num\n",
    "    \n",
    "    def __ge__(self, other) :\n",
    "        \"\"\"\n",
    "        Vérifie si un rationnel est supérieur ou égale à un autre rationnel\n",
    "        >>> Rat(3,3) >= Rat(9,9)\n",
    "        True\n",
    "        >>> Rat(1, 3) >= Rat(1, 2)\n",
    "        False\n",
    "        \"\"\"\n",
    "        return self.num * other.denom >= self.denom * other.num\n",
    "    \n",
    "    def to_dec_string(self, n) :\n",
    "        \"\"\"\n",
    "        renvoie une chaîne contenant la représentation décimale tronquée à n chiffres après la virgule\n",
    "        >>> Rat(-4, 3).to_dec_string(5)\n",
    "        '-1.33333'\n",
    "        >>> Rat(20, 7).to_dec_string(10)\n",
    "        '2.8571428571'\n",
    "        \"\"\"\n",
    "        p = abs(self.num) // self.denom\n",
    "        r = (p * 10**n) - (10**n * abs(self.num) // self.denom)\n",
    "        \n",
    "        if r < 0 :\n",
    "            r *= -1\n",
    "        if self.num < 0 :\n",
    "            return str(-p) + \".\" + str(r)\n",
    "        \n",
    "        return str(p) + \".\" + str(r)\n"
   ]
  },
  {
   "cell_type": "markdown",
   "metadata": {},
   "source": [
    "Soit $x$ et $y$ deux nombres rationnels tels que :\n",
    "\n",
    "$$\n",
    "x = \\frac{a}{b} \\qquad \\text{et} \\qquad y = \\frac{c}{d}.\n",
    "$$\n",
    "\n",
    "* Ecrire $x+y$, $xy$ et $x/y$ sous la forme $\\frac{p}{q}$, où $p \\in \\mathbb{Z}$ et $q \\in \\mathbb{Z}^*$."
   ]
  },
  {
   "cell_type": "markdown",
   "metadata": {},
   "source": [
    "<span style = \"color : blue;\">\n",
    "    \n",
    "   * $x+y = \\frac{ad + bc}{bd}$\n",
    "   * $xy = \\frac{ac}{cb}$\n",
    "   * $\\frac{x}{y} = \\frac{\\frac{a}{b}}{\\frac{c}{d}} = \\frac{ad}{bc}$\n",
    "    \n",
    "</span>"
   ]
  },
  {
   "cell_type": "markdown",
   "metadata": {},
   "source": [
    "* A quelle condition sur $a, b, c, d$ a-t-on $x < y$ ? $x \\le y$ ? Cette condition ne devra faire intervenir que des opérations et des comparaisons sur les entiers."
   ]
  },
  {
   "cell_type": "markdown",
   "metadata": {},
   "source": [
    "<span style = \"color : blue;\">\n",
    "    \n",
    "   * On a $x < y$ pour $ad < cb$. \n",
    "   * On a $x <= y$ pour $ad <= cb$.\n",
    "    \n",
    "</span>"
   ]
  },
  {
   "cell_type": "markdown",
   "metadata": {},
   "source": [
    "- Compléter la classe `Rat` en y ajoutant les méthodes spéciales associées :\n",
    "    * aux opérations usuelles (`+`, `*`, `-` (opposé), `-` (soustraction), `/`) ;\n",
    "    * aux comparaisons usuelles (`==`, `<`, `<=`, `>`,`>=`).\n",
    "    \n",
    "Indication : utiliser les réponses aux questions précédentes.\n",
    "\n",
    "Voilà quelques exemples que cette nouvelle version de la classe `Rat` doit pouvoir reproduire.\n",
    "\n",
    "```py\n",
    ">>> Rat(1, 2) + Rat(5, 4)\n",
    "Rat(7, 4)\n",
    "\n",
    ">>> -Rat(1, 2)\n",
    "Rat(-1, 2)\n",
    "\n",
    ">>> (Rat(3, 2)*Rat(5, 7) - Rat(1)) / Rat(3, 4)\n",
    "Rat(2, 21)\n",
    "\n",
    ">>> Rat(5, 3) > Rat (11, 2)\n",
    "False\n",
    "\n",
    ">>> Rat(1, 2) == Rat(3, 6)\n",
    "True\n",
    "```"
   ]
  },
  {
   "cell_type": "code",
   "execution_count": 2,
   "metadata": {},
   "outputs": [
    {
     "data": {
      "text/plain": [
       "Rat(1, 3)"
      ]
     },
     "execution_count": 2,
     "metadata": {},
     "output_type": "execute_result"
    }
   ],
   "source": [
    "Rat(1, 3)"
   ]
  },
  {
   "cell_type": "markdown",
   "metadata": {},
   "source": [
    "Les nombres rationnels ont une représentation décimale finie ou infinie mais périodique.\n",
    "\n",
    "**Exemples.**\n",
    "\n",
    "$ \\frac{5}{4} = 1.25$\n",
    "\n",
    "$ \\frac{4}{3} = 1.33333....$\n",
    "\n",
    "$ \\frac{20}{7} = 2.857142857142857142...$\n",
    "\n",
    "* Ajouter dans la classe `Rat` une méthode `to_dec_string` qui renvoie une chaîne contenant la représentation décimale tronquée à `n` chiffres après la virgule. (Indication : Pour obtenir cette représentation, effectuer la division euclidienne de $10^n |a|$ par $b$, où $a$ et $b$ désignent respectivement le numérateur et le dénominateur.)\n",
    "\n",
    "```py\n",
    ">>> Rat(20, 7).to_dec_string(10)\n",
    "'2.8571428571'\n",
    "\n",
    ">>> Rat(20, 7).to_dec_string(40)\n",
    "'2.8571428571428571428571428571428571428571'\n",
    "\n",
    ">>> Rat(1, 3).to_dec_string(5)\n",
    "'0.33333'\n",
    "\n",
    ">>> Rat(-4, 3).to_dec_string(5)\n",
    "'-1.33333'\n",
    "\n",
    ">>> Rat(7, 2).to_dec_string(4)\n",
    "'3.5000'\n",
    "```"
   ]
  },
  {
   "cell_type": "code",
   "execution_count": 3,
   "metadata": {},
   "outputs": [
    {
     "data": {
      "text/plain": [
       "'-1.33333'"
      ]
     },
     "execution_count": 3,
     "metadata": {},
     "output_type": "execute_result"
    }
   ],
   "source": [
    "Rat(-4, 3).to_dec_string(5)"
   ]
  },
  {
   "cell_type": "markdown",
   "metadata": {},
   "source": [
    "- Insérer des tests (*doctests*) dans les chaînes de documentation (*docstrings*) des différentes méthode de la classe `Rat`. Tester la classe `Rat` avec la commande `testmod` du module `doctest`.\n"
   ]
  },
  {
   "cell_type": "code",
   "execution_count": 4,
   "metadata": {},
   "outputs": [
    {
     "data": {
      "text/plain": [
       "TestResults(failed=0, attempted=13)"
      ]
     },
     "execution_count": 4,
     "metadata": {},
     "output_type": "execute_result"
    }
   ],
   "source": [
    "from doctest import testmod\n",
    "\n",
    "testmod()"
   ]
  },
  {
   "cell_type": "markdown",
   "metadata": {},
   "source": [
    "- Utiliser la classe `Rat` pour calculer $\\displaystyle \\sum_{k=1}^{100} \\frac{1}{k^2}$. Afficher la représentation décimale de ce nombre avec 10 chiffres après la virgule."
   ]
  },
  {
   "cell_type": "code",
   "execution_count": 5,
   "metadata": {},
   "outputs": [
    {
     "data": {
      "text/plain": [
       "'1.6349839001'"
      ]
     },
     "execution_count": 5,
     "metadata": {},
     "output_type": "execute_result"
    }
   ],
   "source": [
    "somme = Rat(1, 1)\n",
    "\n",
    "for k in range(2, 101, 1) :\n",
    "    somme += Rat(1, k**2)\n",
    "\n",
    "somme.to_dec_string(10)"
   ]
  },
  {
   "cell_type": "markdown",
   "metadata": {},
   "source": [
    "## B. Matrices $2\\times2$"
   ]
  },
  {
   "cell_type": "markdown",
   "metadata": {},
   "source": [
    "Dans cette partie, nous allons créer une classe `Mat2D` pour représenter et manipuler les matrices de taille $2\\times 2$.\n",
    "\n",
    "Dans cette classe, une matrice $2\\times 2$ sera représentée par un attribut `coefs`. Cet attribut contiendra les coefficients de la matrice sous forme d'une liste de deux listes (la première contenant les coefficients de la première ligne et la seconde ceux de la seconde ligne).\n",
    " \n",
    "- Créer une classe `Mat2D` contenant :\n",
    "    * la méthode de construction `__init__`, qui prendra en paramètre la liste de listes des coefficients ;\n",
    "    * les méthodes d'affichage `__repr__` et `__str__` (voir exemples ci-dessous pour le type d'affichage attendu) ;\n",
    "    * une méthode `det`, qui renverra le déterminant de la matrice ;\n",
    "    * une méthode `transpose`, qui renverra la matrice transposée ;\n",
    "    * la  méthode `__add__`, qui renverra la somme de deux matrices ;\n",
    "    * la  méthode `__mul__`, qui renverra le produit de deux matrices.\n",
    "\n",
    "Indication : pour faire une copie d'une liste de listes dans la méthode `__init__`, utiliser la fonction `deepcopy` du module `copy`.\n",
    "\n",
    "Voilà quelques exemples d'instructions que la classe `Mat2D` doit pouvoir reproduire.\n",
    "\n",
    "```py\n",
    ">>> A = Mat2D([[1, 0], [-1, 2]])\n",
    ">>> B = Mat2D([[2, 1], [-1, 1]])\n",
    ">>> A\n",
    "Mat2D([[1, 0], [-1, 2]])\n",
    "\n",
    ">>> print(A)\n",
    "[[1, 0], [-1, 2]]\n",
    "\n",
    ">>> A.transpose()\n",
    "Mat2D([[1, -1], [0, 2]])\n",
    "\n",
    ">>> B.det()\n",
    "3\n",
    "\n",
    ">>> A + B\n",
    "Mat2D([[3, 1], [-2, 3]])\n",
    "\n",
    ">>> A * B\n",
    "Mat2D([[2, 1], [-4, 1]])\n",
    "```"
   ]
  },
  {
   "cell_type": "code",
   "execution_count": 6,
   "metadata": {},
   "outputs": [],
   "source": [
    "class Mat2D :\n",
    "    \n",
    "    def __init__(self, coefs) :\n",
    "        \n",
    "        self.a = coefs[0][0]\n",
    "        self.b = coefs[0][1]\n",
    "        self.c = coefs[1][0]\n",
    "        self.d = coefs[1][1]\n",
    "        \n",
    "    def __repr__(self) :\n",
    "        return \"Mat2D([[\" + str(self.a) + \", \" + str(self.b) + \"], [\" + str(self.c) + \", \" + str(self.d) + \"]])\"\n",
    "    \n",
    "\n",
    "    def __str__(self) :\n",
    "        return \"[[\" + str(self.a) + \", \" + str(self.b) + \"], [\" + str(self.c) + \", \" + str(self.d) + \"]]\"\n",
    "    \n",
    "    def det(self):\n",
    "        \"\"\"\n",
    "        >>> Mat2D([[2, 1], [-1, 1]]).det()\n",
    "        3\n",
    "        \"\"\"\n",
    "        return self.a * self.d - self.b * self.c\n",
    "    \n",
    "    def transpose(self):\n",
    "        \"\"\"\n",
    "        >>> Mat2D([[1, 0], [-1, 2]]).transpose()\n",
    "        Mat2D([[1, -1], [0, 2]])\n",
    "        \"\"\"\n",
    "        return Mat2D([[self.a, self.c], [self.b, self.d]])\n",
    "    \n",
    "    def __add__(self, other) :\n",
    "        \"\"\"\n",
    "        >>> Mat2D([[1, 0], [-1, 2]]) + Mat2D([[2, 1], [-1, 1]])\n",
    "        Mat2D([[3, 1], [-2, 3]])\n",
    "        \"\"\"\n",
    "        return Mat2D([[self.a + other.a, self.b + other.b], [self.c + other.c, self.d + other.d]])\n",
    "    \n",
    "    def __mul__(self, other) :\n",
    "        \"\"\"\n",
    "        >>> Mat2D([[1, 0], [-1, 2]]) * Mat2D([[2, 1], [-1, 1]])\n",
    "        Mat2D([[2, 1], [-4, 1]])\n",
    "        \"\"\"\n",
    "        return Mat2D([[self.a * other.a + self.b * other.c, self.a * other.b + self.b * other.d], \n",
    "                     [self.c * other.a + self.d * other.c, self.c * other.b + self.d * other.d]])\n",
    "        \n",
    "        \n",
    "        \n",
    "        \n",
    "        "
   ]
  },
  {
   "cell_type": "markdown",
   "metadata": {},
   "source": [
    "- Insérer des tests (*doctests*) dans les chaînes de documentation (*docstrings*) des différentes méthode de la classe `Mat2D`. Tester la classe `Mat2D` avec la commande `testmod` du module `doctest`."
   ]
  },
  {
   "cell_type": "code",
   "execution_count": 7,
   "metadata": {},
   "outputs": [
    {
     "data": {
      "text/plain": [
       "TestResults(failed=0, attempted=17)"
      ]
     },
     "execution_count": 7,
     "metadata": {},
     "output_type": "execute_result"
    }
   ],
   "source": [
    "A = Mat2D([[1, 0], [-1, 2]])\n",
    "B = Mat2D([[2, 1], [-1, 1]])\n",
    "\n",
    "B.det()\n",
    "A.transpose()\n",
    "A * B\n",
    "\n",
    "testmod()"
   ]
  },
  {
   "cell_type": "markdown",
   "metadata": {},
   "source": [
    "- A l'aide des classes `Mat2D` et `Rat`, calculer le produit\n",
    "\n",
    "$$\n",
    "\\begin{pmatrix}\n",
    "\\frac{1}{2} & \\frac{2}{3} \\\\\n",
    "-\\frac{2}{3} & \\frac{1}{4}\n",
    "\\end{pmatrix}\n",
    "\\times\n",
    "\\begin{pmatrix}\n",
    "\\frac{3}{4} & -1 \\\\\n",
    "\\frac{4}{3} & \\frac{3}{2}\n",
    "\\end{pmatrix}.\n",
    "$$"
   ]
  },
  {
   "cell_type": "code",
   "execution_count": 8,
   "metadata": {},
   "outputs": [
    {
     "data": {
      "text/plain": [
       "Mat2D([[91/72, 1/2], [-1/6, 25/24]])"
      ]
     },
     "execution_count": 8,
     "metadata": {},
     "output_type": "execute_result"
    }
   ],
   "source": [
    "C = Mat2D([[Rat(1, 2), Rat(2, 3)], [Rat(-2, 3), Rat(1, 4)]])\n",
    "D = Mat2D([[Rat(3, 4), Rat(-1)], [Rat(4, 3), Rat(3, 2)]])\n",
    "\n",
    "C * D"
   ]
  },
  {
   "cell_type": "markdown",
   "metadata": {},
   "source": [
    "## C. Nombres binaires\n",
    "\n",
    "Dans cette partie, nous allons créer une classe `Bin` pour représenter et manipuler les nombres binaires.\n",
    "\n",
    "Dans cette classe, un nombre binaire sera représenté par un attribut `chiffres`. Cet attribut sera une liste de booléens contenant les chiffres de l'écriture binaire (`False` pour 0 et `True` pour 1) en partant du chiffre de **poids faible** (c'est-à-dire le chiffre de droite dans l'écriture positionnelle habituelle).\n",
    "\n",
    "Par exemple, le nombre binaire $10100$ sera représenté par l'attribut `[False, False, True, False, True]`.\n",
    " \n",
    "- Créer une classe `Bin` contenant :\n",
    "    * la méthode de construction `__init__`, qui prendra en paramètre une chaîne contenant l'écriture binaire positionnelle habituelle du nombre ou une liste de booléens contenant les chiffres du nombre ;\n",
    "    * les méthodes d'affichage `__repr__` et `__str__` (voir exemples ci-dessous pour le type d'affichage attendu) ;\n",
    "    * une méthode `to_int`, qui renverra l'entier correspondant ;\n",
    "    * la  méthode `__add__`, qui renverra la somme de deux nombres binaires.\n",
    "    \n",
    "Voilà quelques exemples d'instructions que la classe `Bin` doit pouvoir reproduire.\n",
    "\n",
    "```py\n",
    ">>> x = Bin('10100')\n",
    ">>> x.chiffres\n",
    "[False, False, True, False, True]\n",
    ">>> x\n",
    "Bin('10100')\n",
    "\n",
    ">>> y = Bin([False, True, True])\n",
    ">>> y.chiffres\n",
    "[False, True, True]\n",
    ">>> y\n",
    "Bin('110')\n",
    "\n",
    ">>> print(x)\n",
    "10100\n",
    "\n",
    ">>> Bin('10011').to_int()\n",
    "19\n",
    "```"
   ]
  },
  {
   "cell_type": "code",
   "execution_count": 9,
   "metadata": {},
   "outputs": [],
   "source": [
    "class Bin :\n",
    "    \n",
    "    def __init__(self, chiffre) :\n",
    "        \n",
    "        if type(chiffre) == int :\n",
    "            \n",
    "            self.chiffre = ''\n",
    "            n = chiffre\n",
    "            while n >= 1:\n",
    "                r = n % 2\n",
    "                n = n // 2\n",
    "                self.chiffre += str(r)\n",
    "            chiffre = str(self.chiffre)\n",
    "              \n",
    "        self.chiffre = []\n",
    "        chiffre = str(chiffre)\n",
    "            \n",
    "        for i in chiffre : \n",
    "            if i == '1' :\n",
    "                self.chiffre.append(True)\n",
    "            elif i == '0' :\n",
    "                self.chiffre.append(False)\n",
    "        self.chiffre = self.chiffre[::-1]\n",
    "    \n",
    "    def __repr__(self) :\n",
    "        chiffre = ''\n",
    "        self.chiffre = self.chiffre[::-1]\n",
    "        for i in self.chiffre :\n",
    "            if i == True :\n",
    "                chiffre += '1'\n",
    "            elif i == False :\n",
    "                chiffre += '0'\n",
    "        return \"Bin('\" + chiffre + \"')\"\n",
    "    \n",
    "    def __str__(self) :\n",
    "        chaine = ''\n",
    "        self.chiffre = self.chiffre[::-1]\n",
    "        for i in self.chiffre :\n",
    "            if i == True :\n",
    "                chaine += '1'\n",
    "            elif i == False :\n",
    "                chaine += '0'\n",
    "        return chaine\n",
    "\n",
    "    def to_int(self) :\n",
    "        \"\"\"\n",
    "        >>> Bin('10011').to_int()\n",
    "        19\n",
    "        \"\"\"\n",
    "        res = 0\n",
    "        pui = 0\n",
    "        for i in self.chiffre :\n",
    "            if i == True :\n",
    "                res += 2 ** pui\n",
    "            pui += 1\n",
    "        return res\n",
    "    \n",
    "    def __add__(self, other) :\n",
    "        \"\"\"\n",
    "        >>> Bin('1100') + Bin ('1001')\n",
    "        Bin('10101')\n",
    "        \"\"\"\n",
    "        pass\n",
    "    "
   ]
  },
  {
   "cell_type": "markdown",
   "metadata": {},
   "source": [
    "\n",
    "L'addition de deux nombres binaires s'effectue comme l'addition posée de deux entiers en écriture décimale. On somme chiffre à chiffre, en partant des chiffres de droite, on écrit le résultat au-dessous et on propage éventuellement une retenue.\n",
    "\n",
    "Sans retenue provenant de l'étape précédente, les cas possibles sont :\n",
    "\n",
    "* $0 + 0$ : le résultat vaut $0$ donc on écrit $0$\n",
    "* $1 + 0$ : le résultat vaut $1$ donc on écrit $1$\n",
    "* $1 + 1$ : le résultat vaut $10$ donc on écrit $0$ et on propage une retenue\n",
    "\n",
    "Avec une retenue provenant de l'étape précédente, les cas possibles sont :\n",
    "\n",
    "* $0 + 0 + 1$ : le résultat vaut $1$ donc on écrit $1$\n",
    "* $1 + 0 + 1$ : le résultat vaut $10$ donc on écrit $0$ et on propage une retenue\n",
    "* $1 + 1 + 1$ : le résultat vaut $11$ donc on écrit $1$ et on propage une retenue\n",
    "\n",
    "**Exemple.** Addition posé de $110100$ et $11110$.\n",
    "\n",
    "```\n",
    "  1 1 0 1 0 0\n",
    "    1 1 1 1 0\n",
    "--------------\n",
    "  1 1 1         (retenues)\n",
    "1 0 1 0 0 1 0   (résultat)\n",
    "```\n",
    "\n",
    "* Ajouter une méthode `__add__` dans la classe `Bin` pour effectuer l'addition de deux nombres binaires.\n",
    "\n",
    "```py\n",
    ">>> Bin('1100') + Bin ('1001')\n",
    "Bin('10101')\n",
    "\n",
    ">>> Bin('110100') + Bin ('11110')\n",
    "Bin('1010010')\n",
    "```"
   ]
  },
  {
   "cell_type": "code",
   "execution_count": null,
   "metadata": {},
   "outputs": [],
   "source": []
  },
  {
   "cell_type": "markdown",
   "metadata": {},
   "source": [
    "Pour déterminer l'écriture binaire d'un nombre $n$ écrit en base 10, l'algorithme usuel consiste à :\n",
    "\n",
    "* faire la division euclidienne de $n$ par 2, noter le quotient $q$ et le reste $r$ ;\n",
    "* $r$ (qui vaut 0 ou 1) est le nouveau chiffre du résultat (en écrivant de droite à gauche) ;\n",
    "* recommencer à la première étape en remplaçant $n$ par $q$.\n",
    "\n",
    "Par exemple, pour convertir le nombre 26 en binaire :\n",
    "\n",
    "$26 = 2 \\times 13 + 0$ donc le chiffre de droite du résultat est 0\n",
    "\n",
    "$13 = 2 \\times 6 + 1$ donc le second chiffre du résultat est 1\n",
    "\n",
    "$6 = 2 \\times 3 + 0$, donc le troisième chiffre du résultat est 0\n",
    "\n",
    "$3 = 2 \\times 1 + 1$ donc le quatrième chiffre du résultat est 1\n",
    "\n",
    "$1 = 2 \\times 0 + 1$ donc le chiffre de gauche du résultat est 1\n",
    "\n",
    "L'écriture de 26 en binaire est donc : $11010$.\n",
    "\n",
    "* Modifier la méthode `__init__` de la classe `Bin` de façon à accepter un nombre de type `int` comme paramètre (le nombre binaire créé étant alors le nombre binaire correspondant à cet entier).\n",
    "\n",
    "```py\n",
    ">>> Bin(9)\n",
    "Bin('1001')\n",
    "\n",
    ">>> Bin(26)\n",
    "Bin('11010')\n",
    "```"
   ]
  },
  {
   "cell_type": "code",
   "execution_count": 10,
   "metadata": {},
   "outputs": [
    {
     "data": {
      "text/plain": [
       "Bin('1001')"
      ]
     },
     "execution_count": 10,
     "metadata": {},
     "output_type": "execute_result"
    }
   ],
   "source": [
    "Bin(9)"
   ]
  },
  {
   "cell_type": "code",
   "execution_count": 11,
   "metadata": {},
   "outputs": [
    {
     "data": {
      "text/plain": [
       "Bin('1100')"
      ]
     },
     "execution_count": 11,
     "metadata": {},
     "output_type": "execute_result"
    }
   ],
   "source": [
    "Bin('1100') "
   ]
  },
  {
   "cell_type": "code",
   "execution_count": null,
   "metadata": {},
   "outputs": [],
   "source": []
  }
 ],
 "metadata": {
  "kernelspec": {
   "display_name": "Python 3 (ipykernel)",
   "language": "python",
   "name": "python3"
  },
  "language_info": {
   "codemirror_mode": {
    "name": "ipython",
    "version": 3
   },
   "file_extension": ".py",
   "mimetype": "text/x-python",
   "name": "python",
   "nbconvert_exporter": "python",
   "pygments_lexer": "ipython3",
   "version": "3.9.0"
  }
 },
 "nbformat": 4,
 "nbformat_minor": 1
}
