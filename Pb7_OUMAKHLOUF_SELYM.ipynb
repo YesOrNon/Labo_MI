{
 "cells": [
  {
   "cell_type": "markdown",
   "metadata": {},
   "source": [
    "# Problème 7 : Probabilités et poker"
   ]
  },
  {
   "cell_type": "markdown",
   "metadata": {},
   "source": [
    "L'objectif de ce problème est d'estimer des probabilités pour le **poker**. En particulier, nous allons estimer les probabilités de gain des **mains** par la **méthode de Monte-Carlo**.\n",
    "\n",
    "Le poker utilise un jeu de 52 cartes. Il y a 4 **couleurs** qui sont pique, coeur, carreau et trèfle. Attention, les couleurs ne sont pas rouge et noir, mais bien les quatre symboles. Pour chaque couleur, il y a 13 **hauteurs** de carte : 2, 3, 4, ..., 10, Valet, Dame, Roi et As ."
   ]
  },
  {
   "cell_type": "markdown",
   "metadata": {},
   "source": [
    "## 1. Poker fermé\n",
    "\n",
    "Au poker fermé chaque joueur reçoit 5 cartes d'un paquet de carte. \n",
    "\n",
    "Pour les questions mathématiques, on considère qu'une main est un *ensemble* de 5 cartes : l'ordre des cartes n'est pas pris en compte pour les dénombrements.\n",
    "\n",
    "On rappelle que les coefficient binomial $\\binom{n}{k}$ compte le nombre de façon de choisir $k$ éléments dans un ensemble avec $n$ éléments, et qu'on la formule, pour $0\\leq k\\leq n$ : $$\\binom{n}{k} = \\frac{n!}{k!(n-k)!}$$\n",
    "\n",
    "Ecrire une fonction `binom(n,k)` qui calcule le coefficient binomial $\\binom{n}{k}$:"
   ]
  },
  {
   "cell_type": "code",
   "execution_count": 1,
   "metadata": {},
   "outputs": [],
   "source": [
    "def binom(n : int, k : int):\n",
    "    if(n < k) :\n",
    "        raise ValueError(\" n doit être supérieur à k\")\n",
    "    elif(k < 0) :\n",
    "        raise ValueError(\" k doit être supérieur à 0\")\n",
    "        \n",
    "    res =  1\n",
    "    for i in range(k):\n",
    "        res = res * (n - i)\n",
    "        res = res // (i + 1)\n",
    "        \n",
    "    return res"
   ]
  },
  {
   "cell_type": "markdown",
   "metadata": {},
   "source": [
    "Pour tous les calculs de probabilité, on donnera (comme pour toute les réponses de cette partie) la réponse sous forme d'une fraction irréductible, en justifiant. Vous pouvez utiliser votre fonction `binom` et votre sujet sur les fraction rationnelles si vous voulez pour aider."
   ]
  },
  {
   "cell_type": "code",
   "execution_count": 2,
   "metadata": {},
   "outputs": [],
   "source": [
    "from math import gcd\n",
    "\n",
    "class Rat :\n",
    "    \n",
    "    def __init__(self, num : int, denom : int = 1) :\n",
    "        \n",
    "        if denom == 0 :\n",
    "            raise ValueError(\"Dénominateur non-nul\")\n",
    "            \n",
    "        pgcd = gcd(num, denom)\n",
    "        num = num // pgcd\n",
    "        denom = denom // pgcd\n",
    "            \n",
    "        if denom < 0 :\n",
    "            denom *= -1\n",
    "            num *= -1\n",
    "        \n",
    "        self.num = num\n",
    "        self.denom = denom\n",
    "        \n",
    "    def __repr__(self) :\n",
    "        return \"Rat\" + str((self.num, self.denom))\n",
    "\n",
    "    def __str__(self) :\n",
    "        if self.denom == 1 :\n",
    "            return str(self.num)\n",
    "        return str(self.num) + \"/\" + str(self.denom)"
   ]
  },
  {
   "cell_type": "markdown",
   "metadata": {},
   "source": [
    "**Question :** Combien y a-t-il de mains de 5 cartes différentes ?"
   ]
  },
  {
   "cell_type": "code",
   "execution_count": 3,
   "metadata": {},
   "outputs": [
    {
     "data": {
      "text/plain": [
       "2598960"
      ]
     },
     "execution_count": 3,
     "metadata": {},
     "output_type": "execute_result"
    }
   ],
   "source": [
    "binom(52, 5)  #2 598 960"
   ]
  },
  {
   "cell_type": "markdown",
   "metadata": {},
   "source": [
    "On considère que le paquet de carte est initalement *uniformément mélangé*, et donc que chaque main possible a autant de chance d'être celle obtenue par un joueur. \n",
    "\n",
    "**Question :** Quelle est la probabilité que la main obtenue soit {2-coeur, 7-coeur, 8-pique, Roi-carreau, As-pique} ? "
   ]
  },
  {
   "cell_type": "code",
   "execution_count": 4,
   "metadata": {},
   "outputs": [
    {
     "name": "stdout",
     "output_type": "stream",
     "text": [
      "1/2598960\n"
     ]
    }
   ],
   "source": [
    "print(Rat(1, binom(52, 5)))"
   ]
  },
  {
   "cell_type": "markdown",
   "metadata": {},
   "source": [
    "**Question :** Quelle est la probabilité que la main obtenue contienne 4 As (carré d'as) ?"
   ]
  },
  {
   "cell_type": "code",
   "execution_count": 5,
   "metadata": {},
   "outputs": [
    {
     "name": "stdout",
     "output_type": "stream",
     "text": [
      "1/54145\n"
     ]
    }
   ],
   "source": [
    "print(Rat(48, binom(52, 5)))"
   ]
  },
  {
   "cell_type": "markdown",
   "metadata": {},
   "source": [
    "**Question :** Quelle est la probabilité que la main obtenue contienne un carré, soit 4 cartes de même hauteur ?"
   ]
  },
  {
   "cell_type": "code",
   "execution_count": 6,
   "metadata": {},
   "outputs": [
    {
     "name": "stdout",
     "output_type": "stream",
     "text": [
      "1/4165\n"
     ]
    }
   ],
   "source": [
    "print(Rat(13 * 48, binom(52, 5)))"
   ]
  },
  {
   "cell_type": "markdown",
   "metadata": {},
   "source": [
    "Une **couleur** est une main de 5 cartes  de la même couleur (que des piques par exemple).\n",
    "\n",
    "**Question :** Quelle est la probabilité que la main obtenue soit une couleur ?"
   ]
  },
  {
   "cell_type": "code",
   "execution_count": 7,
   "metadata": {},
   "outputs": [
    {
     "name": "stdout",
     "output_type": "stream",
     "text": [
      "33/16660\n",
      "0.0019807923169267707\n"
     ]
    }
   ],
   "source": [
    "print(Rat(4 * binom(13, 5), binom(52, 5)))\n",
    "print(4 * binom(13, 5) / binom(52, 5))"
   ]
  },
  {
   "cell_type": "markdown",
   "metadata": {},
   "source": [
    "## 2. Les classes Carte et JeuDeCarte"
   ]
  },
  {
   "cell_type": "markdown",
   "metadata": {},
   "source": [
    "* Ecrire une classe `Carte` pour représenter une carte à jouer. Une carte possède une couleur avec l'encodage : TREFLE = 0, CARREAU = 1, COEUR = 2, PIQUE = 3\n",
    "et une hauteur qui est entre 2 et 14 avec : VALET = 11, DAME = 12, ROI = 13, AS = 14\n",
    "\n",
    "- Le constructeur passera en argument la hauteur et la couleur : `__init__(self, hauteur, couleur)`\n",
    "- Les méthodes `__str__(self)` et `__repr__(self)` retourneront la même chose, la chaîne de caractère pour décrire les cartes respectant le doctest fourni.\n",
    "- La méthode `__lt__(self,other)` qui retourne vrai si la hauteur de `self` est strictement inférieure à la hauteur de `other` et faux sinon\n",
    "- La méthode `__eq__(self, other)` qui teste si `self` est égale à `other` (même hauteur et même couleur)\n"
   ]
  },
  {
   "cell_type": "code",
   "execution_count": 23,
   "metadata": {},
   "outputs": [],
   "source": [
    "TREFLE, CARREAU, COEUR, PIQUE = 0, 1, 2, 3 # on utilise des variables globales\n",
    "VALET, DAME, ROI, AS = 11, 12, 13, 14\n",
    "\n",
    "class Carte:\n",
    "    \"\"\"\n",
    "    >>> Carte(10,0)\n",
    "    10-Trefle\n",
    "    >>> Carte(14,1)\n",
    "    As-Carreau\n",
    "    \"\"\"\n",
    "    def __init__(self, hauteur, couleur):\n",
    "        self.hauteur = hauteur\n",
    "        self.couleur = couleur\n",
    "        \n",
    "    def __lt__(self, other):\n",
    "        if self.hauteur < other.hauteur :\n",
    "            return True\n",
    "        return False\n",
    "    \n",
    "    def __str__(self):\n",
    "        hauteur = self.hauteur\n",
    "        \n",
    "        if self.hauteur == 11 :\n",
    "            hauteur = 'Valet'\n",
    "        elif self.hauteur == 12:\n",
    "            hauteur = 'Dame'\n",
    "        elif self.hauteur == 13 :\n",
    "            hauteur = 'Roi'\n",
    "        elif self.hauteur == 14 :\n",
    "            hauteur = 'As'\n",
    "            \n",
    "        couleur = self.couleur    \n",
    "        \n",
    "        if self.couleur == 0 :\n",
    "            couleur = 'Trefle'\n",
    "        elif couleur == 1 :\n",
    "            couleur = 'Carreau'\n",
    "        elif self.couleur == 2 :\n",
    "            couleur = 'Coeur'\n",
    "        elif self.couleur == 3 :\n",
    "            couleur = 'Pique'\n",
    "            \n",
    "        return str(hauteur) + \"-\" + str(couleur)\n",
    "    \n",
    "    def __repr__(self):\n",
    "        return self.__str__()\n",
    "    \n",
    "    def __eq__(self, other):\n",
    "        return (self.hauteur == other.hauteur) and (self.couleur == other.couleur)"
   ]
  },
  {
   "cell_type": "markdown",
   "metadata": {},
   "source": [
    "* Vérifier avec doctest que cela fonctionne correctement."
   ]
  },
  {
   "cell_type": "code",
   "execution_count": 63,
   "metadata": {},
   "outputs": [
    {
     "name": "stdout",
     "output_type": "stream",
     "text": [
      "**********************************************************************\n",
      "File \"__main__\", line 5, in __main__.texas_holdem\n",
      "Failed example:\n",
      "    sorted(texas_holdem([Carte(2,0), Carte(7,0)], [Carte(3, 1), Carte(3,0), Carte(8,0), Carte(10, 2), Carte(11, 0)]))\n",
      "Exception raised:\n",
      "    Traceback (most recent call last):\n",
      "      File \"c:\\users\\selym\\appdata\\local\\programs\\python\\python39-32\\lib\\doctest.py\", line 1336, in __run\n",
      "        exec(compile(example.source, filename, \"single\",\n",
      "      File \"<doctest __main__.texas_holdem[0]>\", line 1, in <module>\n",
      "        sorted(texas_holdem([Carte(2,0), Carte(7,0)], [Carte(3, 1), Carte(3,0), Carte(8,0), Carte(10, 2), Carte(11, 0)]))\n",
      "    TypeError: 'NoneType' object is not iterable\n",
      "**********************************************************************\n",
      "File \"__main__\", line 7, in __main__.texas_holdem\n",
      "Failed example:\n",
      "    sorted(texas_holdem([Carte(2,0), Carte(11,1)], [Carte(3, 1), Carte(3,0), Carte(8,0), Carte(10, 2), Carte(11, 0)]))\n",
      "Exception raised:\n",
      "    Traceback (most recent call last):\n",
      "      File \"c:\\users\\selym\\appdata\\local\\programs\\python\\python39-32\\lib\\doctest.py\", line 1336, in __run\n",
      "        exec(compile(example.source, filename, \"single\",\n",
      "      File \"<doctest __main__.texas_holdem[1]>\", line 1, in <module>\n",
      "        sorted(texas_holdem([Carte(2,0), Carte(11,1)], [Carte(3, 1), Carte(3,0), Carte(8,0), Carte(10, 2), Carte(11, 0)]))\n",
      "    TypeError: 'NoneType' object is not iterable\n",
      "**********************************************************************\n",
      "1 items had failures:\n",
      "   2 of   2 in __main__.texas_holdem\n",
      "***Test Failed*** 2 failures.\n"
     ]
    },
    {
     "data": {
      "text/plain": [
       "TestResults(failed=2, attempted=18)"
      ]
     },
     "execution_count": 63,
     "metadata": {},
     "output_type": "execute_result"
    }
   ],
   "source": [
    "import doctest\n",
    "doctest.testmod()"
   ]
  },
  {
   "cell_type": "markdown",
   "metadata": {},
   "source": [
    "* Ecrire une classe `JeuDeCartes` avec :\n",
    "\n",
    "- un constructeur sans argument `__init__(self)` qui créée un nouveau jeu de carte, contenant les 52 cartes, mélangées. On pourra utiliser `shuffle` de la bibliothèque `random` qui mélange uniformément un tableau come dans l'exemple ci-dessous\n",
    "- une méthode `pioche(self)` qui pioche une carte : elle retourne la carte suivante du jeu de carte et l'enlève du jeu de carte\n",
    "- une méthode `pioche_n(self)` qui pioche $n$ cartes : elle retourne la liste des cartes piochées et les enlève du jeu de carte\n",
    "\n",
    "On ne demande pas de gérer les cas où il n'y a plus assez de cartes dans le jeu pour effectuer la (les) pioche(s)"
   ]
  },
  {
   "cell_type": "code",
   "execution_count": 10,
   "metadata": {},
   "outputs": [
    {
     "name": "stdout",
     "output_type": "stream",
     "text": [
      "[9, 17, 18, 4, 5, 10, 14, 8, 15, 1, 0, 11, 2, 7, 16, 19, 12, 3, 6, 13]\n"
     ]
    }
   ],
   "source": [
    "from random import shuffle\n",
    "T = list(range(20))\n",
    "shuffle(T) # melange T, en modifiant T\n",
    "print(T)"
   ]
  },
  {
   "cell_type": "code",
   "execution_count": 11,
   "metadata": {},
   "outputs": [
    {
     "name": "stdout",
     "output_type": "stream",
     "text": [
      "[8-Carreau, 8-Coeur, 6-Pique, 5-Pique, 7-Trefle]\n"
     ]
    }
   ],
   "source": [
    "from random import shuffle\n",
    "\n",
    "class JeuDeCartes:\n",
    "    def __init__(self):\n",
    "        self.deck = []\n",
    "        for hauteur in range(1, 15):\n",
    "            for couleur in range(0, 4):\n",
    "                self.deck.append(Carte(hauteur, couleur))\n",
    "        shuffle(self.deck)\n",
    "                \n",
    "    def pioche(self):\n",
    "        card = self.deck[0]\n",
    "        self.deck.pop(0)\n",
    "        return card\n",
    "\n",
    "    def pioche_n(self, n):\n",
    "        cards = []\n",
    "        for _ in range(n):\n",
    "            cards.append(self.deck[0])\n",
    "            self.deck.pop(0)\n",
    "        return cards\n",
    "\n",
    "        \n",
    "JC = JeuDeCartes()\n",
    "M = JC.pioche_n(5)\n",
    "print(M)"
   ]
  },
  {
   "cell_type": "markdown",
   "metadata": {},
   "source": [
    "## 3. Combinaisons de cartes\n",
    "\n",
    "Au poker, on cherche à faire des combinaisons particulières de cartes. Voilà les combinaisons possibles de la moins forte à la plus forte :\n",
    "- **Hauteur :** aucune des combinaisons ci-dessous (c'est la plus faible)\n",
    "- **Paire :** deux cartes de même hauteur, et rien de mieux ci-dessous\n",
    "- **Double paire :** deux groupes de deux cartes de même hauteur\n",
    "- **Brelan :** trois cartes de la même hauteur\n",
    "- **Quinte :** cinq cartes de hauteurs consécutives, par exemple [4-Coeur, 5-Trefle, 6-Trefle, 7-pique, 8-Coeur]. <font color=red>Attention :</font> l'as peut servir de 1 pour commencer une quinte [As-Coeur, 2-Trefle, 3-Trefle, 4-pique, 5-Coeur], ou d'As pour terminer une quinte [10-Pique, Valet-Pique, Dame-Pique, Roi-Carreau, As-Coeur]\n",
    "- **Couleur :** toutes les cartes de la même couleur (par exemple, que des trèfles)\n",
    "- **Full House:** un brelan et une paire\n",
    "- **Carré :** quatre cartes de même hauteur\n",
    "- **Quinte Flush :** quinte et couleur en même temps\n",
    "\n",
    "Voir [l'article Wikipédia](https://fr.wikipedia.org/wiki/Main_au_poker) pour des illustrations."
   ]
  },
  {
   "cell_type": "markdown",
   "metadata": {},
   "source": [
    "* Ecrire une fonction `couleur(main)` qui prend en paramètre une liste de 5 cartes `main` et qui retourne `True` quand toutes les cartes sont de la même couleur."
   ]
  },
  {
   "cell_type": "code",
   "execution_count": 12,
   "metadata": {},
   "outputs": [
    {
     "data": {
      "text/plain": [
       "True"
      ]
     },
     "execution_count": 12,
     "metadata": {},
     "output_type": "execute_result"
    }
   ],
   "source": [
    "def couleur(main):\n",
    "    \"\"\"\n",
    "    >>> couleur([Carte(2,0), Carte(13,0), Carte(4,0), Carte(5,0), Carte(11,0)])\n",
    "    True\n",
    "    \n",
    "    >>> couleur([Carte(2,0), Carte(13,2), Carte(4,0), Carte(5,0), Carte(11,0)])\n",
    "    False\n",
    "    \"\"\"\n",
    "    \n",
    "    for i in range(len(main) - 1):\n",
    "        if main[i].couleur != main[i + 1].couleur:\n",
    "            return False\n",
    "    return True\n",
    "    \n",
    "    \n",
    "couleur([Carte(2,0), Carte(13,0), Carte(4,0), Carte(5,0), Carte(11,0)])\n",
    "    "
   ]
  },
  {
   "cell_type": "markdown",
   "metadata": {},
   "source": [
    "(Ici il faudrait parler de la moyenne empirique qui converge vers l'espérance)\n",
    "\n",
    "* En simulant `nbr=100000` créations de jeux de cartes et pioche des 5 premières cartes, estimer la probabilité qu'une main aléatoire de 5 carte ne contienne que des cartes de la même couleur"
   ]
  },
  {
   "cell_type": "code",
   "execution_count": 13,
   "metadata": {},
   "outputs": [
    {
     "name": "stdout",
     "output_type": "stream",
     "text": [
      "0.00191\n"
     ]
    }
   ],
   "source": [
    "res = 0\n",
    "for _ in range(100000):\n",
    "    JC = JeuDeCartes()\n",
    "    M = JC.pioche_n(5)\n",
    "    if couleur(M):\n",
    "        res += 1\n",
    "print(res / 100000)"
   ]
  },
  {
   "cell_type": "code",
   "execution_count": 14,
   "metadata": {},
   "outputs": [],
   "source": [
    "# 0.0019807923169267707 probabilité de la partie 1"
   ]
  },
  {
   "cell_type": "markdown",
   "metadata": {},
   "source": [
    "* Comparer le résultat avec le résultat théorique trouvé à la partie 1."
   ]
  },
  {
   "cell_type": "markdown",
   "metadata": {},
   "source": [
    "<span style = \"color : blue;\">\n",
    "    Les 2 probabilités sont assez similaires.\n",
    "</span>"
   ]
  },
  {
   "cell_type": "markdown",
   "metadata": {},
   "source": [
    "* Ecrire une fonction `tab_hauteurs(main)` qui retourne un tableau `T` de taille 15 tel que `T[i]` soit le nombre de cartes de hauteur `i` dans la main `main` (qui peut contenir n'importe quel nombre de cartes). On utilisera le fait que les valets sont de hauteur 11, les dames de hauteur 12, les rois de hauteur 13 et les as de hauteur 14.\n",
    "\n",
    "Les cases `T[0]` et `T[1]` ne servent pas et valent toujours 0."
   ]
  },
  {
   "cell_type": "code",
   "execution_count": 15,
   "metadata": {},
   "outputs": [
    {
     "data": {
      "text/plain": [
       "[0, 0, 2, 0, 1, 0, 0, 0, 0, 0, 0, 2, 0, 0, 0]"
      ]
     },
     "execution_count": 15,
     "metadata": {},
     "output_type": "execute_result"
    }
   ],
   "source": [
    "def tab_hauteurs(main):\n",
    "    \"\"\"\n",
    "    >>> tab_hauteurs([Carte(2,0), Carte(2,1), Carte(4,0), Carte(11,0), Carte(11,3)])\n",
    "    [0, 0, 2, 0, 1, 0, 0, 0, 0, 0, 0, 2, 0, 0, 0]\n",
    "    \n",
    "    >>> tab_hauteurs([Carte(14,0), Carte(14,1), Carte(14,2)])\n",
    "    [0, 0, 0, 0, 0, 0, 0, 0, 0, 0, 0, 0, 0, 0, 3]\n",
    "    \"\"\"\n",
    "    \n",
    "    T = [0] * 15\n",
    "    for j in range(len(main)):\n",
    "        T[main[j].hauteur] += 1\n",
    "    return T\n",
    "\n",
    "tab_hauteurs([Carte(2,0), Carte(2,1), Carte(4,0), Carte(11,0), Carte(11,3)])\n"
   ]
  },
  {
   "cell_type": "markdown",
   "metadata": {},
   "source": [
    "* Ecrire une fonction `valeur_main(main)` qui renvoie un entier indiquant la meilleure combinaison présente dans une main `main` de cinq cartes, avec le numérotage des combinaisons indiqué ci-dessous. \n",
    "\n",
    "**Indication :** On pourra utiliser `tab_hauteurs(main)`."
   ]
  },
  {
   "cell_type": "code",
   "execution_count": 52,
   "metadata": {},
   "outputs": [
    {
     "name": "stdout",
     "output_type": "stream",
     "text": [
      "**********************************************************************\n",
      "File \"__main__\", line 5, in __main__.texas_holdem\n",
      "Failed example:\n",
      "    sorted(texas_holdem([Carte(2,0), Carte(7,0)], [Carte(3, 1), Carte(3,0), Carte(8,0), Carte(10, 2), Carte(11, 0)]))\n",
      "Exception raised:\n",
      "    Traceback (most recent call last):\n",
      "      File \"c:\\users\\selym\\appdata\\local\\programs\\python\\python39-32\\lib\\doctest.py\", line 1336, in __run\n",
      "        exec(compile(example.source, filename, \"single\",\n",
      "      File \"<doctest __main__.texas_holdem[0]>\", line 1, in <module>\n",
      "        sorted(texas_holdem([Carte(2,0), Carte(7,0)], [Carte(3, 1), Carte(3,0), Carte(8,0), Carte(10, 2), Carte(11, 0)]))\n",
      "    TypeError: 'NoneType' object is not iterable\n",
      "**********************************************************************\n",
      "File \"__main__\", line 7, in __main__.texas_holdem\n",
      "Failed example:\n",
      "    sorted(texas_holdem([Carte(2,0), Carte(11,1)], [Carte(3, 1), Carte(3,0), Carte(8,0), Carte(10, 2), Carte(11, 0)]))\n",
      "Exception raised:\n",
      "    Traceback (most recent call last):\n",
      "      File \"c:\\users\\selym\\appdata\\local\\programs\\python\\python39-32\\lib\\doctest.py\", line 1336, in __run\n",
      "        exec(compile(example.source, filename, \"single\",\n",
      "      File \"<doctest __main__.texas_holdem[1]>\", line 1, in <module>\n",
      "        sorted(texas_holdem([Carte(2,0), Carte(11,1)], [Carte(3, 1), Carte(3,0), Carte(8,0), Carte(10, 2), Carte(11, 0)]))\n",
      "    TypeError: 'NoneType' object is not iterable\n",
      "**********************************************************************\n",
      "1 items had failures:\n",
      "   2 of   2 in __main__.texas_holdem\n",
      "***Test Failed*** 2 failures.\n"
     ]
    },
    {
     "data": {
      "text/plain": [
       "TestResults(failed=2, attempted=18)"
      ]
     },
     "execution_count": 52,
     "metadata": {},
     "output_type": "execute_result"
    }
   ],
   "source": [
    "#HAUTEUR = 0\n",
    "#PAIRE = 1\n",
    "#DOUBLE_PAIRE = 2\n",
    "#BRELAN = 3\n",
    "#QUINTE = 4\n",
    "#COULEUR = 5\n",
    "#FULL_HOUSE = 6\n",
    "#CARRE = 7\n",
    "#QUINTE_FLUSH = 8\n",
    "\n",
    "def valeur_main(main):\n",
    "    \"\"\"\n",
    "    >>> valeur_main([Carte(2,3), Carte(3,2), Carte(10,2), Carte(11,1), Carte(13,0)])\n",
    "    0\n",
    "    >>> valeur_main([Carte(2,3), Carte(3,2), Carte(11,2), Carte(11,1), Carte(13,0)])\n",
    "    1\n",
    "    >>> valeur_main([Carte(2,3), Carte(2,0), Carte(11,2), Carte(11,1), Carte(13,0)])\n",
    "    2\n",
    "    >>> valeur_main([Carte(2,3), Carte(11,0), Carte(11,2), Carte(11,1), Carte(13,0)])\n",
    "    3\n",
    "    >>> valeur_main([Carte(2,3), Carte(3,0), Carte(4,2), Carte(5,1), Carte(6,0)])\n",
    "    4\n",
    "    >>> valeur_main([Carte(2,3), Carte(3,0), Carte(4,2), Carte(5,1), Carte(14,0)])\n",
    "    4\n",
    "    >>> valeur_main([Carte(2,3), Carte(3,3), Carte(4,3), Carte(7,3), Carte(14,3)])\n",
    "    5\n",
    "    >>> valeur_main([Carte(2,3), Carte(11,0), Carte(11,2), Carte(11,1), Carte(2,0)])\n",
    "    6\n",
    "    >>> valeur_main([Carte(2,3), Carte(11,0), Carte(11,2), Carte(11,1), Carte(11,3)])\n",
    "    7\n",
    "    >>> valeur_main([Carte(10,0), Carte(11,0), Carte(12,0), Carte(13,0), Carte(14,0)])\n",
    "    8\n",
    "    \"\"\"\n",
    "     \n",
    "    # mettre la liste en ordre avant de faire la comparaison pour verifier la Quinte\n",
    "    lst_hauteur = []\n",
    "    for carte in main :\n",
    "        lst_hauteur.append(carte.hauteur) \n",
    "    lst_hauteur.sort() # range les hauteurs par ordre croissant\n",
    "    \n",
    "    suite = 0\n",
    "    for i in range(len(lst_hauteur) - 1):           \n",
    "        if (lst_hauteur[i] + 1 == lst_hauteur[i + 1]) or (lst_hauteur[i + 1] == 14 and lst_hauteur[0] == 2) :\n",
    "            suite += 1\n",
    "        else :\n",
    "            suite = 0            \n",
    "        if suite == 4 :\n",
    "            if couleur(main) == True: # on a une quinte flush\n",
    "                return 8\n",
    "            return 4                  # on a une simple quinte\n",
    "\n",
    "    if couleur(main) == False : # cas ou il n'y a pas de couleurs\n",
    "        \n",
    "        if max(tab_hauteurs(main)) == 1 : # hauteur\n",
    "            return 0\n",
    "        \n",
    "        elif max(tab_hauteurs(main)) == 2 :\n",
    "            occurence = tab_hauteurs(main).count(2) # compte le nombre de paire\n",
    "            if occurence == 1 :   # une paire\n",
    "                return 1\n",
    "            elif occurence == 2 :  # deux paire\n",
    "                return 2\n",
    "            \n",
    "        elif max(tab_hauteurs(main)) == 4 : # carre\n",
    "            return 7\n",
    "        \n",
    "        elif max(tab_hauteurs(main)) == 3 :\n",
    "            if max(x for x in tab_hauteurs(main) if x != 3) == 2 : # full house (brelan et paire)\n",
    "                return 6\n",
    "            return 3 # brelan\n",
    "\n",
    "    elif couleur(main) == True : # cas ou il y a une couleur\n",
    "\n",
    "        if max(tab_hauteurs(main)) == 1 : # couleur\n",
    "            return 5\n",
    "\n",
    "doctest.testmod()"
   ]
  },
  {
   "cell_type": "markdown",
   "metadata": {},
   "source": [
    "* En simulant 10000 jeux de cartes où on prend une main de 5 cartes à chaque fois, estimer la probabilité d'avoir une paire et celle d'avoir 2 paires."
   ]
  },
  {
   "cell_type": "code",
   "execution_count": 69,
   "metadata": {},
   "outputs": [
    {
     "name": "stdout",
     "output_type": "stream",
     "text": [
      "La probabilité d'avoir une paire est de 40.33%.\n",
      "La probabilité d'avoir deux paires est de 4.08%.\n"
     ]
    }
   ],
   "source": [
    "proba_paire = 0\n",
    "proba_deux_paires = 0\n",
    "for _ in range(10000):\n",
    "    JC = JeuDeCartes()\n",
    "    M = JC.pioche_n(5)\n",
    "    val = valeur_main(M)\n",
    "    if val == 1 :\n",
    "        proba_paire += 1\n",
    "    if val == 2 :\n",
    "        proba_deux_paires += 1\n",
    "print(f\"La probabilité d'avoir une paire est de {proba_paire / 100}%.\")\n",
    "print(f\"La probabilité d'avoir deux paires est de {proba_deux_paires / 100}%.\")"
   ]
  },
  {
   "cell_type": "markdown",
   "metadata": {},
   "source": [
    "## 4. Texas Holdem\n",
    "\n",
    "Dans cette version du poker chaque joueur ne reçoit que deux cartes, et cinq cartes sont (progressivement) dévoilées sur la table. La valeur du jeu de chaque joueur est la meilleure combinaison possibles de cinq cartes qu'il peut faire en utilisant ses cartes et les cartes de la table (il peut prendre soit les 2 cartes de sa main et 3 de la table, soit 1 de sa main et 4 de la table, soit les 5 de la table)."
   ]
  },
  {
   "cell_type": "markdown",
   "metadata": {},
   "source": [
    "On rappelle qu'on peut énumérer tous les sous-ensembles de taille $k$ d'un ensemble donné grâce à `combinations` de la bibliothèque `itertools` (voir document *Enumérer des collections d'éléments*)"
   ]
  },
  {
   "cell_type": "markdown",
   "metadata": {},
   "source": [
    "Un des problèmes pour calculer la meilleure main c'est qu'il y a des règles précises pour, par exemple, départager deux mains qui ont toutes les deux une paire, ou deux full house, etc. Implanter ces règles et un peu laborieux, on pourra donc utiliser le code suivant qui fait le travail."
   ]
  },
  {
   "cell_type": "code",
   "execution_count": 70,
   "metadata": {},
   "outputs": [],
   "source": [
    "def compare_mains(main1, main2):\n",
    "    \"\"\"Retourne True si la meilleure main est main1 ou s'il y a égalité\"\"\"\n",
    "    v1 = valeur_main(main1)\n",
    "    v2 = valeur_main(main2)\n",
    "    if v1 != v2:\n",
    "        return v1 > v2\n",
    "    # gestion des égalités\n",
    "    if v1 == QUINTE or v1 == QUINTE_FLUSH:\n",
    "        m1 = max([carte.hauteur for carte in main1])\n",
    "        m2 = max([carte.hauteur for carte in main2])\n",
    "        return m1 >= m2\n",
    "    if v1 == HAUTEUR or v1 == COULEUR:\n",
    "        tri1 = sorted([carte.hauteur for carte in main1], reverse=True)\n",
    "        tri2 = sorted([carte.hauteur for carte in main2], reverse=True)\n",
    "        return tri1 >= tri2\n",
    "    th1 = tab_hauteurs(main1)\n",
    "    th2 = tab_hauteurs(main2)\n",
    "    if v1 == CARRE:\n",
    "        h1 = th1.index(4)\n",
    "        h2 = th2.index(4) \n",
    "        if h1 != h2: # hauteur du carré pour décider qui gagne\n",
    "            return h1 >= h2\n",
    "        return th1.index(1) >= th2.index(1) # si carré de meme hauteur 5eme carte départage\n",
    "    if v1 == FULL_HOUSE:\n",
    "        h1 = th1.index(3)\n",
    "        h2 = th2.index(3)\n",
    "        if h1 != h2: # hauteur du brelan pour décider qui gagne\n",
    "            return h1 >= h2\n",
    "        return th1.index(2) >= th2.index(2) # si brelan de meme hauteur, paire  départage\n",
    "    if v1 == BRELAN:\n",
    "        h1 = th1.index(3)\n",
    "        h2 = th2.index(3)\n",
    "        if h1 != h2: # hauteur du brelan pour décider qui gagne\n",
    "            return h1 >= h2\n",
    "        tri1 = sorted([carte.hauteur for carte in main1], reverse=True)\n",
    "        tri2 = sorted([carte.hauteur for carte in main2], reverse=True)\n",
    "        return tri1 >= tri2\n",
    "    if v1 == PAIRE:\n",
    "        h1 = th1.index(2)\n",
    "        h2 = th2.index(2)\n",
    "        if h1 != h2: # hauteur de la paire pour décider qui gagne\n",
    "            return h1 >= h2\n",
    "        tri1 = sorted([carte.hauteur for carte in main1], reverse=True)\n",
    "        tri2 = sorted([carte.hauteur for carte in main2], reverse=True)\n",
    "        return tri1 >= tri2\n",
    "    if v1 == DOUBLE_PAIRE:\n",
    "        paires1 = sorted([i for i in range(15) if th1[i]==2], reverse=True)\n",
    "        paires2 = sorted([i for i in range(15) if th1[i]==2], reverse=True)\n",
    "        if paires1 != paires2:\n",
    "            return paires1 >= paires2\n",
    "        return th1.index(1) >= th2.index(1)"
   ]
  },
  {
   "cell_type": "markdown",
   "metadata": {},
   "source": [
    "* Ecrire une fonction `texas_holdem(main, table)` qui prend en argument une main de 2 cartes `main` et une `table` de cinq cartes, et qui retourne la meilleure combinaison de 5 cartes que l'on peut faire avec cette main."
   ]
  },
  {
   "cell_type": "code",
   "execution_count": 84,
   "metadata": {},
   "outputs": [],
   "source": [
    "from itertools import combinations\n",
    "\n",
    "def texas_holdem(main, table):\n",
    "    \"\"\"\n",
    "    >>> sorted(texas_holdem([Carte(2,0), Carte(7,0)], [Carte(3, 1), Carte(3,0), Carte(8,0), Carte(10, 2), Carte(11, 0)]))\n",
    "    [2-Trefle, 3-Trefle, 7-Trefle, 8-Trefle, V-Trefle]\n",
    "    >>> sorted(texas_holdem([Carte(2,0), Carte(11,1)], [Carte(3, 1), Carte(3,0), Carte(8,0), Carte(10, 2), Carte(11, 0)]))\n",
    "    [3-Carreau, 3-Trefle, 10-Coeur, V-Carreau, V-Trefle]   \n",
    "    \"\"\"\n",
    "    pass\n",
    "texas_holdem([Carte(2,0), Carte(7,0)], [Carte(3, 1), Carte(3,0), Carte(8,0), Carte(10, 2), Carte(11, 0)])"
   ]
  },
  {
   "cell_type": "markdown",
   "metadata": {},
   "source": [
    "On souhaite maintenant savoir si une main de deux cartes que l'on reçoit au début d'une partie, avant que la table ne soit dévoilée, est une bonne main ou non.\n",
    "\n",
    "* Ajouter une méthode `enlever_carte(self, carte)` à la classe `JeuDeCarte`, qui permet d'enlever la carte `carte` du jeu. "
   ]
  },
  {
   "cell_type": "code",
   "execution_count": 20,
   "metadata": {},
   "outputs": [
    {
     "ename": "IndentationError",
     "evalue": "expected an indented block (328941340.py, line 5)",
     "output_type": "error",
     "traceback": [
      "\u001b[1;36m  Cell \u001b[1;32mIn [20], line 5\u001b[1;36m\u001b[0m\n\u001b[1;33m    def pioche(self):\u001b[0m\n\u001b[1;37m    ^\u001b[0m\n\u001b[1;31mIndentationError\u001b[0m\u001b[1;31m:\u001b[0m expected an indented block\n"
     ]
    }
   ],
   "source": [
    "class JeuDeCartes:\n",
    "    def __init__(self):\n",
    "        # à compléter\n",
    "                \n",
    "    def pioche(self):\n",
    "        # à compléter\n",
    "\n",
    "    def pioche_n(self, n):\n",
    "        # à compléter\n",
    "    \n",
    "    def enlever_carte(self, carte):\n",
    "        # à compléter"
   ]
  },
  {
   "cell_type": "markdown",
   "metadata": {},
   "source": [
    "* Ecrire une fonction `simulation(main, nbr)` qui simule `nbr` parties à deux joueurs de Poker Texas Holdem où le premier joueur possède la main de départ `main` (de deux cartes) et qui retourne le nombre de parties gagnées par le premier joueur (ou avec égalité)."
   ]
  },
  {
   "cell_type": "code",
   "execution_count": null,
   "metadata": {},
   "outputs": [],
   "source": []
  },
  {
   "cell_type": "markdown",
   "metadata": {},
   "source": [
    "* En utilisant `simulation` avec `nbr=10000`, estimer les probabilités de gain des mains suivantes :\n",
    "- une paire d'as\n",
    "- un as et un deux de couleurs différentes\n",
    "- un as et un deux de même couleur\n",
    "- une paire de deux\n",
    "- un deux et un sept de couleurs différentes\n",
    "- un deux et un sept de même couleur\n",
    "\n",
    "(ça prend un peu de temps, soyez patients)"
   ]
  },
  {
   "cell_type": "code",
   "execution_count": null,
   "metadata": {},
   "outputs": [],
   "source": []
  },
  {
   "cell_type": "markdown",
   "metadata": {},
   "source": [
    "## 5. Génération des combinaisons\n",
    "\n",
    "Pour générer toutes les combinaisons (ou sous-ensembles) d'un ensemble, nous avons utilisé la fonction `combinations` du module `itertools`. Nous allons maintenant programmer nous-mêmes cette génération.\n",
    "\n",
    "- Ecrire une fonction `subset` qui génère tous les sous-ensembles de cardinal donné d'un ensemble fini (sous forme de listes).\n",
    "\n",
    "~~~py\n",
    ">>> subset([1, 2, 3], 2)\n",
    "\n",
    "[[1, 2], [1, 3], [2, 3]]\n",
    "~~~\n",
    "\n",
    "On pourra procéder de manière récursive en utilisant la propriété suivante.\n",
    "\n",
    "Soit $A$ un ensemble non-vide. Soit $x$ un élément de $A$. Alors tout sous-ensemble de cardinal $n$ de $A$ est :\n",
    "\n",
    "* soit un ensemble de la forme $\\{x\\} \\cup S$, où $S$ est un sous-ensemble de cardinal $n-1$ de $A \\setminus \\{x\\}$ ;\n",
    "* soit un sous-ensemble de cardinal $n$ de $A \\setminus \\{x\\}$."
   ]
  },
  {
   "cell_type": "code",
   "execution_count": null,
   "metadata": {},
   "outputs": [],
   "source": []
  }
 ],
 "metadata": {
  "kernelspec": {
   "display_name": "Python 3 (ipykernel)",
   "language": "python",
   "name": "python3"
  },
  "language_info": {
   "codemirror_mode": {
    "name": "ipython",
    "version": 3
   },
   "file_extension": ".py",
   "mimetype": "text/x-python",
   "name": "python",
   "nbconvert_exporter": "python",
   "pygments_lexer": "ipython3",
   "version": "3.9.0"
  }
 },
 "nbformat": 4,
 "nbformat_minor": 2
}
