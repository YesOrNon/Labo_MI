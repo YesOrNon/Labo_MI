{
 "cells": [
  {
   "cell_type": "markdown",
   "metadata": {},
   "source": [
    "# Problème 2 : Cryptographie"
   ]
  },
  {
   "cell_type": "markdown",
   "metadata": {},
   "source": [
    "Un **chiffrement** est un procédé qui transforme un message en un autre message (le message chiffré), de manière à rendre impossible, en principe, la reconstitution du message original à partir du message chiffré, sauf à connaître la **clé** de déchiffrement, c'est-à-dire le ou les paramètres nécessaires à l'opération de déchiffrement. Notons au passage que *chiffrer* ne signifie donc pas *transformer en chiffres*.\n",
    "\n",
    "Dans ce problème, nous allons étudier la méthode de chiffrement de Hill. L'objectif est de programmer les opérations de chiffrement et de déchiffrement, ainsi qu'une attaque par force brute.\n",
    "\n",
    "La méthode de Hill fait appel à des concepts d'arithmétique et en particulier à la notion d'**inverse modulaire**."
   ]
  },
  {
   "cell_type": "markdown",
   "metadata": {},
   "source": [
    "## A. Rappels d'arithmétique"
   ]
  },
  {
   "cell_type": "markdown",
   "metadata": {},
   "source": [
    "Les notions de **division euclidienne**, de **multiple**, de **diviseur** et de **PGCD** sont supposées connues (voir le cours de L1 ou le document d'accompagnement sur l'arithmétique si nécessaire)."
   ]
  },
  {
   "cell_type": "markdown",
   "metadata": {},
   "source": [
    "* On appelle **reste de $a$ modulo $b$** le reste de la division euclidienne de $a$ par $b$. On le note $a \\operatorname{mod} b$. Quel opérateur Python permet de calculer ce reste ? A l'aide de cet opérateur, vérifier que $60 \\bmod 26 = 8$, puis calculer $111 \\operatorname{mod} 26$."
   ]
  },
  {
   "cell_type": "code",
   "execution_count": 10,
   "metadata": {},
   "outputs": [
    {
     "name": "stdout",
     "output_type": "stream",
     "text": [
      "8\n",
      "7\n"
     ]
    }
   ],
   "source": [
    "print(60 % 26)\n",
    "print(111 % 26)"
   ]
  },
  {
   "cell_type": "markdown",
   "metadata": {},
   "source": [
    "* On appelle **quotient entier de $a$ par $b$** le quotient de la division euclidienne de $a$ par $b$. Quel opérateur Python permet de calculer ce quotient ? A l'aide de cet opérateur, vérifier que le quotient entier de $60$ par $26$ est $2$, puis calculer le quotient entier de $111$ par $9$."
   ]
  },
  {
   "cell_type": "code",
   "execution_count": 11,
   "metadata": {},
   "outputs": [
    {
     "name": "stdout",
     "output_type": "stream",
     "text": [
      "2\n",
      "12\n"
     ]
    }
   ],
   "source": [
    "print(60//26)\n",
    "print(111//9)"
   ]
  },
  {
   "cell_type": "markdown",
   "metadata": {},
   "source": [
    "* Quelle fonction Python (du module `math`) permet de calculer le PGCD de deux entiers ? A l'aide de cette fonction, calculer le PGCD de 196 et 252, puis le PGCD de 196 et 225."
   ]
  },
  {
   "cell_type": "code",
   "execution_count": 12,
   "metadata": {},
   "outputs": [
    {
     "name": "stdout",
     "output_type": "stream",
     "text": [
      "28\n",
      "1\n"
     ]
    }
   ],
   "source": [
    "from math import gcd\n",
    "print(gcd(196, 252))\n",
    "print(gcd(196, 225))"
   ]
  },
  {
   "cell_type": "markdown",
   "metadata": {},
   "source": [
    "On dit que deux entiers sont **premiers entre eux** si leur PGCD est égal à 1. (Attention : cette notion est distincte de la notion de nombre premier.)"
   ]
  },
  {
   "cell_type": "markdown",
   "metadata": {},
   "source": [
    "* A l'aide d'un (court) programme Python, déterminer tous les nombres compris entre $1$ et $30$ qui sont premiers avec $32$ (vous devez obtenir $1, 3, 5, 7, 9, 11, 13, 15, 17, 19, 21, 23, 25, 27, 29$ ; même chose avec tous les nombres compris entre $1$ et $30$ qui sont premiers avec $10$."
   ]
  },
  {
   "cell_type": "code",
   "execution_count": 13,
   "metadata": {
    "scrolled": true
   },
   "outputs": [
    {
     "name": "stdout",
     "output_type": "stream",
     "text": [
      "Premier avec 32 : \n",
      "1, 3, 5, 7, 9, 11, 13, 15, 17, 19, 21, 23, 25, 27, 29, \n",
      "Premier avec 10 :\n",
      "1, 3, 7, 9, 11, 13, 17, 19, 21, 23, 27, 29, "
     ]
    }
   ],
   "source": [
    "print(\"Premier avec 32 : \")\n",
    "for i in range(30):\n",
    "    if gcd(i, 32) == 1 :\n",
    "        print(i, end=\", \")\n",
    "        \n",
    "print(\"\\nPremier avec 10 :\")        \n",
    "for i in range(30):\n",
    "    if gcd(i, 10) == 1 :\n",
    "        print(i, end=\", \")\n"
   ]
  },
  {
   "cell_type": "markdown",
   "metadata": {},
   "source": [
    "**Définition.** Soit $n\\in \\mathbb{N}^*$. On dit que deux entiers $a$ et $b$ sont **congrus modulo $n$** si $n$ divise $b-a$. On note cette relation $a \\equiv b \\pmod n$. \n",
    "\n",
    "Par exemple, $4 \\equiv 10 \\pmod 3$.\n",
    "\n",
    "En particulier $a \\equiv 0 \\pmod n$ signifie que $n$ divise $a$.\n",
    "\n",
    "Les caractérisations suivantes de la relation de congruence sont souvent utiles.\n",
    "\n",
    "**Proposition.** Deux entiers $a$ et $b$ sont congrus modulo $n$ si et seulement s'il existe un entier $k$ tel que $a = b + kn$.\n",
    "\n",
    "**Proposition.** Deux entiers $a$ et $b$ sont congrus modulo $n$ si et seulement s'ils ont le même reste modulo $n$."
   ]
  },
  {
   "cell_type": "markdown",
   "metadata": {},
   "source": [
    "* Parmi les relations suivantes, lequelles sont vraies ?\n",
    "\n",
    "    * $ 23 \\equiv 9 \\pmod 7$\n",
    "\n",
    "    * $ 41 \\equiv 21 \\pmod 8$\n",
    "\n",
    "    * $ -5 \\equiv 7 \\pmod 6$\n",
    "\n",
    "    * $ -16 \\equiv 16 \\pmod{11}$"
   ]
  },
  {
   "cell_type": "markdown",
   "metadata": {},
   "source": [
    "<span style = \"color : blue;\"> \n",
    "Les relations vraies sont : $ -5 \\equiv 7 \\pmod 6 $ et $ 23 \\equiv 9 \\pmod{7} $ \n",
    "</span>"
   ]
  },
  {
   "cell_type": "markdown",
   "metadata": {},
   "source": [
    "**Proposition.** La relation de congruence modulo $n$ est une relation d'équivalence. \n",
    "\n",
    "**Proposition.** Si  $a \\equiv b \\pmod n$ et  $c \\equiv d \\pmod n$, alors  $a +c \\equiv b+d \\pmod n$ et $ac \\equiv bd \\pmod n$."
   ]
  },
  {
   "cell_type": "markdown",
   "metadata": {},
   "source": [
    "## B. Inverse modulaire d'un entier"
   ]
  },
  {
   "cell_type": "markdown",
   "metadata": {},
   "source": [
    "**Définition.** Soit $n \\in \\mathbb{N}^*$. Soit $a \\in \\mathbb{Z}$. On dit que $b \\in \\mathbb{Z}$ est un **inverse de $a$ pour la multiplication modulo $n$** (ou plus simplement un **inverse de $a$ modulo $n$**) si :\n",
    "\n",
    "$$\n",
    "a b \\equiv 1 \\pmod n.\n",
    "$$\n",
    "\n",
    "Si un nombre admet un inverse modulo $n$, on dit qu'il est **inversible** modulo $n$.\n",
    "\n",
    "**Exemple.** Le nombre $8$ est inversible modulo $11$. Le nombre $7$ est un inverse de $8$ car $7 \\times 8 \\equiv 56 \\equiv 1 \\pmod{11}$. Les entiers $18$ et $-4$ sont aussi des inverses de $8$ modulo $7$.\n",
    "\n",
    "Attention, cet inverse n'existe pas toujours. Par exemple $2$ n'a pas d'inverse modulo $6$.\n",
    "\n",
    "Voici quelques résultats fondamentaux sur les inverse modulaires.\n",
    "\n",
    "**Proposition.** Un entier $a$ est inversible modulo $n$ si et seulement si $a$ et $n$ sont premiers entre eux.\n",
    "\n",
    "\n",
    "**Proposition.** Si $x$ est un inverse de $a$ modulo $n$ alors tous les nombres $y$ tels que $x \\equiv y \\pmod n$ sont des inverses de $a$ modulo $n$. En particulier $x \\operatorname{mod} n$ est un inverse de $a$ modulo $n$. C'est l'unique inverse compris entre $1$ et $n-1$.\n",
    "\n",
    "### B.1 Un algorithme naïf\n",
    "\n",
    "Pour trouver un inverse de $a$ modulo $n$, on peut procéder ainsi.\n",
    "\n",
    "*On parcourt les nombres de $1$ à $n-1$ et on teste chaque nombre (en calculant son produit avec $a$ modulo $n$) pour voir s'il s'agit d'un inverse modulo $n$. Dès qu'un nombre convient, on le renvoie et on s'arrête. Si aucun nombre ne convient, on renvoie un message d'erreur.*"
   ]
  },
  {
   "cell_type": "markdown",
   "metadata": {},
   "source": [
    "* Ecrire une fonction `invmod` qui prend en paramètre un entier $a$ et un entier $n$, et qui met en œuvre l'algorithme de calcul d'inverse décrit ci-dessus. Pour renvoyer une erreur, utiliser l'instruction `raise ValueError('Nombre non inversible')`. Tester cette fonction sur les exemples suivants.\n",
    "\n",
    "```py\n",
    ">>> invmod(8, 11)\n",
    "7\n",
    ">>> invmod(2, 6)\n",
    "Traceback (most recent call last)\n",
    " ...\n",
    "ValueError: Nombre non inversible\n",
    "```"
   ]
  },
  {
   "cell_type": "code",
   "execution_count": 14,
   "metadata": {},
   "outputs": [
    {
     "data": {
      "text/plain": [
       "7"
      ]
     },
     "execution_count": 14,
     "metadata": {},
     "output_type": "execute_result"
    }
   ],
   "source": [
    "def invmod(a, n) :\n",
    "    for i in range(n-1) :\n",
    "        if (i*a)%n == 1 :\n",
    "            return i\n",
    "    raise ValueError(\"Nombre non inversible\")\n",
    "    \n",
    "invmod(8, 11)\n",
    "#invmod(2, 6) ligne qui cherche l'erreur"
   ]
  },
  {
   "cell_type": "markdown",
   "metadata": {},
   "source": [
    "### B.2 Algorithme d'Euclide étendu"
   ]
  },
  {
   "cell_type": "markdown",
   "metadata": {},
   "source": [
    "L'algorithme précédent n'est pas très efficace quand $n$ devient grand. Il existe une meilleure façon de déterminer un inverse modulaire basée sur l'**algorithme d'Euclide étendu**.\n",
    "\n",
    "L'**algorithme d'Euclide** est l'algorithme de référence pour déterminer le PGCD de deux nombres.\n",
    "\n",
    "Il repose sur le calcul des termes des suites récurrentes $(a_n)_{n\\in\\mathbb{N}}$ et $(b_n)_{n\\in\\mathbb{N}}$ définies par\n",
    "\n",
    "$$ \\left\\{\n",
    "\\begin{align*}\n",
    "& a_0 = a \\\\\n",
    "& b_0 = b\\\\\n",
    "& a_{n+1} = b_n \\\\\n",
    "& b_{n+1} = a_n \\operatorname{mod} b_n \\\\\n",
    "\\end{align*}\n",
    "\\right.\n",
    "$$\n",
    "\n",
    "Dès que que $b_n$ vaut $0$, l'algorithme s'arrête et renvoie $a_n$, qui est alors égal au PGCD de $a$ et $b$.\n",
    "\n",
    "La fonction suivante propose une implémentation de l'algorithme d'Euclide.\n",
    "\n",
    "```py\n",
    "def euclide(a, b):\n",
    "    while b != 0:\n",
    "        a, b = b , a % b\n",
    "    return a\n",
    "```"
   ]
  },
  {
   "cell_type": "markdown",
   "metadata": {},
   "source": [
    "L'algorithme d'Euclide étendu est une variante de l'algorithme d'Euclide qui, en plus du PGCD de $a$ et $b$, renvoie deux coefficients $u$ et $v$ tels que :\n",
    "\n",
    "$$\n",
    "au+bv = \\text{PGCD}(a, b)\n",
    "$$\n",
    "\n",
    "**Remarque.** L'existence de tels coefficients $u$ et $v$ n'a rien d'évident à première vue. Elle est en fait garantie par un théorème (le **théorème de Bezout**).\n",
    "\n",
    "En plus du calcul des suites $(a_n)_{n\\in\\mathbb{N}}$ et $(b_n)_{n\\in\\mathbb{N}}$, l'algorithme d'Euclide étendu nécessite le calcul des suites $(u_n)_{n\\in\\mathbb{N}}$ et $(v_n)_{n\\in\\mathbb{N}}$ définies par\n",
    "\n",
    "$$ \\left\\{\n",
    "\\begin{align*}\n",
    "& u_0 = 1,\\ u_1 = 0 \\\\\n",
    "& v_0 = 0,\\ v_1 = 1 \\\\\n",
    "& u_{n+1} = u_{n-1} - q_n u_n \\\\\n",
    "& v_{n+1} = v_{n-1} - q_n v_n \\\\\n",
    "\\end{align*}\n",
    "\\right.\n",
    "$$\n",
    "\n",
    "où $q_n$ désigne le quotient entier de $a_n$ par $b_n$.\n",
    "\n",
    "Les suites $(u_n)_{n\\in\\mathbb{N}}$ et $(v_n)_{n\\in\\mathbb{N}}$ sont des suites récurrentes d'ordre 2. Comme l'algorithme d'Euclide, l'algorithme d'Euclide étendu s'arrête dès que que $b_n$ vaut $0$. Il renvoie $a_n$, qui est égal à $\\text{PGCD}(a, b)$, ainsi que $u_n$ et $v_n$, qui vérifient $au_n+bv_n = \\text{PGCD}(a, b)$. "
   ]
  },
  {
   "cell_type": "markdown",
   "metadata": {},
   "source": [
    "* Ecrire une fonction `euclide_etendu` qui met en œuvre l'algorithme d'Euclide étendu. (Voir le document *Suites récurrentes* pour la programmation du calcul des termes d'une suite récurrente d'ordre 2.)"
   ]
  },
  {
   "cell_type": "code",
   "execution_count": 35,
   "metadata": {},
   "outputs": [],
   "source": [
    "def euclide_etendu(a, b):\n",
    "    \n",
    "    u_0, u_1 = 1, 0\n",
    "    v_0, v_1 = 0, 1  \n",
    "    \n",
    "    while b!= 0 :\n",
    "        \n",
    "        q = a//b\n",
    "        \n",
    "        u_1, u_0 = u_0 - q*u_1, u_1\n",
    "        v_1, v_0 = v_0 - q*v_1, v_1\n",
    "        \n",
    "        a, b = b, a % b\n",
    "        \n",
    "    return a, u_0, v_0"
   ]
  },
  {
   "cell_type": "markdown",
   "metadata": {},
   "source": [
    "L'algorithme d'Euclide étendu permet de calculer l'inverse de $a$ modulo $n$. En appliquant cet algorithme aux nombres $a$ et $n$, on obtient en effet deux coefficients $u$ et $v$ tels que :\n",
    "\n",
    "$$\n",
    "a u + nv = 1.\n",
    "$$\n",
    "\n",
    "Par définition de la relation de congruence, cela signifie que\n",
    "\n",
    "$$\n",
    "a u \\equiv 1 \\pmod n.\n",
    "$$\n",
    "\n",
    "Le nombre $u$ est donc un inverse de $a$ modulo $n$. \n",
    "\n",
    "Le nombre $u$ n'est pas nécessairement l'inverse compris entre $1$  et $n-1$. Pour obtenir cet inverse, il suffit de prendre le nombre $u \\operatorname{mod} n$."
   ]
  },
  {
   "cell_type": "markdown",
   "metadata": {},
   "source": [
    "* Tester la fonction `euclide_etendu` sur un exemple."
   ]
  },
  {
   "cell_type": "code",
   "execution_count": 36,
   "metadata": {},
   "outputs": [
    {
     "data": {
      "text/plain": [
       "(1, -4, 3)"
      ]
     },
     "execution_count": 36,
     "metadata": {},
     "output_type": "execute_result"
    }
   ],
   "source": [
    "euclide_etendu(8, 11)"
   ]
  },
  {
   "cell_type": "markdown",
   "metadata": {},
   "source": [
    "* Ecrire une fonction `invmod2` qui calcule l'inverse modulaire en faisant appel à la fonction `euclide_etendu`. Comme `invmod`, cette fonction renverra une erreur si l'inverse n'existe pas."
   ]
  },
  {
   "cell_type": "code",
   "execution_count": 17,
   "metadata": {},
   "outputs": [],
   "source": [
    "def invmod2(a, b, n):\n",
    "    \n",
    "    a, u, v = euclide_etendu(a, b)\n",
    "    if u % n == 1 :\n",
    "        return u\n",
    "    raise ValueError(\"Nombre non inversible\")"
   ]
  },
  {
   "cell_type": "markdown",
   "metadata": {},
   "source": [
    "* Tester la fonction `invmod2` sur un exemple."
   ]
  },
  {
   "cell_type": "code",
   "execution_count": 40,
   "metadata": {},
   "outputs": [
    {
     "ename": "ValueError",
     "evalue": "Nombre non inversible",
     "output_type": "error",
     "traceback": [
      "\u001b[1;31m---------------------------------------------------------------------------\u001b[0m",
      "\u001b[1;31mValueError\u001b[0m                                Traceback (most recent call last)",
      "Cell \u001b[1;32mIn [40], line 1\u001b[0m\n\u001b[1;32m----> 1\u001b[0m \u001b[43minvmod2\u001b[49m\u001b[43m(\u001b[49m\u001b[38;5;241;43m8\u001b[39;49m\u001b[43m,\u001b[49m\u001b[43m \u001b[49m\u001b[38;5;241;43m1\u001b[39;49m\u001b[43m,\u001b[49m\u001b[43m \u001b[49m\u001b[38;5;241;43m11\u001b[39;49m\u001b[43m)\u001b[49m\n",
      "Cell \u001b[1;32mIn [17], line 6\u001b[0m, in \u001b[0;36minvmod2\u001b[1;34m(a, b, n)\u001b[0m\n\u001b[0;32m      4\u001b[0m \u001b[38;5;28;01mif\u001b[39;00m u \u001b[38;5;241m%\u001b[39m n \u001b[38;5;241m==\u001b[39m \u001b[38;5;241m1\u001b[39m :\n\u001b[0;32m      5\u001b[0m     \u001b[38;5;28;01mreturn\u001b[39;00m u\n\u001b[1;32m----> 6\u001b[0m \u001b[38;5;28;01mraise\u001b[39;00m \u001b[38;5;167;01mValueError\u001b[39;00m(\u001b[38;5;124m\"\u001b[39m\u001b[38;5;124mNombre non inversible\u001b[39m\u001b[38;5;124m\"\u001b[39m)\n",
      "\u001b[1;31mValueError\u001b[0m: Nombre non inversible"
     ]
    }
   ],
   "source": [
    "#invmod2(8, 1, 11)"
   ]
  },
  {
   "cell_type": "markdown",
   "metadata": {},
   "source": [
    "## C. Inverse modulaire d'une matrice\n",
    "\n",
    "**Définition.** On dit que deux matrices (ou deux vecteurs) sont congrus modulo $n$ si tous leurs coefficients sont congrus modulo $n$ deux à deux. On utilise la même notation que pour les entiers.\n",
    "\n",
    "Par exemple,\n",
    "\n",
    "$$\n",
    "\\begin{pmatrix}\n",
    "7 & 3 \\\\ 10 & 1\n",
    "\\end{pmatrix}\n",
    "\\equiv\n",
    "\\begin{pmatrix}\n",
    "2 & 8 \\\\ 0 & 16\n",
    "\\end{pmatrix}\n",
    "\\pmod 5\n",
    "$$\n",
    "\n",
    "Soit $A$ une matrice (ou un vecteur). On note $A \\operatorname{mod} n$ la matrice (ou le vecteur) obtenue quand on prend le reste modulo $n$ des coefficients de $A$.\n",
    "\n",
    "Par exemple,\n",
    "$$\n",
    "\\begin{pmatrix}\n",
    "7 & 3 \\\\ 10 & 1\n",
    "\\end{pmatrix}\n",
    "\\operatorname{mod} 5\n",
    "=\n",
    "\\begin{pmatrix}\n",
    "2 & 3 \\\\ 0 & 1\n",
    "\\end{pmatrix}\n",
    "$$\n",
    "\n",
    "**Définition.** Soit $n \\in \\mathbb{N}^*$. Soit $A$ une matrice $2\\times 2$ à coefficients entiers. On dit qu'une matrice $2\\times 2$ à coefficients entiers $B$ est une **matrice inverse de $A$ pour la multiplication modulo $n$** (ou plus simplement un **matrice inverse de $A$ modulo $n$**) si :\n",
    "\n",
    "$$\n",
    "A B \\equiv \\begin{pmatrix}\n",
    "1 & 0 \\\\ 0 & 1\n",
    "\\end{pmatrix} \\pmod n.\n",
    "$$\n",
    "\n",
    "Si une matrice admet une matrice inverse modulo $n$, on dit qu'elle est **inversible** modulo $n$.\n",
    "\n",
    "**Proposition.** Si $M$ est une matrice inverse de $A$ modulo $n$ alors toutes les matrices $N$ telles que $M \\equiv N \\pmod n$ sont des matrices inverses de $A$ modulo $n$. En particulier $M \\operatorname{mod} n$ est une matrice inverse de $A$ modulo $n$. C'est l'unique matrice inverse dont tous les coefficients sont compris entre $0$ et $n-1$."
   ]
  },
  {
   "cell_type": "markdown",
   "metadata": {},
   "source": [
    "On définit le **déterminant** d'une matrice $\\begin{pmatrix}\n",
    "a & b \\\\ c & d\n",
    "\\end{pmatrix}$ comme la quantité $ad-bc$.\n",
    "\n",
    "* Soit $M = \\begin{pmatrix}\n",
    "a & b \\\\ c & d\n",
    "\\end{pmatrix}$. On note $\\delta$ son déterminant. On suppose que $\\delta$ est inversible modulo $n$ et on note $\\gamma$ un inverse de $\\delta$. Vérifier que la matrice\n",
    "\n",
    "$$\n",
    "B = \\gamma \\begin{pmatrix}\n",
    "d & -b \\\\ -c & a\n",
    "\\end{pmatrix}\n",
    "$$\n",
    "\n",
    "est une matrice inverse de $M$ modulo $n$."
   ]
  },
  {
   "cell_type": "markdown",
   "metadata": {},
   "source": [
    "-- *Écrire la réponse ici.* --"
   ]
  },
  {
   "cell_type": "markdown",
   "metadata": {},
   "source": [
    "Nous avons ainsi montré qu'une matrice est inversible modulo $n$ si son déterminant est inversible modulo $n$. Nous admettons que la réciproque est vraie (autrement dit que c'est un \"si et seulement si\")."
   ]
  },
  {
   "cell_type": "markdown",
   "metadata": {},
   "source": [
    "*  Ecrire une fonction `det` qui calcule le déterminant d'une matrice $2 \\times 2$."
   ]
  },
  {
   "cell_type": "code",
   "execution_count": 82,
   "metadata": {},
   "outputs": [],
   "source": [
    "def det(matrice) :\n",
    "    a, b, c , d = matrice[0][0], matrice[0][1], matrice[1][0], matrice[1][1] \n",
    "    return (a * d) - (b * c)\n",
    "\n",
    "d = det([[2, 1], [1, 3]])"
   ]
  },
  {
   "cell_type": "markdown",
   "metadata": {},
   "source": [
    "* Ecrire une fonction `invmatmod` qui prend en paramètres une matrice `M` (de taille $2 \\times 2$) et un entier `n`, et qui renvoie une matrice inverse modulo $n$ dont tous les coefficients sont compris entre $0$ et $n-1$. "
   ]
  },
  {
   "cell_type": "code",
   "execution_count": 86,
   "metadata": {},
   "outputs": [
    {
     "data": {
      "text/plain": [
       "[[15, -5], [-5, 10]]"
      ]
     },
     "execution_count": 86,
     "metadata": {},
     "output_type": "execute_result"
    }
   ],
   "source": [
    "def invmatmod(matrice, n):\n",
    "    deter = det(matrice)\n",
    "    inv_deter = deter % n\n",
    "    \n",
    "    a, b, c , d = matrice[0][0], matrice[0][1], matrice[1][0], matrice[1][1] \n",
    "    t_M = [[d, -b], [-c, a]]\n",
    "    \n",
    "    w, x, y, z = t_M[0][0], t_M[0][1], t_M[1][0], t_M[1][1]\n",
    "    \n",
    "    return [[inv_deter * w, inv_deter * x], [inv_deter * y, inv_deter * z]]\n",
    "    "
   ]
  },
  {
   "cell_type": "markdown",
   "metadata": {},
   "source": [
    "* Tester la fonction `invmatmod` sur les exemples suivants.\n",
    "```py\n",
    ">>> invmatmod([[2, 1], [1, 3]], 26)\n",
    "[[11, 5], [5, 16]]\n",
    ">>> invmatmod([[10, 9], [21, 5]], 26)\n",
    "[[11, 1], [11, 22]]\n",
    "```"
   ]
  },
  {
   "cell_type": "code",
   "execution_count": 87,
   "metadata": {},
   "outputs": [
    {
     "data": {
      "text/plain": [
       "[[85, -153], [-357, 170]]"
      ]
     },
     "execution_count": 87,
     "metadata": {},
     "output_type": "execute_result"
    }
   ],
   "source": [
    "invmatmod([[2, 1], [1, 3]], 26)"
   ]
  },
  {
   "cell_type": "markdown",
   "metadata": {},
   "source": [
    "* Grâce à `invmatmod`, déterminer une matrice inverse modulo $26$ de $\\begin{pmatrix} 2 & 1 \\\\ 5 & 12 \\end{pmatrix}$."
   ]
  },
  {
   "cell_type": "code",
   "execution_count": null,
   "metadata": {
    "scrolled": true
   },
   "outputs": [],
   "source": []
  },
  {
   "cell_type": "markdown",
   "metadata": {},
   "source": [
    "## D. Chiffrement de Hill\n",
    "\n",
    "Par souci de simplicité, dans cette section, nous considérons que les messages à chiffrer sont écrits uniquement avec les 26 lettres de l'alphabet latin, en majuscule, sans [signes diacritiques](https://fr.wikipedia.org/wiki/Diacritiques_utilis%C3%A9s_en_fran%C3%A7ais), sans espace et sans ponctuation.\n"
   ]
  },
  {
   "cell_type": "markdown",
   "metadata": {},
   "source": [
    "La **méthode de Hill** consiste à découper le message en blocs de deux lettres et à remplacer chaque bloc de deux lettres par un autre bloc de deux lettres, selon une procédure impliquant un produit matrice-vecteur. La matrice utilisée (une matrice $2\\times 2$ à coefficients dans $\\{0,\\ldots,25\\}$) est appelée matrice de chiffrement.\n",
    "\n",
    "Voyons sur un exemple comment fonctionne cette méthode. \n",
    "\n",
    "La matrice de chiffrement choisie est la matrice\n",
    "\n",
    "$$\n",
    "M = \\begin{pmatrix}2 & 19 \\\\ 5 & 12\\end{pmatrix}.\n",
    "$$\n",
    "\n",
    "Le message à chiffrer est $\\texttt{MATHEMATIQUE}$.\n",
    "\n",
    "**Etape 1.** Le texte doit d'abord être divisé en blocs de deux lettres.\n",
    "\n",
    "$$\\texttt{MA TH EM AT IQ UE}$$\n",
    "\n",
    "Puis chaque bloc de deux lettres est converti en vecteur de deux nombres (A devenant 0, B devenant 1, C devenant 2, etc.)\n",
    "\n",
    "$$(12, 0)\\ (19, 7)\\ (4, 12)\\ (0, 19)\\ (8, 16)\\ (20, 4)$$\n",
    "\n",
    "**Etape 2.** On définit l'application \n",
    "\n",
    "$$\n",
    "g : (x, y) \\mapsto M \\begin{pmatrix}\n",
    "x \\\\ y\n",
    "\\end{pmatrix} \\operatorname{mod} 26,\n",
    "$$\n",
    "\n",
    "On transforme chaque vecteur en lui appliquant la transformation  $g$. \n",
    "\n",
    "Pour le vecteur $(12, 0)$, la transformation donne :\n",
    "\n",
    "$$\n",
    "\\varphi (12, 0) = \\begin{pmatrix}2 & 19 \\\\ 5 & 12\\end{pmatrix} \\begin{pmatrix}12 \\\\ 0\\end{pmatrix} \\operatorname{mod} 26 = \\begin{pmatrix}24 \\\\ 60\\end{pmatrix} \\operatorname{mod} 26 = \\begin{pmatrix}24 \\\\ 8\\end{pmatrix}.\n",
    "$$\n",
    "\n",
    "En appliquant la même transformation à tous les vecteurs, on trouve :\n",
    "\n",
    "$$\n",
    "(24, 8)\\ (15, 23)\\ (2, 8)\\ (23, 20)\\ (8, 24)\\ (12, 18)\\ \n",
    "$$\n",
    "\n",
    "\n",
    "**Etape 3.** Il reste à convertir les vecteurs de nombres en blocs de lettres (0 devenant A, 1 devenant B, 2 devenant C, etc.) Finalement, le texte chiffré est :\n",
    "\n",
    "$$\n",
    "\\texttt{YIPXCIXUIYMS}\n",
    "$$"
   ]
  },
  {
   "cell_type": "markdown",
   "metadata": {},
   "source": [
    "Nous choisissons de représenter informatiquement les vecteurs par des listes et les matrices par des listes de listes (chaque sous-liste contenant les coefficients d'une ligne).\n",
    "\n",
    "Par exemple, le vecteur $(2, 1)$ est représenté par la liste `[2, 1]` et la matrice $\\begin{pmatrix}1 & 0 \\\\ 2 & -3\\end{pmatrix}$ est représentée par `[[1, 0], [2, -3]]`."
   ]
  },
  {
   "cell_type": "markdown",
   "metadata": {},
   "source": [
    "* Ecrire une fonction `mulmat` qui renvoie le produit de deux matrices $2\\times 2$.\n",
    "\n",
    "```py\n",
    ">>> A = [[2, 1], [1, 3]]\n",
    ">>> B = [[1, 2], [3 ,0]]\n",
    ">>> mulmat(A, B)\n",
    "[[5, 4], [10, 2]]\n",
    "```"
   ]
  },
  {
   "cell_type": "code",
   "execution_count": 22,
   "metadata": {},
   "outputs": [
    {
     "data": {
      "text/plain": [
       "[[5, 4], [10, 2]]"
      ]
     },
     "execution_count": 22,
     "metadata": {},
     "output_type": "execute_result"
    }
   ],
   "source": [
    "def mulmat(mat1, mat2) :\n",
    "    \n",
    "    a, b, c, d = mat1[0][0], mat1[0][1], mat1[1][0], mat1[1][1]\n",
    "    w, x, y, z = mat2[0][0], mat2[0][1], mat2[1][0], mat2[1][1]\n",
    "    \n",
    "    m1 = a * w + b * y \n",
    "    m2 = a * x + b * z\n",
    "    m3 = c * w + d * y\n",
    "    m4 = c * x + c * z\n",
    "    \n",
    "    return [[m1, m2], [m3, m4]]\n",
    "\n",
    "mulmat([[2, 1], [1, 3]], [[1, 2], [3 ,0]])"
   ]
  },
  {
   "cell_type": "markdown",
   "metadata": {},
   "source": [
    "* Ecrire une fonction `mulmatvec` qui calcule le produit d'une matrice $2\\times 2$ et d'un vecteur de taille $2$.\n",
    "\n",
    "\n",
    "```py\n",
    ">>> A = [[2, 1], [1, 3]]\n",
    ">>> v = [1, 2]\n",
    ">>> mulmat(A, v)\n",
    "[4, 7]\n",
    "```"
   ]
  },
  {
   "cell_type": "code",
   "execution_count": 27,
   "metadata": {},
   "outputs": [
    {
     "data": {
      "text/plain": [
       "[4, 7]"
      ]
     },
     "execution_count": 27,
     "metadata": {},
     "output_type": "execute_result"
    }
   ],
   "source": [
    "def multmatvec(mat, vect) :\n",
    "    \n",
    "    a, b, c, d = mat[0][0], mat[0][1], mat[1][0], mat[1][1]\n",
    "    x, y = vect[0], vect[1]\n",
    "    \n",
    "    return [a * x + b * y, c * x + d * y]\n",
    "\n",
    "multmatvec([[2, 1], [1, 3]], [1, 2])"
   ]
  },
  {
   "cell_type": "markdown",
   "metadata": {},
   "source": [
    "* Ecrire une fonction `cvn`qui transforme un caractère en nombre (`\"A\"` est transformé en `0`, `\"B\"` en `1`, etc.) et une fonctions `nvc`qui transforme un nombre en caractère (`0` est transformé en `\"A\"`, `1` en `\"B\"`, etc.) Indication : on pourra utiliser les fonctions prédéfinies `chr` et `ord` (voir documentation Python).\n",
    "\n",
    "```py\n",
    ">>> cvn(\"P\")\n",
    "15\n",
    ">>> nvc(16)\n",
    "'Q'\n",
    "```"
   ]
  },
  {
   "cell_type": "code",
   "execution_count": 69,
   "metadata": {},
   "outputs": [
    {
     "name": "stdout",
     "output_type": "stream",
     "text": [
      "15\n",
      "32\n",
      "Q\n",
      "C\n"
     ]
    }
   ],
   "source": [
    "def cvn(caract) :\n",
    "    return ord(caract) - 65\n",
    "\n",
    "def nvc(nombre):\n",
    "    return chr(nombre + 65)\n",
    "\n",
    "print(cvn('P'))\n",
    "print(cvn('a'))\n",
    "print(nvc(16))\n",
    "print(nvc(2))"
   ]
  },
  {
   "cell_type": "markdown",
   "metadata": {},
   "source": [
    "- Ecrire une fonction `chiffre` qui chiffre un texte par la méthode de Hill. Elle prendra en paramètres `M`, la matrice de chiffrement, et `text`, le texte à chiffrer. Si le texte à chiffrer possède un nombre impair de caractères, on ajoutera un caractère final tiré aléatoirement (en utilisant la fonction `randint` du module `random` par exemple). "
   ]
  },
  {
   "cell_type": "code",
   "execution_count": 100,
   "metadata": {},
   "outputs": [],
   "source": [
    "from random import randint\n",
    "\n",
    "def chiffre(text):\n",
    "    \n",
    "    taille = len(text)\n",
    "    if taille % 2 != 0 :\n",
    "        text += nvc(randint(0, 25)) # ajoute un caractère aléatoire final\n",
    "    lst = []\n",
    "    for i in range(0, taille, 2):\n",
    "        lst.append((text[i], text[i+1]))\n",
    "        \n",
    "    for elem in lst :\n",
    "            print(elem)\n",
    "        \n",
    "    return lst"
   ]
  },
  {
   "cell_type": "markdown",
   "metadata": {},
   "source": [
    "- Tester la fonction `chiffre` sur la chaîne `\"MATHEMATIQUE\"`."
   ]
  },
  {
   "cell_type": "code",
   "execution_count": 101,
   "metadata": {
    "scrolled": true
   },
   "outputs": [
    {
     "name": "stdout",
     "output_type": "stream",
     "text": [
      "('M', 'A')\n",
      "('T', 'H')\n",
      "('E', 'M')\n",
      "('A', 'T')\n",
      "('I', 'Q')\n",
      "('U', 'E')\n"
     ]
    },
    {
     "data": {
      "text/plain": [
       "[('M', 'A'), ('T', 'H'), ('E', 'M'), ('A', 'T'), ('I', 'Q'), ('U', 'E')]"
      ]
     },
     "execution_count": 101,
     "metadata": {},
     "output_type": "execute_result"
    }
   ],
   "source": [
    "chiffre(\"MATHEMATIQUE\")"
   ]
  },
  {
   "cell_type": "markdown",
   "metadata": {},
   "source": [
    "## E. Matrices de chiffrement admissibles et déchiffrement"
   ]
  },
  {
   "cell_type": "markdown",
   "metadata": {},
   "source": [
    "Un texte chiffré par une méthode de chiffrement doit, cela va sans dire, pouvoir être déchiffré. Pour cela, chaque texte chiffré doit correspondre à un et un seul texte initial. Autrement dit, la procédure de chiffrement doit être bijective. Pour la méthode de Hill, cela signifie que la fonction $g$ (définie plus haut) doit être bijective sur l'ensemble des couples de nombres compris entre $0$ et $25$.\n",
    "\n",
    "Tous les choix de matrice $M$ ne conduisent pas à des fonctions $g$ bijectives. Par exemple, en prenant\n",
    "\n",
    "$$\n",
    "M = \\begin{pmatrix}2 & 18 \\\\ 6 & 12\\end{pmatrix},\n",
    "$$\n",
    "\n",
    "on trouve que \n",
    "$$\n",
    "g(21, 4) = (10, 18) = g(8, 17).\n",
    "$$\n",
    "\n",
    "L'objectif de cette partie est de déterminer les matrices de chiffrement admissibles (celles qui correspondent à des fonctions $g$ bijectives)."
   ]
  },
  {
   "cell_type": "markdown",
   "metadata": {},
   "source": [
    "* Soit $M$ une matrice inversible modulo 26. Soit $W$ une matrice inverse modulo $26$ de $M$. On définit l'application\n",
    "\n",
    "$$\n",
    "h : \\begin{pmatrix}\n",
    "x \\\\ y\n",
    "\\end{pmatrix} \\mapsto W \\begin{pmatrix}\n",
    "x \\\\ y\n",
    "\\end{pmatrix} \\operatorname{mod} 26\n",
    "$$\n",
    "\n",
    "Vérifier que, pour tous $x$, $y$ compris entre $0$ et $25$, $g \\circ h (x, y) = (x, y)$, ce qui prouve que $g$ est bijective et que $h$ est l'application réciproque de $g$."
   ]
  },
  {
   "cell_type": "markdown",
   "metadata": {},
   "source": [
    "-- *Écrire la réponse ici.* --"
   ]
  },
  {
   "cell_type": "markdown",
   "metadata": {},
   "source": [
    "Nous avons ainsi montré que l'application $g$ est bijective si la matrice de chiffrement est inversible modulo $26$. Nous admettons que la réciproque est vraie. Nous avons aussi trouvé une expression explicite pour la fonction réciproque de $g$."
   ]
  },
  {
   "cell_type": "markdown",
   "metadata": {},
   "source": [
    "L'opération de déchiffrement est similaire à l'opération de chiffrement.\n",
    "\n",
    "* **Etape 1.** Conversion des blocs de lettres en vecteurs de nombres.\n",
    "\n",
    "* **Etape 2.** Application de la fonction réciproque de $g$ sur les vecteurs.\n",
    "\n",
    "* **Etape 3.** Conversion des vecteurs de nombres en blocs de lettres.\n"
   ]
  },
  {
   "cell_type": "markdown",
   "metadata": {},
   "source": [
    "- Ecrire une fonction `dechiffre` qui déchiffre un text chiffré par chiffrement de Hill. Elle prendra en paramètres `M`, la matrice de chiffrement, et `text`, le texte à déchiffrer."
   ]
  },
  {
   "cell_type": "code",
   "execution_count": null,
   "metadata": {},
   "outputs": [],
   "source": []
  },
  {
   "cell_type": "markdown",
   "metadata": {},
   "source": [
    "- En utilisant la fonction `dechiffre`, déchiffrer le texte `TXOFANJMYAXLTXLPBVUN` sachant qu'il a été chiffré avec la matrice $\\begin{pmatrix} 1 & 2 \\\\ 1 & 3 \\end{pmatrix}$."
   ]
  },
  {
   "cell_type": "code",
   "execution_count": null,
   "metadata": {
    "scrolled": true
   },
   "outputs": [],
   "source": []
  },
  {
   "cell_type": "markdown",
   "metadata": {},
   "source": [
    "## F. Attaque par force brute"
   ]
  },
  {
   "cell_type": "markdown",
   "metadata": {},
   "source": [
    "* Combien y a-t-il de matrices $2\\times 2$, à coefficients dans $\\{0,\\ldots,25\\}$ ?"
   ]
  },
  {
   "cell_type": "markdown",
   "metadata": {},
   "source": []
  },
  {
   "cell_type": "markdown",
   "metadata": {},
   "source": [
    "* A l'aide d'un programme, déterminer le nombre de matrices de chiffrement admissibles (c'est-à-dire le nombre de matrices $2\\times 2$, à coefficients dans $\\{0,\\ldots,25\\}$, inversibles modulo $26$)."
   ]
  },
  {
   "cell_type": "code",
   "execution_count": null,
   "metadata": {},
   "outputs": [],
   "source": []
  },
  {
   "cell_type": "markdown",
   "metadata": {},
   "source": [
    "Ce nombre n'est pas trop élevé et permet d'envisager une attaque par force brute pour décrypter un texte chiffré avec une matrice qu'on ne connaît pas.\n",
    "\n",
    "*On parcourt toutes les matrices de chiffrement possibles. Pour chaque matrice, on déchiffre le texte, puis on teste s'il est intelligible (en français). Pour cela, on compte le nombre de mots de la langue française présents dans le texte.*\n",
    "\n",
    "Sur la page du cours, on trouvera un fichier `dicofr.txt` contenant une liste de référence de mots de la langue française."
   ]
  },
  {
   "cell_type": "markdown",
   "metadata": {},
   "source": [
    "- Lire et stocker dans une liste le contenu du fichier `dicofr.txt`."
   ]
  },
  {
   "cell_type": "code",
   "execution_count": null,
   "metadata": {},
   "outputs": [],
   "source": []
  },
  {
   "cell_type": "markdown",
   "metadata": {},
   "source": [
    "- Décrypter le message `ZZUCANHLZZVVEMTIAICRESIIUVQEXIIRLDXJAIFXSTCCFKKWRFKNAVIIWHWUHTNVXJGLSTES` sachant qu'il s'agit d'un message écrit en français et chiffré avec un chiffrement de Hill. (Remarque : l'exécution du programme d'attaque peut prendre un certain temps. Pour réduire ce temps, on peut n'utiliser qu'une sous-partie du dictionnaire.)"
   ]
  },
  {
   "cell_type": "code",
   "execution_count": null,
   "metadata": {
    "scrolled": true
   },
   "outputs": [],
   "source": []
  }
 ],
 "metadata": {
  "kernelspec": {
   "display_name": "Python 3 (ipykernel)",
   "language": "python",
   "name": "python3"
  },
  "language_info": {
   "codemirror_mode": {
    "name": "ipython",
    "version": 3
   },
   "file_extension": ".py",
   "mimetype": "text/x-python",
   "name": "python",
   "nbconvert_exporter": "python",
   "pygments_lexer": "ipython3",
   "version": "3.9.0"
  }
 },
 "nbformat": 4,
 "nbformat_minor": 1
}
