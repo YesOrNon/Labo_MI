{
 "cells": [
  {
   "cell_type": "markdown",
   "metadata": {},
   "source": [
    "# Problème 9 : Groupes finis"
   ]
  },
  {
   "cell_type": "markdown",
   "metadata": {},
   "source": [
    "L'objectif de ce problème est d'effectuer certains calculs sur des structures algébriques finies à l'aide de l'outil informatique. En particulier, on cherche à :\n",
    "* déterminer si un magma fini (c'est-à-dire un ensemble fini muni d'une loi de composition interne) est un groupe ;\n",
    "* déterminer tous les sous-groupes d'un groupe fini."
   ]
  },
  {
   "cell_type": "markdown",
   "metadata": {},
   "source": [
    "## A. Lois de composition\n",
    "\n",
    "### A.1 Définitions\n",
    "\n",
    "Une **loi de composition interne** sur un ensemble $E$ est une application de $E\\times E$ dans $E$. L'usage est de noter les lois de composition interne en forme infixe : l'image du couple d'éléments $(x,y)$ par la loi $\\star$ est ainsi notée $x \\star y$.\n",
    "\n",
    "Soit $\\star$ une loi de composition interne sur un ensemble $E$.\n",
    "\n",
    "* On dit que la loi est **associative** si :\n",
    "\n",
    "$$\n",
    "\\forall x \\in E,\\ \\forall y \\in E,\\ \\forall z \\in E,\\quad x \\star (y \\star z) = (x \\star y) \\star z.\n",
    "$$\n",
    "\n",
    "*  On dit que la loi est **commutative** si :\n",
    "\n",
    "$$\n",
    "\\forall x \\in E,\\ \\forall y \\in E,\\quad x \\star y = y \\star x.\n",
    "$$\n",
    "\n",
    "* On dit que $e \\in E$ est un **élément neutre** si :\n",
    "\n",
    "$$\n",
    "\\forall x \\in E,\\quad e \\star x =x \\quad\\text{et}\\quad x \\star e = x.\n",
    "$$\n",
    "\n",
    "L'élément neutre, s'il existe, est unique (à démontrer ci-dessous).\n",
    "\n",
    "*  Supposons que la loi $\\star$ admette un élément neutre. Soit $x \\in E$. On dit que $y$ est un **inverse** de $x$ si :\n",
    "\n",
    "$$\n",
    "x \\star y = e \\quad\\text{et}\\quad y \\star x = e.\n",
    "$$\n",
    "\n",
    "Si la loi est associative, l'inverse d'un élément, s'il existe, est unique (à démontrer ci-dessous). Un élément $x\\in E$ qui possède un inverse est dit **inversible** et cet inverse est noté $x^{-1}$. Pour montrer que $y$ est l'inverse d'un élément inversible $x$, il suffit de vérifier que $x \\star y =e$ ou que $y \\star x = e$ (à démontrer ci-dessous)."
   ]
  },
  {
   "cell_type": "markdown",
   "metadata": {},
   "source": [
    "### A.2 Exemples\n",
    "\n",
    "* Parmi les opérations suivantes, déterminer (sans justifier) lesquelles sont des lois de composition interne. Préciser alors l'élément neutre s'il existe.\n",
    "    * L'addition sur l'ensemble des entiers naturels $\\mathbb{N}$.\n",
    "    * La soustraction sur l'ensemble des entiers naturels $\\mathbb{N}$.\n",
    "    * La soustraction sur l'ensemble des entiers $\\mathbb{Z}$.\n",
    "    * La division sur l'ensemble des entiers non-nuls $\\mathbb{Z}^*$.\n",
    "    * La division sur l'ensemble des rationnels non-nuls $\\mathbb{Q}^*$.\n",
    "    * L'addition sur l'ensemble des matrices réelles de taille $2\\times2$.\n",
    "    * La multiplication sur l'ensemble des matrices réelles de taille $2\\times2$.\n",
    "    * La composition sur l'ensemble des fonctions de $\\mathbb{R}$ dans $\\mathbb{R}$."
   ]
  },
  {
   "cell_type": "markdown",
   "metadata": {},
   "source": [
    "<span style = \"color : blue;\">\n",
    "    \n",
    "* L'addition sur l'ensemble des entiers naturels $\\mathbb{N}$, est une loi de composition interne d'élement neutre $0$.\n",
    "    \n",
    "* La soustraction sur l'ensemble des entiers naturels $\\mathbb{N}$, n'est pas une loi de composition interne.\n",
    "    \n",
    "* La soustraction sur l'ensemble des entiers $\\mathbb{Z}$, est une loi de composition interne d élément neutre $0$.\n",
    "    \n",
    "* La division sur l'ensemble des entiers non-nuls $\\mathbb{Z}^*$, n'est pas une loi de composition interne.\n",
    "    \n",
    "* La division sur l'ensemble des rationnels non-nuls $\\mathbb{Q}^*$, est une loi de composition interne d'élément neutre 1.\n",
    "    \n",
    "* L'addition sur l'ensemble des matrices réelles de taille $2\\times2$, est une loi de composition interne, d'élément neutre la matrice nulle.\n",
    "    \n",
    "* La multiplication sur l'ensemble des matrices réelles de taille $2\\times2$, est une loi de composition interne d'élément neutre la matrice identité.\n",
    "    \n",
    "* La composition sur l'ensemble des fonctions de $\\mathbb{R}$ dans $\\mathbb{R}$, est une loi de compostion interne d'élément neutre la fonction $f(x)=x$.\n",
    "</span>"
   ]
  },
  {
   "cell_type": "markdown",
   "metadata": {},
   "source": [
    "* Soit $n\\in \\mathbb{N}$. On pose $Z_n=\\{0,1,\\ldots,n-1\\}$. Soit $\\oplus$ la loi de composition sur $Z_n$ définie par :\n",
    "$$\n",
    "x \\oplus y\\ = \\ (x + y) \\mod{n}\n",
    "$$\n",
    "Il s'agit d'une loi de composition interne dont l'élément neutre est $0$.\n",
    "    * Dans $Z_6$, déterminer l'inverse de $3$ et de $5$ pour la loi $\\oplus$.\n",
    "    * Dans $Z_7$, déterminer l'inverse de $3$ et de $5$ pour la loi $\\oplus$."
   ]
  },
  {
   "cell_type": "markdown",
   "metadata": {},
   "source": [
    "<span style = \"color : blue;\">\n",
    "      \n",
    "* Dans $Z_6$ : \n",
    "    * l'inverse de de $3$ est $3$\n",
    "    * l'inverse de $5$ est $1$\n",
    "\n",
    "    \n",
    "* Dans $Z_7$ :\n",
    "    * l'inverse de $3$ est $4$\n",
    "    * l'inverse de $5$ est $2$\n",
    "\n",
    "</span>"
   ]
  },
  {
   "cell_type": "markdown",
   "metadata": {},
   "source": [
    "* Soit $n\\in \\mathbb{N}^*$. On pose $Z_n^*=\\{1,\\ldots,n-1\\}$. Soit $\\otimes$ la loi de composition sur $Z_n$ définie par :\n",
    "$$\n",
    "x \\otimes y\\ = \\ xy \\mod{n}\n",
    "$$\n",
    "Il s'agit d'une loi de composition interne dont l'élément neutre est $1$.\n",
    "    * Dans $Z_6^*$, déterminer l'inverse (s'il existe) de $2$ et de $5$ pour la loi $\\otimes$.\n",
    "    * Dans $Z_7^*$, déterminer l'inverse (s'il existe) de $3$ et de $6$ pour la loi $\\otimes$."
   ]
  },
  {
   "cell_type": "markdown",
   "metadata": {},
   "source": [
    "<span style = \"color : blue;\">\n",
    "      \n",
    "* Dans $Z_6^*$ : \n",
    "    * l'inverse de 2 n'existe pas\n",
    "    * l'inverse de 5 est 5, car $(5*5) \\mod{6} = 1$ \n",
    "    \n",
    "    \n",
    "* Dans $Z_7^*$:\n",
    "    * l'inverse de $3$ est $5$, car $(3*5) \\mod{7} = 1$ \n",
    "    * l'inverse de $6$ est $6$, car $(6*6) \\mod{7} = 1$ "
   ]
  },
  {
   "cell_type": "markdown",
   "metadata": {},
   "source": [
    "**Remarque.** La notion d'inverse par rapport à la loi $\\otimes$ est identique à la notion d'inverse modulaire vue dans le Problème sur la Cryptographie."
   ]
  },
  {
   "cell_type": "markdown",
   "metadata": {},
   "source": [
    "### A.3 Démonstrations\n",
    "\n",
    "* Soit $\\star$ une loi de composition interne sur un ensemble $E$. Montrer que l'élément neutre, s'il existe, est unique."
   ]
  },
  {
   "cell_type": "markdown",
   "metadata": {},
   "source": [
    "-- *Écrire la réponse ici.* --"
   ]
  },
  {
   "cell_type": "markdown",
   "metadata": {},
   "source": [
    "* Soit $\\star$ une loi de composition interne sur un ensemble $E$, associative et admettant un élément neutre. Montrer que l'inverse d'un élément, s'il existe, est unique."
   ]
  },
  {
   "cell_type": "markdown",
   "metadata": {},
   "source": [
    "-- *Écrire la réponse ici.* --"
   ]
  },
  {
   "cell_type": "markdown",
   "metadata": {},
   "source": [
    "* Soit $\\star$ une loi de composition interne sur un ensemble $E$, associative et admettant un élément neutre $e$. Soit $x$ un élément inversible. Montrer que si $x \\star y = e$ alors $y=x^{-1}$."
   ]
  },
  {
   "cell_type": "markdown",
   "metadata": {},
   "source": [
    "-- *Écrire la réponse ici.* --"
   ]
  },
  {
   "cell_type": "markdown",
   "metadata": {},
   "source": [
    "## B. Tables de lois"
   ]
  },
  {
   "cell_type": "markdown",
   "metadata": {},
   "source": [
    " Les lois de composition interne sur des ensembles finis peuvent être entièrement définies par des tables donnant les résultats de toutes les compositions d'éléments. Usuellement, pour trouver le résultat de la composition $x \\star y$ dans une table, on lit $x$ sur les lignes et $y$ sur les colonnes. C'est cette convention qui est adoptée ici.\n",
    " \n",
    "* Soit $\\star$ une loi de composition interne sur l'ensemble $\\{a,b,c,d\\}$. Cette loi est décrite par la table ci-dessous. (Note : On lit par exempe dans cette table que $ a \\star b = d$ et $ b \\star a = b$.)\n",
    "\n",
    "| ⋆ | **a** | **b** | **c** | **d** |\n",
    "|:---:|:---:|:---:|:---:|:---:|\n",
    "| **a** | a | d | c | d |\n",
    "| **b** | b | c | d | a |\n",
    "| **c** | a | b | c | d |\n",
    "| **d** | b | c | a | d |\n",
    "\n",
    "\n",
    "\n",
    "* Calculer $a \\star (b \\star c)$ et $(a \\star b ) \\star c$.\n",
    "* Cette loi est-elle associative ?\n",
    "* Cette loi possède-t-elle un élément neutre ?\n"
   ]
  },
  {
   "cell_type": "markdown",
   "metadata": {},
   "source": [
    "<span style = \"color : blue;\">\n",
    "    \n",
    "* Calcul de $a \\star (b \\star c)$ :\n",
    "    * $b \\star c$ = $d$\n",
    "    * $a \\star d$ = $d$ \n",
    "    * donc $a \\star (b \\star c) = d$\n",
    "    \n",
    "    \n",
    "* Calcul de $(a \\star b ) \\star c$ :\n",
    "    * $a \\star b = d$\n",
    "    * $d \\star c = a$\n",
    "    * donc $(a \\star b ) \\star c = a$\n",
    "    \n",
    "\n",
    "* Cette loi n'est donc pas associative, $a \\star (b \\star c) \\neq (a \\star b ) \\star c$\n",
    "    \n",
    "    \n",
    "* Cette loi ne possède pas d'élément neutre.\n",
    "</span>"
   ]
  },
  {
   "cell_type": "markdown",
   "metadata": {},
   "source": [
    "## C. Magmas"
   ]
  },
  {
   "cell_type": "markdown",
   "metadata": {},
   "source": [
    "Un ensemble $E$ muni d'une loi de composition interne $\\star$ est appelé un **magma** et est noté $(E,\\star)$.\n",
    "\n",
    "- Créer une classe Magma pour représenter et manipuler les magmas finis.\n",
    "    - Un objet de cette classe aura pour attributs :\n",
    "        - `elem` : la liste des éléments du magma ;\n",
    "        - `card` : le nombre d'éléments du magma ;\n",
    "        - `table`: la table (sous forme d'une liste de listes) décrivant la loi de composition interne.\n",
    "    - La méthode `__init__` pour construire un objet de cette classe prendra comme paramètres (en plus de `self`) :\n",
    "        - `elem` : la liste des éléments du magma ;\n",
    "        - `table`: la table (sous forme d'une liste de listes) décrivant la loi de composition interne.\n",
    "    - Cette classe fournira également une méthode `op` pour calculer le résultat de la composition de deux éléments par la loi de composition interne.\n",
    "\n",
    "Voilà le fonctionnement attendu de cette classe.\n",
    "\n",
    "~~~py\n",
    ">>> elem = ['a', 'b', 'c', 'd']\n",
    "\n",
    ">>> table = [['a', 'd', 'c', 'd'],\n",
    "           ['b', 'c', 'd', 'a'],\n",
    "           ['a', 'b', 'c', 'd'],\n",
    "           ['b', 'c', 'a', 'd']]\n",
    "\n",
    ">>> E = Magma(elem, table)\n",
    "\n",
    ">>> E.op('a', 'b')\n",
    "'d'\n",
    "\n",
    ">>> E.op('b', 'a')\n",
    "'b'\n",
    "~~~"
   ]
  },
  {
   "cell_type": "code",
   "execution_count": 38,
   "metadata": {},
   "outputs": [],
   "source": [
    "class Magma :\n",
    "    \"\"\"\n",
    "    >>> elem = ['a', 'b', 'c', 'd']\n",
    "\n",
    "    >>> table = [['a', 'd', 'c', 'd'], ['b', 'c', 'd', 'a'], ['a', 'b', 'c', 'd'], ['b', 'c', 'a', 'd']]\n",
    "\n",
    "    >>> E = Magma(elem, table)\n",
    "\n",
    "    >>> E.op('a', 'b')\n",
    "    'd'\n",
    "\n",
    "    >>> E.op('b', 'a')\n",
    "    'b'\n",
    "    \"\"\"\n",
    "    \n",
    "    def __init__(self, elem, table):\n",
    "        \n",
    "        if len(table) != len(elem) :\n",
    "            raise ValueError(\"Pas carrée !\")\n",
    "        self.card = len(elem)\n",
    "        self.elem = [x for x in elem]\n",
    "        self.table = [[i for i in row] for row in table]\n",
    "        \n",
    "        \n",
    "    def op(self, elem1, elem2):\n",
    "        id1 =  self.elem.index(elem1)\n",
    "        id2 = self.elem.index(elem2)\n",
    "        return self.table[id1][id2]\n",
    "        "
   ]
  },
  {
   "cell_type": "code",
   "execution_count": 39,
   "metadata": {},
   "outputs": [
    {
     "data": {
      "text/plain": [
       "TestResults(failed=0, attempted=5)"
      ]
     },
     "execution_count": 39,
     "metadata": {},
     "output_type": "execute_result"
    }
   ],
   "source": [
    "from doctest import testmod\n",
    "testmod()"
   ]
  },
  {
   "cell_type": "markdown",
   "metadata": {},
   "source": [
    "- Créer le magma `E` comme dans l'exemple ci-dessus. Calculer $a \\star (b \\star c)$ et $(a \\star b ) \\star c$ dans ce magma à l'aide de la méthode `op`."
   ]
  },
  {
   "cell_type": "code",
   "execution_count": 40,
   "metadata": {},
   "outputs": [],
   "source": [
    "elem = ['a', 'b', 'c', 'd']\n",
    "\n",
    "table = [['a', 'd', 'c', 'd'],\n",
    "           ['b', 'c', 'd', 'a'],\n",
    "           ['a', 'b', 'c', 'd'],\n",
    "           ['b', 'c', 'a', 'd']]\n",
    "\n",
    "E = Magma(elem, table)"
   ]
  },
  {
   "cell_type": "code",
   "execution_count": 41,
   "metadata": {},
   "outputs": [
    {
     "data": {
      "text/plain": [
       "'d'"
      ]
     },
     "execution_count": 41,
     "metadata": {},
     "output_type": "execute_result"
    }
   ],
   "source": [
    "E.op('a', E.op('b', 'c'))"
   ]
  },
  {
   "cell_type": "code",
   "execution_count": 42,
   "metadata": {},
   "outputs": [
    {
     "data": {
      "text/plain": [
       "'a'"
      ]
     },
     "execution_count": 42,
     "metadata": {},
     "output_type": "execute_result"
    }
   ],
   "source": [
    "E.op(E.op('a', 'b'), 'c')"
   ]
  },
  {
   "cell_type": "markdown",
   "metadata": {},
   "source": [
    "## D. Groupes"
   ]
  },
  {
   "cell_type": "markdown",
   "metadata": {},
   "source": [
    " On dit qu'un magma $(G,\\star)$ est un **groupe** si :\n",
    "* la loi $\\star$ est associative ;\n",
    "* la loi $\\star$ possède un élément neutre ;\n",
    "* tout élément de $G$ est inversible.\n",
    "\n",
    "**Exemples.** $(\\mathbb{Z}, +)$ est un groupe. $(\\mathbb{N}, +)$ n'est pas un groupe.\n",
    "\n",
    "**Exemples.** $(\\mathbb{Q}^*, \\times)$ est un groupe. $(\\mathbb{Z}^*, \\times)$ n'est pas un groupe.\n",
    "\n",
    "**Exemples.** Pour tout entier naturel $n$, $(Z_n,\\oplus)$ est un groupe.\n",
    "\n",
    "**Exemples.** Pour tout nombre premier $n$, $(Z_n^*,\\otimes)$ est un groupe. Pour les autres valeurs de $n$, $(Z_n^*,\\otimes)$ n'est pas un groupe. En effet, un élément $a \\in Z_n^*$ possède un inverse pour l'opération $\\otimes$ si et seulement si $a$ et $n$ sont premiers entre eux.\n",
    "\n",
    "- Ecrire une fonction `est_associatif` qui prend en paramètre un magma `E` et détermine si ce magma est associatif."
   ]
  },
  {
   "cell_type": "code",
   "execution_count": 43,
   "metadata": {},
   "outputs": [],
   "source": [
    "def est_associatif(E):\n",
    "    \n",
    "    for x in E.elem :\n",
    "        for y in E.elem :\n",
    "            for z in E.elem :\n",
    "                if E.op(x, E.op(y, z)) != E.op(E.op(x, y), z):\n",
    "                    return False\n",
    "    return True"
   ]
  },
  {
   "cell_type": "markdown",
   "metadata": {},
   "source": [
    "- Ecrire une fonction `element_neutre` qui prend en paramètre un magma `E` et renvoie l'élément neutre de ce magma (`None` s'il n'y a pas d'élément neutre)."
   ]
  },
  {
   "cell_type": "code",
   "execution_count": 44,
   "metadata": {},
   "outputs": [],
   "source": [
    "def element_neutre(E):\n",
    "    for x in range(E.card):\n",
    "        for y in range(E.card):\n",
    "            if x != y :\n",
    "                if (E.op(E.elem[x], E.elem[y]) == E.elem[y]) and (E.op(E.elem[y], E.elem[x]) == E.elem[y]):\n",
    "                    return E.elem[x]\n",
    "                \n",
    "    return None"
   ]
  },
  {
   "cell_type": "markdown",
   "metadata": {},
   "source": [
    "- Ecrire une fonction `est_inversible` qui prend en paramètres un magma `E`, l'élément neutre `e` de ce magma et un élément `x`, et détermine si l'élément `x` est inversible."
   ]
  },
  {
   "cell_type": "code",
   "execution_count": 45,
   "metadata": {},
   "outputs": [],
   "source": [
    "def est_inversible(E, e, x):\n",
    "    for y in range(E.card):\n",
    "        if E.op(E.elem[x], E.elem[y]) == e and E.op(E.elem[y], E.elem[x]) == e :\n",
    "            return E.elem[y]\n",
    "    return None"
   ]
  },
  {
   "cell_type": "markdown",
   "metadata": {},
   "source": [
    "- Ecrire une fonction `est_groupe` qui prend en paramètre un magma `E` et détermine si ce magma est un groupe. Cette fonction renverra un couple : un booléen qui indique si le magma est un goupe ou non et un message qui indique quelle propriété n'est pas vérifiée."
   ]
  },
  {
   "cell_type": "code",
   "execution_count": 46,
   "metadata": {},
   "outputs": [],
   "source": [
    "def est_groupe(E):\n",
    "    asso = est_associatif(E)\n",
    "    e = element_neutre(E)\n",
    "    inv = 1\n",
    "    if e != None :\n",
    "        for i in range(E.card):\n",
    "            if est_inversible(E, e, i) != None :\n",
    "                inv += 1\n",
    "                \n",
    "    non_verif = \"\"      # propriété non vérifié\n",
    "    \n",
    "    if asso == False :\n",
    "        non_verif += \"non associative, \"\n",
    "    if e == None :\n",
    "        non_verif += \"pas d'élément neutre, \"\n",
    "    if inv != E.card :\n",
    "        non_verif += \" au moins un élément non inversible, \"\n",
    "    \n",
    "    if inv == E.card and asso == True :\n",
    "        return (True, None)\n",
    "    return (False, non_verif)"
   ]
  },
  {
   "cell_type": "markdown",
   "metadata": {},
   "source": [
    "- Tester la fonction `est_groupe` sur les exemples de magmas donnés ci-dessous."
   ]
  },
  {
   "cell_type": "code",
   "execution_count": 47,
   "metadata": {
    "scrolled": true
   },
   "outputs": [
    {
     "data": {
      "text/plain": [
       "(False, ' au moins un élément non inversible, ')"
      ]
     },
     "execution_count": 47,
     "metadata": {},
     "output_type": "execute_result"
    }
   ],
   "source": [
    "elem = ['a', 'b', 'c']\n",
    "\n",
    "table1 = [['b', 'a', 'c'],\n",
    "          ['a', 'b', 'c'],\n",
    "          ['c', 'c', 'c']]\n",
    "\n",
    "M1 = Magma(elem, table1)\n",
    "\n",
    "table2 = [['a', 'b', 'c'],\n",
    "          ['b', 'b', 'c'],\n",
    "          ['b', 'b', 'c']]         \n",
    "\n",
    "M2 = Magma(elem, table2)\n",
    "\n",
    "table3 = [['b', 'c', 'a'],\n",
    "          ['c', 'a', 'b'],\n",
    "          ['a', 'b', 'c']]  \n",
    "\n",
    "M3 = Magma(elem, table3)\n",
    "\n",
    "est_groupe(M3)\n"
   ]
  },
  {
   "cell_type": "markdown",
   "metadata": {},
   "source": [
    "- Créer une classe `Groupe` (qui héritera de la classe `Magma`) pour représenter et manipuler les goupes finis.\n",
    "    - Un objet de cette classe aura pour attributs :\n",
    "        - `elem` : la liste des éléments du groupe ;\n",
    "        - `e` : l'élément neutre ;\n",
    "        - `card` : le nombre d'éléments du groupe ;\n",
    "        - `table`: la table (sous forme d'une liste de listes) décrivant la loi de composition interne.\n",
    "    - La méthode `__init__` pour construire un objet de cette classe prendra comme paramètres (en plus de `self`) :\n",
    "        - `elem` : la liste des éléments du groupe ;\n",
    "        - `e` : l'élément neutre ;\n",
    "        - `table`: la table (sous forme d'une liste de listes) décrivant la loi de composition interne.\n",
    "    - Cette classe fournira également les méthodes suivantes :\n",
    "        - `op`, pour calculer le résultat de la composition de deux éléments par la loi de composition interne ;\n",
    "        - `inv`, pour calculer l'inverse d'un élément pour la loi de composition interne."
   ]
  },
  {
   "cell_type": "code",
   "execution_count": 51,
   "metadata": {},
   "outputs": [],
   "source": [
    "class Groupe (Magma) :\n",
    "    \n",
    "    def __init__(self, elem, e, table):\n",
    "        if len(table) != len(elem):\n",
    "            raise ValueError(\"Non carrée !\")\n",
    "            \n",
    "        self.card = len(elem)\n",
    "        self.elem = elem\n",
    "        self.table = table\n",
    "        self.e = e\n",
    "        \n",
    "    \n",
    "    def  inv(self, x):\n",
    "        for y in self.elem:\n",
    "            if self.op(x, y) == self.e and self.op(y, x) == self.e:\n",
    "                return y"
   ]
  },
  {
   "cell_type": "markdown",
   "metadata": {},
   "source": [
    "- Ecrire une fonction `Zn_add` qui prend en paramètre un entier `n` et renvoie un objet de la classe `Groupe` représentant $(Z_n,\\oplus)$."
   ]
  },
  {
   "cell_type": "code",
   "execution_count": 60,
   "metadata": {},
   "outputs": [],
   "source": [
    "def Zn_add(n):\n",
    "    \n",
    "    elem = list(range(n))\n",
    "    table = []\n",
    "    \n",
    "    for x in elem :\n",
    "        table.append(([(x + y) % n for y in elem]))\n",
    "                     \n",
    "    return Groupe(elem, element_neutre(Magma(elem, table)), table)"
   ]
  },
  {
   "cell_type": "markdown",
   "metadata": {},
   "source": [
    "- Créer un objet de la classe `Groupe` représentant $(Z_5,\\oplus)$. Afficher la table de $(Z_5,\\oplus)$."
   ]
  },
  {
   "cell_type": "code",
   "execution_count": 62,
   "metadata": {},
   "outputs": [],
   "source": [
    "G = Zn_add(5)"
   ]
  },
  {
   "cell_type": "markdown",
   "metadata": {},
   "source": [
    "- Ecrire une fonction `Zn_mul` qui prend en paramètre un entier (premier) `n` et renvoie un objet de la classe `Groupe` représentant $(Z_n^*,\\otimes)$."
   ]
  },
  {
   "cell_type": "code",
   "execution_count": 63,
   "metadata": {},
   "outputs": [],
   "source": [
    "def Zn_mul(n):\n",
    "    \n",
    "    elem = list(range(1, n)) # car 0 non inclut\n",
    "    table = []\n",
    "    \n",
    "    for x in elem :\n",
    "        table.append(([(x * y) % n for y in elem]))\n",
    "                     \n",
    "    return Groupe(elem, element_neutre(Magma(elem, table)), table)"
   ]
  },
  {
   "cell_type": "markdown",
   "metadata": {},
   "source": [
    "- Créer un objet de la classe `Groupe` représentant $(Z_{11},\\oplus)$. Afficher la table de $(Z_{11},\\oplus)$."
   ]
  },
  {
   "cell_type": "code",
   "execution_count": 64,
   "metadata": {},
   "outputs": [],
   "source": [
    "G = Zn_mul(11)"
   ]
  },
  {
   "cell_type": "markdown",
   "metadata": {},
   "source": [
    "## E. Sous-groupes"
   ]
  },
  {
   "cell_type": "markdown",
   "metadata": {},
   "source": [
    "Soit $(G,\\star)$ un groupe, d'élément neutre $e$. On dit qu'un sous-ensemble $H$ de $G$ est un **sous-groupe** de $(G,\\star)$ si :\n",
    "\n",
    "* $e \\in H$ ;\n",
    "* $H$ est stable par la loi de composition (c'est-à-dire : $\\forall x \\in H,\\ \\forall y \\in H, \\ x\\star y \\in H$) ; \n",
    "* l'inverse de tout élément de $H$ appartient à $H$.\n",
    "\n",
    "Si $G$ est de cardinal fini, cette dernière condition est en fait superflue, elle se déduit de la stabilité par la loi de composition. \n",
    "\n",
    "Si $G$ est de cardinal fini, on dispose également du théorème suivant sur le cardinal des sous-groupes de $G$.\n",
    "\n",
    "**Théorème de Lagrange.** Soit $(G,\\star)$ un groupe fini. Le cardinal de tout sous-groupe de $(G,\\star)$ est un diviseur du cardinal de $(G,\\star)$.\n",
    "\n",
    "On propose la stratégie suivante pour déterminer tous les sous-groupes d'un groupe fini donné : *On considère tous les sous-ensembles qui contiennent l'élément neutre et dont le cardinal divise le cardinal du groupe ; pour chacun de ces sous-ensembles, on teste la stabilité par la loi de composition et on en déduit s'il s'agit d'un sous-groupe ou non.*\n",
    "\n",
    "* Ecrire une fonction qui prend en paramètres un groupe `G` et une liste d'éléments `elemH`, et qui détermine si l'ensemble des éléments de `elemH` forme un sous-groupe de `G`.\n",
    "\n",
    "~~~py\n",
    ">>> G = Zn_add(8)\n",
    ">>> est_sous_groupe(G, [0, 2, 4, 6])\n",
    "True\n",
    "~~~"
   ]
  },
  {
   "cell_type": "code",
   "execution_count": null,
   "metadata": {},
   "outputs": [],
   "source": []
  },
  {
   "cell_type": "markdown",
   "metadata": {},
   "source": [
    "- Ecrire une fonction `diviseurs` qui renvoie la liste de tous les diviseurs positifs d'un entier."
   ]
  },
  {
   "cell_type": "code",
   "execution_count": null,
   "metadata": {},
   "outputs": [],
   "source": []
  },
  {
   "cell_type": "markdown",
   "metadata": {},
   "source": [
    "- Ecrire une fonction `sous_groupes` qui prend en paramètre un groupe `G` et renvoie la liste de tous les sous-groupes de `G`. Pour parcourir les sous-ensembles du groupe, on pourra utiliser l'itérateur `combinations` du module `itertools` (voir document *Enumérer des collections d'éléments*)."
   ]
  },
  {
   "cell_type": "code",
   "execution_count": null,
   "metadata": {},
   "outputs": [],
   "source": []
  },
  {
   "cell_type": "markdown",
   "metadata": {},
   "source": [
    "- On considère le groupe $(D_3,\\circ)$ dont les éléments sont notés $\\{r_0, r_1, r_2,s_0,s_1,s_2\\}$ et la table est donnée ci-dessous. Déterminer les sous-groupes du groupe $(D_3,\\circ)$ à l'aide de la fonction `sous_groupes`."
   ]
  },
  {
   "cell_type": "code",
   "execution_count": 49,
   "metadata": {},
   "outputs": [],
   "source": [
    "elem = ['r0','r1','r2','s0','s1','s2']\n",
    "\n",
    "table = [['r0','r1','r2','s0','s1','s2'],\n",
    "         ['r1','r2','r0','s1','s2','s0'],\n",
    "         ['r2','r0','r1','s2','s0','s1'],\n",
    "         ['s0','s2','s1','r0','r2','r1'],\n",
    "         ['s1','s0','s2','r1','r0','r2'],\n",
    "         ['s2','s1','s0','r2','r1','r0']]"
   ]
  },
  {
   "cell_type": "code",
   "execution_count": null,
   "metadata": {},
   "outputs": [],
   "source": []
  }
 ],
 "metadata": {
  "kernelspec": {
   "display_name": "Python 3 (ipykernel)",
   "language": "python",
   "name": "python3"
  },
  "language_info": {
   "codemirror_mode": {
    "name": "ipython",
    "version": 3
   },
   "file_extension": ".py",
   "mimetype": "text/x-python",
   "name": "python",
   "nbconvert_exporter": "python",
   "pygments_lexer": "ipython3",
   "version": "3.9.0"
  }
 },
 "nbformat": 4,
 "nbformat_minor": 1
}
