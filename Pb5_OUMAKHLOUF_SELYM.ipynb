{
 "cells": [
  {
   "cell_type": "markdown",
   "metadata": {},
   "source": [
    "# Problème 5 : Polynômes et interpolation"
   ]
  },
  {
   "cell_type": "markdown",
   "metadata": {},
   "source": [
    "Dans ce problème, nous allons d'abord créer une classe pour représenter et manipuler les polynômes, puis nous utiliserons cette classe pour programmer des méthodes d'interpolation polynomiale."
   ]
  },
  {
   "cell_type": "markdown",
   "metadata": {},
   "source": [
    "## A. Classe pour les polynômes\n",
    "\n",
    "### A.1. Représentation des polynômes et premières méthodes"
   ]
  },
  {
   "cell_type": "markdown",
   "metadata": {},
   "source": [
    "La classe pour les polynômes sera appelée `Poly`. Dans cette classe, un polynôme sera représenté par un attribut `coeff` contenant la liste de ses coefficients, du coefficient du terme constant jusqu'au coefficient du terme de plus haut degré. \n",
    "\n",
    "Par exemple, le polynôme $X^3-2X^2+3$ sera représenté par la liste `[3, 0, -2, 1]`.\n",
    "\n",
    "Par convention, le polynôme nul sera représenté par la liste vide `[]`.\n",
    "\n",
    "- Dans un premier temps, créer la classe `Poly` muni :\n",
    "    * de la méthode de construction `__init__` ;\n",
    "    * des méthodes d'affichage `__repr__` et `__str__`.\n",
    "\n",
    "La méthode `__init__` prendra en paramètre une liste de coefficients qu'elle affectera à l'attribut `coeff` après l'avoir débarrassée des `0` finaux superflus.\n",
    "\n",
    "Voilà quelques exemples que cette première version de la classe `Poly` doit pouvoir reproduire.\n",
    "\n",
    "~~~py\n",
    ">>> Poly([3, 0, -2, 1])\n",
    "Poly([3, 0, -2, 1])\n",
    "\n",
    ">>> Poly([3, 0, -2, 1, 0, 0])\n",
    "Poly([3, 0, -2, 1])\n",
    "\n",
    ">>> Poly([0])\n",
    "Poly([])\n",
    "\n",
    ">>> print(Poly([3, 0, -2, 1]))\n",
    "1*x**3 - 2*x**2 + 3\n",
    "\n",
    ">>> print(Poly([0, -1, -3]))\n",
    "-3*x**2 - 1*x\n",
    "\n",
    ">>> print(Poly([]))\n",
    "0\n",
    "~~~"
   ]
  },
  {
   "cell_type": "code",
   "execution_count": 1,
   "metadata": {},
   "outputs": [],
   "source": [
    "class Poly :\n",
    "    \n",
    "    def __init__ (self, poly): \n",
    "        self.coeff = []\n",
    "        if poly == [0] or poly == []:\n",
    "            self.coeff = []\n",
    "        else : \n",
    "            for elem in poly :\n",
    "                self.coeff.append(elem)\n",
    "            self.coeff = self.coeff[::-1]\n",
    "            while self.coeff[0] == 0 :\n",
    "                self.coeff.pop(0)\n",
    "            self.coeff = self.coeff[::-1]\n",
    "                \n",
    "    def __repr__ (self):\n",
    "        return \"Poly(\" + str(self.coeff) + \")\"\n",
    "    \n",
    "    def __str__ (self):\n",
    "        self.coeff = self.coeff[::-1]\n",
    "        rep = \"\"\n",
    "        if self.coeff == []:\n",
    "            return \"0\"\n",
    "        for _ in range(len(self.coeff)) :\n",
    "            if _ == len(self.coeff) - 1 : # élément de degré = 0\n",
    "                if _ < 0 :\n",
    "                    rep += \"- \" + str(-self.coeff[_]) \n",
    "                elif _ > 0 :\n",
    "                    rep += \"+ \" + str(self.coeff[_])\n",
    "                    \n",
    "            if _ == len(self.coeff) - 2 : # élément de degré = 1\n",
    "                if _ < 0 :\n",
    "                    rep += \"- \" + str(-self.coeff[_]) + \"*x \"\n",
    "                elif _ > 0 :\n",
    "                    rep += \"+ \" + str(self.coeff[_]) +  \"*x \"\n",
    "            elif self.coeff[_] > 0 and _ != 0: #premier élément\n",
    "                rep += \"+ \" + str(self.coeff[_]) + \"*x**\" + str(len(self.coeff) - _ - 1) + \" \" \n",
    "            elif self.coeff[_] > 0: # élément > 0\n",
    "                rep += str(self.coeff[_]) + \"*x**\" + str(len(self.coeff) - _ - 1) + \" \" \n",
    "            elif self.coeff[_] < 0: # élément < 0\n",
    "                rep += \"- \" + str(-self.coeff[_]) + \"*x**\" + str(len(self.coeff) - _ - 1) + \" \"\n",
    "        return rep\n",
    "    \n",
    "    \n",
    "    def degre(self):\n",
    "        \"\"\"\n",
    "        >>> Poly([0]).degre()\n",
    "        -1\n",
    "        >>> Poly([0, 1, 2, 3, 4, 0, 0]).degre()\n",
    "        4\n",
    "        \"\"\"\n",
    "        if self.coeff == [] :\n",
    "            return -1\n",
    "        else :\n",
    "            return len(self.coeff) - 1\n",
    "    \n",
    "    def derive(self):\n",
    "        \"\"\"\n",
    "        >>> Poly([3, 0, -2, 1]).derive()\n",
    "        Poly([0, -4, 3])\n",
    "        \"\"\"\n",
    "        self.coeff = self.coeff[::-1]\n",
    "        for _ in range(len(self.coeff)) :\n",
    "            self.coeff[_] = self.coeff[_] * (len(self.coeff) - _ - 1)\n",
    "        self.coeff = self.coeff[::-1]\n",
    "        self.coeff.pop(0)\n",
    "            \n",
    "        return Poly(self.coeff)\n",
    "    \n",
    "    \n",
    "    \n",
    "    def eval(self, x):      \n",
    "        lg = len(self.coeff)\n",
    "        res = self.coeff[lg - 1]\n",
    "        for i in range(lg - 2, -1, -1):\n",
    "            res = res * x + self.coeff[i]\n",
    "        return res\n",
    "\n",
    "    \n",
    "    def __add__(self, other):\n",
    "        \"\"\"\n",
    "        >>> Poly([2, 1, -1]) + Poly([9, 5, -1])\n",
    "        Poly([11, 6, -2])\n",
    "        \n",
    "        >>> Poly([2, 1, -1]) + Poly([0])\n",
    "        Poly([2, 1, -1])\n",
    "        \"\"\"\n",
    "        deg_s, deg_o = Poly(self.coeff).degre(), Poly(other.coeff).degre()\n",
    "        deg_g = min(deg_s, deg_o) # dans le cas ou les 2 polynômes sont de tailles diifférentes\n",
    "        \n",
    "        if deg_g != -1 :\n",
    "            res = []\n",
    "            for _ in range(deg_g + 1) :\n",
    "                res.append(self.coeff[_] + other.coeff[_])\n",
    "            return Poly(res)\n",
    "        \n",
    "        if deg_g == deg_s: # si un des polynômes est nul, renvoie l'autre polynôme\n",
    "            return Poly(other.coeff)\n",
    "        return Poly(self.coeff)\n",
    "    \n",
    "    \n",
    "    def __sub__(self, other):\n",
    "        \"\"\"\n",
    "        >>> Poly([2, 1, -1]) - Poly([0, 4, 11])\n",
    "        Poly([2, -3, -12])\n",
    "        \n",
    "        \"\"\"\n",
    "        \n",
    "        deg_s, deg_o = Poly(self.coeff).degre(), Poly(other.coeff).degre()\n",
    "        deg_g = min(deg_s, deg_o) # dans le cas ou les 2 polynômes sont de tailles diifférentes\n",
    "        \n",
    "        if deg_g != -1 :\n",
    "            res = []\n",
    "            for _ in range(deg_g + 1) :\n",
    "                res.append(self.coeff[_] - other.coeff[_])\n",
    "            return Poly(res)\n",
    "        \n",
    "        if deg_g == deg_s: # si un des polynômes est nul, renvoie l'autre polynôme\n",
    "            return Poly(other.coeff)\n",
    "        return Poly(self.coeff)\n",
    "    \n",
    "    \n",
    "    def __neg__(self):\n",
    "        \"\"\"\n",
    "        >>> -Poly([-2, -1, 1])\n",
    "        Poly([2, 1, -1])\n",
    "        \"\"\"\n",
    "        if len(self.coeff) != 1 :\n",
    "            for _ in range(len(self.coeff)):\n",
    "                self.coeff[_] = - self.coeff[_]\n",
    "\n",
    "        return Poly(self.coeff)\n",
    "        \n",
    "    \n",
    "    def __mul__(self, other):\n",
    "        \"\"\"\n",
    "        >>> Poly([2, 1, -1]) * Poly([0, 2, 1])\n",
    "        Poly([0, 4, 4, -1, -1])\n",
    "        \"\"\"\n",
    "        if (self.coeff == []) or (other.coeff == []) :\n",
    "            return Poly([0])\n",
    "        lst = [0] * (len(self.coeff) + len(other.coeff))\n",
    "        \n",
    "        for _ in range(len(self.coeff)):\n",
    "            for p in range(len(other.coeff)):\n",
    "                lst[_ + p] += self.coeff[_] * other.coeff[p]\n",
    "                \n",
    "        return Poly(lst)"
   ]
  },
  {
   "cell_type": "code",
   "execution_count": 2,
   "metadata": {},
   "outputs": [],
   "source": [
    "P = Poly([2, 1, -1])\n",
    "Q = Poly([0, 2, 1])"
   ]
  },
  {
   "cell_type": "code",
   "execution_count": 3,
   "metadata": {},
   "outputs": [
    {
     "name": "stdout",
     "output_type": "stream",
     "text": [
      "89*x**7 - 8*x**4 + 6*x**3 - 4*x**2 + 2*x + 0\n"
     ]
    }
   ],
   "source": [
    "print(Poly([0, 2, -4, 6, -8, 0, 0, 89]))"
   ]
  },
  {
   "cell_type": "code",
   "execution_count": 4,
   "metadata": {},
   "outputs": [
    {
     "data": {
      "text/plain": [
       "Poly([0, 4, 4, -1, -1])"
      ]
     },
     "execution_count": 4,
     "metadata": {},
     "output_type": "execute_result"
    }
   ],
   "source": [
    "P * Q"
   ]
  },
  {
   "cell_type": "code",
   "execution_count": 5,
   "metadata": {},
   "outputs": [
    {
     "data": {
      "text/plain": [
       "Poly([2, 3])"
      ]
     },
     "execution_count": 5,
     "metadata": {},
     "output_type": "execute_result"
    }
   ],
   "source": [
    "P + Q"
   ]
  },
  {
   "cell_type": "code",
   "execution_count": 6,
   "metadata": {},
   "outputs": [
    {
     "data": {
      "text/plain": [
       "Poly([2, -1, -2])"
      ]
     },
     "execution_count": 6,
     "metadata": {},
     "output_type": "execute_result"
    }
   ],
   "source": [
    "P - Q"
   ]
  },
  {
   "cell_type": "code",
   "execution_count": 7,
   "metadata": {},
   "outputs": [
    {
     "data": {
      "text/plain": [
       "Poly([2, 1, -1])"
      ]
     },
     "execution_count": 7,
     "metadata": {},
     "output_type": "execute_result"
    }
   ],
   "source": [
    "-Poly([-2, -1, 1])"
   ]
  },
  {
   "cell_type": "code",
   "execution_count": 8,
   "metadata": {},
   "outputs": [
    {
     "data": {
      "text/plain": [
       "1"
      ]
     },
     "execution_count": 8,
     "metadata": {},
     "output_type": "execute_result"
    }
   ],
   "source": [
    "Poly([0, 1, 0, 0]).degre()"
   ]
  },
  {
   "cell_type": "code",
   "execution_count": 9,
   "metadata": {},
   "outputs": [
    {
     "data": {
      "text/plain": [
       "Poly([0, -4, 3])"
      ]
     },
     "execution_count": 9,
     "metadata": {},
     "output_type": "execute_result"
    }
   ],
   "source": [
    "Poly([3, 0, -2, 1]).derive()"
   ]
  },
  {
   "cell_type": "markdown",
   "metadata": {},
   "source": [
    "- Compléter la classe `Poly` en y ajoutant les méthodes suivantes :\n",
    "    - `degre`, qui renvoie le degré du polynôme (avec la convention que le degré du polynôme nul vaut -1) ;\n",
    "\n",
    "    - `derive`, qui renvoie le polynôme dérivé du polynôme.\n",
    "\n",
    "Voilà quelques illustrations du comportement attendu.\n",
    "\n",
    "~~~py\n",
    ">>> Poly([1, 0, -1]).degre()\n",
    "2\n",
    "\n",
    ">>> Poly([]).degre()\n",
    "-1\n",
    "\n",
    ">>> Poly([3, 0, -2, 1]).derive()\n",
    "Poly([0, -4, 3])\n",
    "~~~\n",
    "\n"
   ]
  },
  {
   "cell_type": "markdown",
   "metadata": {},
   "source": [
    "### A.2. Evaluation d'un polynôme"
   ]
  },
  {
   "cell_type": "markdown",
   "metadata": {},
   "source": [
    "On cherche à programmer une méthode `eval` qui évalue un polynôme en un point donné.\n",
    "\n",
    "Une première implémentation, basée sur un algorithme naïf, est donnée ci-dessous.\n",
    "\n",
    "```py\n",
    "def eval(self, x):\n",
    "    v = 0\n",
    "    for k in range(len(self.coeff)):\n",
    "         v += self.coeff[k] * x**k\n",
    "    return v\n",
    "```\n",
    "\n",
    "Voilà quelques exemples d'utilisation de cette méthode `eval`.\n",
    "\n",
    "```py\n",
    ">>> Poly([3, 0, -2, 1]).eval(2)\n",
    "3\n",
    "\n",
    ">>> Poly([3, 0, -2, 1]).eval(-1)\n",
    "0\n",
    "```"
   ]
  },
  {
   "cell_type": "markdown",
   "metadata": {},
   "source": [
    "- Si l'on considère que le nombre de multiplications effectuées par l'opération `x**k` est de l'ordre de $\\log_2(k)$, déterminer la complexité (en nombre d'additions et de multiplications, en ne gardant que le terme dominant asymptotiquement) de la méthode `eval` donnée ci-dessus pour évaluer un polynôme de degré $n$ en un point donné.\n",
    "\n",
    "Remarque : La complexité en $\\log_2(k)$ pour l'opération `x**k` est la complexité obtenue lorsqu'on utilise l'algorithme d'exponentiation rapide.\n",
    "\n",
    "Indication : Pour simplifier l'expression obtenue, on utilisera la formule de Stirling qui donne un équivalent asymptotique de $n!$."
   ]
  },
  {
   "cell_type": "markdown",
   "metadata": {},
   "source": [
    "*-- Entrer la réponse ici. --*"
   ]
  },
  {
   "cell_type": "markdown",
   "metadata": {},
   "source": [
    "Il existe un algorithme plus efficace pour l'évaluation d'un polynôme : l'**algorithme de Horner**. Cet algorithme repose sur la réécriture suivante de la valeur en un point.\n",
    "\n",
    "$$\n",
    "\\begin{aligned}\n",
    "P(x) &= a_0 + a_1 x + \\ldots + a_{n}x^n\\\\\n",
    " &= a_0 + x( a_1  + x(a_2 + x (\\ldots + x(a_{n-1} + x a_{n})\\ldots)))\n",
    "\\end{aligned}\n",
    "$$\n",
    "\n",
    "Ainsi, en posant $v_n = a_n$ puis en calculant successivement\n",
    "\n",
    "$v_{n-1} = a_{n-1} + x v_n$,\n",
    "\n",
    "$\\ldots$,\n",
    "\n",
    "$v_1 = a_1 + xv_2$,\n",
    "\n",
    "$v_0 = a_0 +xv_1$, \n",
    "\n",
    "on récupère la valeur de $P(x)$ dans $v_0$."
   ]
  },
  {
   "cell_type": "markdown",
   "metadata": {},
   "source": [
    "* Ajouter une méthode `eval` dans la classe `Poly` qui implémente l'algorithme de Horner."
   ]
  },
  {
   "cell_type": "markdown",
   "metadata": {},
   "source": [
    "* Déterminer la complexité (en nombre d'additions et de multiplications, en ne gardant que le terme dominant asymptotiquement) de l'algorithme de Horner pour évaluer un polynôme de degré $n$ en un point donné."
   ]
  },
  {
   "cell_type": "markdown",
   "metadata": {},
   "source": [
    "*-- Entrer la réponse ici. --*"
   ]
  },
  {
   "cell_type": "markdown",
   "metadata": {},
   "source": [
    "### A.3. Somme et produit de polynômes"
   ]
  },
  {
   "cell_type": "markdown",
   "metadata": {},
   "source": [
    "* Soit $P$ un polynôme de degré $n$ et $Q$ un polynôme de degré $m$. Que peut-on dire du degré de $P+Q$ ? de $PQ$ ?"
   ]
  },
  {
   "cell_type": "markdown",
   "metadata": {},
   "source": [
    "<span style = \"color : blue;\">\n",
    "    $deg(P+Q) = max(deg(P), deg(Q))$\n",
    "    \n",
    "$def(PQ) = deg(P) + deg(Q)$\n",
    "</span>"
   ]
  },
  {
   "cell_type": "markdown",
   "metadata": {},
   "source": [
    "\n",
    "- Compléter la classe `Poly` en y ajoutant les méthodes spéciales `__add__`, `__neg__`, `__sub__` et `__mul__`. Voilà quelques illustrations du comportement attendu.\n",
    "\n",
    "~~~py\n",
    ">>> P = Poly([2, 1, -1])\n",
    ">>> Q = Poly([0, 2, 1])\n",
    ">>> P + Q\n",
    "Poly([2, 3])\n",
    "\n",
    ">>> P - Q\n",
    "Poly([2, -1, -2])\n",
    "\n",
    ">>> Poly([0, 1]) * P\n",
    "Poly([0, 2, 1, -1])\n",
    "\n",
    ">> P * Q\n",
    "Poly([0, 4, 4, -1, -1])\n",
    "~~~\n",
    "\n",
    "Indication : Pour la multiplication d'un polynôme `P` de degré `n` et d'un polynôme `Q` de degré `m`, commencer par créer une liste de taille `n+m` remplie de `0`. Puis considérer le produit de chaque terme de `P` avec chaque terme de `Q` (à l'aide d'une double boucle) et modifier la liste en conséquence."
   ]
  },
  {
   "cell_type": "markdown",
   "metadata": {},
   "source": [
    "- Quelle est la complexité (en nombre d'additions) de la méthode `__add__` pour calculer la somme d'un polynôme de degré $n$ et d'un polynôme de degré $m$ ?"
   ]
  },
  {
   "cell_type": "markdown",
   "metadata": {},
   "source": [
    "<span style = \"color : blue;\">\n",
    "    complexité __add__ : $n * m$\n",
    "</span>"
   ]
  },
  {
   "cell_type": "markdown",
   "metadata": {},
   "source": [
    "- Quelle est la complexité (en nombre d'additions et de multiplications) de la méthode `__mul__` pour calculer le produit d'un polynôme de degré $n$ et d'un polynôme de degré $m$ ?"
   ]
  },
  {
   "cell_type": "markdown",
   "metadata": {},
   "source": [
    "<span style = \"color : blue;\">\n",
    "    complexité __mul__ : $n*m$\n",
    "</span>"
   ]
  },
  {
   "cell_type": "markdown",
   "metadata": {},
   "source": [
    "- Insérer des tests (*doctests*) dans les chaînes de documentation (*docstrings*) des différentes méthode de la classe `Poly`. Tester la classe `Poly` avec la commande `testmod` du module `doctest`.\n"
   ]
  },
  {
   "cell_type": "code",
   "execution_count": 10,
   "metadata": {},
   "outputs": [
    {
     "data": {
      "text/plain": [
       "TestResults(failed=0, attempted=8)"
      ]
     },
     "execution_count": 10,
     "metadata": {},
     "output_type": "execute_result"
    }
   ],
   "source": [
    "import doctest\n",
    "doctest.testmod()"
   ]
  },
  {
   "cell_type": "markdown",
   "metadata": {},
   "source": [
    "### A.4. Tracé d'une courbe polynomiale"
   ]
  },
  {
   "cell_type": "markdown",
   "metadata": {},
   "source": [
    "- Ecrire une fonction `drawpoly` qui prend en paramètres un polynôme `P`, deux nombres flottants `x0` et `x1`, un entier `N`, et qui trace la représentation graphique de ce polynôme sur l'intervalle $[x_0,x_1]$ avec la commande `plot` du module `matplotlib.pyplot` en utilisant `N` points intermédiaires. On définira une valeur par défaut pour `N` égale à `100`."
   ]
  },
  {
   "cell_type": "code",
   "execution_count": 11,
   "metadata": {},
   "outputs": [],
   "source": [
    "from numpy import linspace\n",
    "import matplotlib.pyplot as plt\n",
    "\n",
    "\n",
    "def drawpoly(P, x0, x1, n = 100):\n",
    "    x = linspace(x0, x1, n)\n",
    "    y = [P.eval(var) for var in x]\n",
    "    plt.plot(x, y)\n",
    "    plt.show()\n",
    "    \n",
    "    "
   ]
  },
  {
   "cell_type": "markdown",
   "metadata": {},
   "source": [
    "- En utilisant cette fonction `drawpoly`, tracer la représentation graphique du polynôme $ -2X^3 + X +1$ sur l'intervalle $[-1,1]$."
   ]
  },
  {
   "cell_type": "code",
   "execution_count": 12,
   "metadata": {},
   "outputs": [
    {
     "data": {
      "image/png": "[encoded data removed]",
      "text/plain": [
       "<Figure size 640x480 with 1 Axes>"
      ]
     },
     "metadata": {},
     "output_type": "display_data"
    }
   ],
   "source": [
    "P = Poly([1, 1, 0, -2])\n",
    "drawpoly(P, -1, 1)"
   ]
  },
  {
   "cell_type": "markdown",
   "metadata": {},
   "source": [
    "### A.5. Une application : une suite de polynômes"
   ]
  },
  {
   "cell_type": "markdown",
   "metadata": {},
   "source": [
    "On considère la suite de polynômes $(P_n)_{n\\in\\mathbb{N}}$ définis par la relation de récurrence\n",
    "\n",
    "$$ P_{n+1}(X) = 2 X P_{n}(X) - P_{n-1}(X), $$\n",
    "\n",
    "avec $P_0 = 1$ et $P_1 = X$."
   ]
  },
  {
   "cell_type": "markdown",
   "metadata": {},
   "source": [
    "- Ecrire un pogramme qui calcule les dix premiers polynômes de la suite et trace leurs courbes représentatives sur l'intervalle $[-1,1]$."
   ]
  },
  {
   "cell_type": "code",
   "execution_count": null,
   "metadata": {},
   "outputs": [],
   "source": []
  },
  {
   "cell_type": "markdown",
   "metadata": {},
   "source": [
    "- Au vu de ces courbes, quelle conjecture peut-on faire sur le nombre et la localisation des racines réelles du polynôme $P_n$ pour $n$ donné ?"
   ]
  },
  {
   "cell_type": "markdown",
   "metadata": {},
   "source": [
    "*-- Entrer la réponse ici. --*"
   ]
  },
  {
   "cell_type": "markdown",
   "metadata": {},
   "source": [
    "## B. Interpolation\n",
    "\n",
    "Soit $(x_0,y_0), (x_1,y_1), \\ldots,(x_n,y_n)$ un ensemble de points tels que $x_0 < x_1 < \\ldots < x_n$. \n",
    "\n",
    "Nous cherchons à construire une courbe **régulière** qui passe par ces points. Autrement dit, nous cherche à construire une fonction $f: [x_0,x_n] \\rightarrow \\mathbb{R}$ régulière telle que\n",
    "\n",
    "$$f(x_0)=y_0, f(x_1)=y_1, \\ldots,f(x_n)=y_n.$$\n",
    "\n",
    "Puisqu'il s'agit de définir le chemin entre des points, on parle de courbes (et de fonctions) d'**interpolation**. Les courbes d'interpolation sont utilisées dans de nombreuses applications, notamment en **infographie**.\n",
    "\n",
    "Il existe différentes techniques d'interpolation. Nous nous intéressons ici :\n",
    "\n",
    "* à l'**interpolation de Lagrange**,\n",
    "\n",
    "* aux **interpolations de Hermite** et plus particulièrement à l'**interpolation de Catmull-Rom**."
   ]
  },
  {
   "cell_type": "markdown",
   "metadata": {},
   "source": [
    "### B.1. Polynôme d'interpolation de Lagrange"
   ]
  },
  {
   "cell_type": "markdown",
   "metadata": {},
   "source": [
    "Soit $(x_0,y_0), (x_1,y_1), \\ldots,(x_n,y_n)$ un ensemble de points tels que $x_0 < x_1 < \\ldots < x_n$. On appelle **polynôme d'interpolation de Lagrange** le polynôme $P$ de degré $\\leq n$ tel que $P(x_0) = y_0, P(x_1)=y_1,\\ldots, P(x_n)=y_n$."
   ]
  },
  {
   "cell_type": "markdown",
   "metadata": {},
   "source": [
    "### B.1.1 Existence et unicité du polynôme d'interpolation\n",
    "\n",
    "Soit $(x_0,y_0), (x_1,y_1), \\ldots,(x_n,y_n)$ un ensemble de points tels que $x_0 < x_1 < \\ldots < x_n$. Soit $\\varphi :\\mathbb{R}_n[X] \\rightarrow \\mathbb{R}^{n+1}$ l'application définie par\n",
    "\n",
    "$$\n",
    "\\varphi(P)=\\left(P(x_0),P(x_{1}), \\ldots, P(x_n))\\right).\n",
    "$$\n",
    "\n",
    "On admet que l'application $\\varphi$ est une application linéaire."
   ]
  },
  {
   "cell_type": "markdown",
   "metadata": {},
   "source": [
    "* Soit  $P \\in \\operatorname{Ker} \\varphi$. En raisonnant sur le nombre de racines de $P$, montrer que $P$ est le poynôme nul."
   ]
  },
  {
   "cell_type": "markdown",
   "metadata": {},
   "source": [
    "*-- Entrer la réponse ici. --*"
   ]
  },
  {
   "cell_type": "markdown",
   "metadata": {},
   "source": [
    "* En déduire que $\\varphi$ est injective, puis, par un argument de dimension, que $\\varphi$ est bijective."
   ]
  },
  {
   "cell_type": "markdown",
   "metadata": {},
   "source": [
    "*-- Entrer la réponse ici. --*"
   ]
  },
  {
   "cell_type": "markdown",
   "metadata": {},
   "source": [
    "* En déduire que le polynôme d'interpolation de Lagrange passant par les points $(x_0,y_0), (x_1,y_1), \\ldots,(x_n,y_n)$ existe et est unique."
   ]
  },
  {
   "cell_type": "markdown",
   "metadata": {},
   "source": [
    "*-- Entrer la réponse ici. --*"
   ]
  },
  {
   "cell_type": "markdown",
   "metadata": {},
   "source": [
    "### B.1.2. Calcul des coefficients du polynôme d'interpolation\n",
    "\n",
    "Une façon de calculer les coefficients du polynôme d'interpolation de Lagrange consiste à résoudre un système linéaire.\n",
    "\n",
    "Soit $P$ le polynôme d'interpolation de Lagrange passant par les points $(x_0,y_0), (x_1,y_1), \\ldots,(x_n,y_n)$.\n",
    "\n",
    "Il s'agit d'un polynôme de degré $n$ donc il peut s'écrire :\n",
    "\n",
    "$$\n",
    "P(X) = a_0 +a_1 X + \\ldots +a_n X^n.\n",
    "$$\n",
    "\n",
    "Par ailleurs, il vérifie :\n",
    "\n",
    "$$\n",
    "\\left\\{\n",
    "\\begin{array}{l}\n",
    "P(x_0)=y_0 \\\\\n",
    "P(x_1)=y_1\\\\\n",
    "\\ldots\\\\\n",
    "P(x_n)=y_n\n",
    "\\end{array}\n",
    "\\right.\n",
    "$$\n"
   ]
  },
  {
   "cell_type": "markdown",
   "metadata": {},
   "source": [
    "* En déduire un système linéaire $n\\times n$ sur les coefficients $a_0, a_1,\\ldots, a_n$ du polynôme d'interpolation de Lagrange $P$."
   ]
  },
  {
   "cell_type": "markdown",
   "metadata": {},
   "source": [
    "*-- Ecrire la réponse ici. --*\n",
    "$$\n",
    "\\left\\{\n",
    "\\begin{array}{l}\n",
    "??? = ??? \\\\\n",
    "??? = ???\\\\\n",
    "\\ldots \\\\\n",
    "??? = ???\n",
    "\\end{array}\n",
    "\\right.\n",
    "$$"
   ]
  },
  {
   "cell_type": "markdown",
   "metadata": {},
   "source": [
    "* Écrire ce système sous forme matricielle."
   ]
  },
  {
   "cell_type": "markdown",
   "metadata": {},
   "source": [
    "*-- Ecrire la réponse ici. --*\n",
    "$$\n",
    "\\begin{pmatrix} \n",
    "? & ? &\\ldots & ? \\\\\n",
    "? & ? & \\ldots & ? \\\\\n",
    " &  &  &  \\\\\n",
    " ? & ? & \\ldots & ? \\\\\n",
    "\\end{pmatrix} \n",
    "\\begin{pmatrix}\n",
    "a_0 \\\\\n",
    "a_1 \\\\\n",
    "\\\\\n",
    "a_n\n",
    "\\end{pmatrix}\n",
    "= \n",
    "\\begin{pmatrix}\n",
    "? \\\\\n",
    "? \\\\\n",
    "\\\\\n",
    "?\n",
    "\\end{pmatrix}\n",
    "$$"
   ]
  },
  {
   "cell_type": "markdown",
   "metadata": {},
   "source": [
    "Pour effectuer la résolution d'un système linéaire en Python, on propose d'utiliser la commande `linalg.solve` du paquet `numpy`. Voici un exemple d'utilisation de cette commande pour résoudre le système :\n",
    "$$\n",
    "\\begin{pmatrix} 3 & 1 \\\\ 1 & 2 \\end{pmatrix} \\begin{pmatrix} x \\\\ y \\end{pmatrix} = \\begin{pmatrix} -1 \\\\ 2 \\end{pmatrix}\n",
    "$$\n",
    "\n",
    "```py\n",
    ">>> import numpy as np\n",
    ">>> A = [[3, 1], [1, 2]]\n",
    ">>> B = [-1, 2]\n",
    ">>> np.linalg.solve(A, B)\n",
    "array([-0.8,  1.4])\n",
    "```\n",
    "\n",
    "On notera que la solution renvoyée par cette commande n'est pas un objet de type `list` mais un objet de type `array` (un type spécifique à la bibliothèque `numpy`). En pratique, ici, cela ne change rien."
   ]
  },
  {
   "cell_type": "markdown",
   "metadata": {},
   "source": [
    "- Ecrire une fonction `poly_Lagrange` qui prend en paramètres une liste d'abscisses `x` et une liste d'ordonnées `y`,  et renvoie (sous forme d'un objet de la classe `Poly`) le polynôme d'interpolation de Lagrange passant par les points données par ces deux listes."
   ]
  },
  {
   "cell_type": "code",
   "execution_count": null,
   "metadata": {},
   "outputs": [],
   "source": []
  },
  {
   "cell_type": "markdown",
   "metadata": {},
   "source": [
    "- A l'aide des fonctions `poly_Lagrange` et `drawpoly`, calculer puis tracer sur $[0,4]$ le polynôme d'interpolation de Lagrange $P$ passant par les points $(0, 1.5)$, $(1, 2)$, $(2.5, -1)$, $(4, 0)$."
   ]
  },
  {
   "cell_type": "code",
   "execution_count": null,
   "metadata": {
    "scrolled": true
   },
   "outputs": [],
   "source": []
  },
  {
   "cell_type": "markdown",
   "metadata": {},
   "source": [
    "### B.2. Polynôme d'interpolation de Hermite\n",
    "\n",
    "Soit $(x_0,y_0)$, $(x_1,y_1)$ deux points tels que $x_0 < x_1$ et deux valeurs $d_0$ et $d_1$. On appelle **polynôme d'interpolation de Hermite** associé à ces points et ces valeurs le polynôme $P$ de degré $\\leq 3$ tel que\n",
    "\n",
    "$$\n",
    "P(x_0)=y_0,\\quad P'(x_0)=d_0,\\quad P(x_{1})=y_{1}, \\quad P'(x_{1})=d_{1}.\n",
    "$$"
   ]
  },
  {
   "cell_type": "markdown",
   "metadata": {},
   "source": [
    "### B.2.1. Existence et unicité du polynôme d'interpolation\n",
    "\n",
    "A toutes fins utiles, on rappelle la définition des racines doubles d'un polynôme et leur principale propriété.\n",
    "\n",
    "**Définition.** Soit $P$ un polynôme. On dit que $\\alpha$ est une racine double de $P$ si $P(\\alpha) = 0$ et $P'(\\alpha)=0$.\n",
    "\n",
    "**Proposition.** Soit $P$ un polynôme. Une valeur $\\alpha$ est racine double de $P$ si et seulement si $(X-\\alpha)^2$ divise le polynôme $P$ (autrement dit, si et seulement s'il existe un polynôme $Q$ tel que $P(X) = (X-\\alpha)^2 Q(X)$).\n",
    "\n",
    "\n",
    "Soit deux réels $x_0, x_1$ tels que $x_0 < x_1$. Soit $\\varphi :\\mathbb{R}_3[X] \\rightarrow \\mathbb{R}^4$ l'application définie par\n",
    "\n",
    "$$\n",
    "\\varphi(P)=\\left(P(x_0),P'(x_0),P(x_{1}),P'(x_{1})\\right).\n",
    "$$"
   ]
  },
  {
   "cell_type": "markdown",
   "metadata": {},
   "source": [
    "On admet que l'application $\\varphi$ est une application linéaire."
   ]
  },
  {
   "cell_type": "markdown",
   "metadata": {},
   "source": [
    "* Soit  $P \\in \\operatorname{Ker} \\varphi$. \n",
    "    * Montrer que $P(X) = (X-x_0)^2 (X-x_1)^2 Q(X)$, où $Q$ est un polynôme. \n",
    "    * Rappeler le degré de $P$. \n",
    "    * En déduire que $Q$ est le polynôme nul et donc $P$ aussi."
   ]
  },
  {
   "cell_type": "markdown",
   "metadata": {},
   "source": [
    "*-- Entrer la réponse ici. --*"
   ]
  },
  {
   "cell_type": "markdown",
   "metadata": {},
   "source": [
    "* En déduire que $\\varphi$ est injective, puis, par un argument de dimension, que $\\varphi$ est bijective."
   ]
  },
  {
   "cell_type": "markdown",
   "metadata": {},
   "source": [
    "*-- Entrer la réponse ici. --*"
   ]
  },
  {
   "cell_type": "markdown",
   "metadata": {},
   "source": [
    "* En déduire que le polynôme d'interpolation de Hermite associé aux points $(x_0,y_0)$, $(x_1,y_1)$ et aux valeurs $d_0, d_1$ existe et est unique."
   ]
  },
  {
   "cell_type": "markdown",
   "metadata": {},
   "source": [
    "*-- Entrer la réponse ici. --*"
   ]
  },
  {
   "cell_type": "markdown",
   "metadata": {},
   "source": [
    "### B.2.2. Calcul des coefficients du polynôme d'interpolation"
   ]
  },
  {
   "cell_type": "markdown",
   "metadata": {},
   "source": [
    "Comme pour le polynôme d'interpolation de Lagrange, une façon de calculer le polynôme d'interpolation de Hermite consiste à résoudre un système linéaire (dont les inconnues sont les coefficients du polynôme)."
   ]
  },
  {
   "cell_type": "markdown",
   "metadata": {},
   "source": [
    "Puisqu'il s'agit d'un polynôme de degré $\\leq 3$, un polynôme d'interpolation de Hermite peut s'écrire :\n",
    "\n",
    "$$ P(X) = a + b X + c X^2 + d X ^3.$$ \n",
    "\n",
    "Par ailleurs, il vérifie\n",
    "\n",
    "$$\n",
    "\\left\\{\n",
    "\\begin{array}{l}\n",
    "P(x_0)=y_0 \\\\\n",
    "P'(x_0)=d_0\\\\\n",
    "P(x_{1})=y_{1}\\\\\n",
    "P'(x_{1})=d_{1}\n",
    "\\end{array}\n",
    "\\right.\n",
    "$$\n",
    "\n",
    "* En déduire un système linéaire $4\\times 4$ sur les coefficients $a, b, c, d$. Écrire ce système sous forme matricielle."
   ]
  },
  {
   "cell_type": "markdown",
   "metadata": {},
   "source": [
    "*-- Ecrire la réponse ici. --*\n",
    "$$\n",
    "\\begin{pmatrix} \n",
    "? & ? & ?  & ? \\\\\n",
    "? & ? & ?  & ? \\\\\n",
    "? & ? & ?  & ? \\\\\n",
    "? & ? & ?  & ? \\\\\n",
    "\\end{pmatrix} \n",
    "\\begin{pmatrix}\n",
    "a \\\\\n",
    "b \\\\\n",
    "c \\\\\n",
    "d\n",
    "\\end{pmatrix}\n",
    "= \n",
    "\\begin{pmatrix}\n",
    "? \\\\\n",
    "? \\\\\n",
    "? \\\\\n",
    "?\n",
    "\\end{pmatrix}\n",
    "$$\n"
   ]
  },
  {
   "cell_type": "markdown",
   "metadata": {},
   "source": [
    "- Ecrire une fonction `poly_Hermite` qui prend en paramètres 6 valeurs `x0`, `x1`, `y0`, `y1`, `d0`, `d1`, et renvoie (sous forme d'un objet de la classe `Poly`) le polynôme d'interpolation de Hermite tel que\n",
    "\n",
    "$$P(x_0)=y_0,\\quad P'(x_0)=d_0,\\quad P(x_{1})=y_{1}, \\quad P'(x_{1})=d_{1}.$$"
   ]
  },
  {
   "cell_type": "code",
   "execution_count": null,
   "metadata": {},
   "outputs": [],
   "source": []
  },
  {
   "cell_type": "markdown",
   "metadata": {},
   "source": [
    "- A l'aide des fonctions `poly_Hermite` et `drawpoly`, calculer puis tracer sur $[0,2]$ le polynôme d'interpolation de Hermite $P$ tel que\n",
    "\n",
    "$$P(0)=1,\\quad P'(0)=0,\\quad P(2)=0, \\quad P'(2)=1.$$"
   ]
  },
  {
   "cell_type": "code",
   "execution_count": null,
   "metadata": {
    "scrolled": true
   },
   "outputs": [],
   "source": []
  },
  {
   "cell_type": "markdown",
   "metadata": {},
   "source": [
    "### B.3. Courbes d'interpolation de Hermite et de Catmull-Rom\n",
    "\n",
    "\n",
    "Soit $(x_0,y_0), (x_1,y_1), \\ldots,(x_n,y_n)$ un ensemble de points tels que $x_0 < x_1 < \\ldots < x_n$. \n",
    "\n",
    "Soit des valeurs $d_0, d_1, \\ldots d_n$ (appelées pentes de raccord).\n",
    "\n",
    "Pour tout $k\\in\\{0,\\ldots,n-1\\}$, on définit le polynôme d'interpolation de Hermite $P_k$ tel que\n",
    "\n",
    "$$P_k(x_k)=y_k,\\quad P'_k(x_k)=d_k,\\quad P_k(x_{k+1})=y_{k+1}, \\quad P'_k(x_{k+1})=d_{k+1}.$$\n",
    "\n",
    "La **fonction d'interpolation de Hermite** associée aux points $(x_0,y_0), (x_1,y_1), \\ldots,(x_n,y_n)$ et aux pentes $d_0, d_1 \\ldots d_n$ est la fonction  $f: [x_0,x_n] \\rightarrow \\mathbb{R}$ telle que\n",
    "\n",
    "$$\n",
    "f(x) = \\begin{cases}\n",
    "P_0(x) &\\text{si} \\quad x \\in [x_0,x_1],\\\\\n",
    "P_1(x) &\\text{si} \\quad x \\in ]x_1,x_2],\\\\\n",
    "\\ldots \\\\\n",
    "P_{n-1}(x) &\\text{si} \\quad x \\in ]x_{n-1},x_n]\n",
    "\\end{cases}\n",
    "$$\n",
    "\n",
    "Il est immédiat de constater que cette fonction est polynomiale par morceaux et que le raccord entre ces morceaux est $C^1$. En effet, par définition des polynômes\n",
    "$P_k$ :\n",
    "\n",
    "$$ P_k(x_{k+1}) = P_{k+1}(x_{k+1}) \\quad \\text{et} \\quad P'_k(x_{k+1}) = P'_{k+1}(x_{k+1}).$$\n",
    "\n",
    "Globalement cette fonction est donc de classe $C^1$."
   ]
  },
  {
   "cell_type": "markdown",
   "metadata": {},
   "source": [
    "* Ecrire une fonction `interpol_Hermite` qui calcule la fonction d'interpolation de Hermite. Cette fonction prendra en paramètres `x`, la liste des abscisses des points, `y`, la liste des ordonnées, et `d`, la liste des pentes. Cette fonction renverra la liste des polynômes formant la fonction d'interpolation."
   ]
  },
  {
   "cell_type": "code",
   "execution_count": null,
   "metadata": {},
   "outputs": [],
   "source": []
  },
  {
   "cell_type": "markdown",
   "metadata": {},
   "source": [
    "- Calculer la fonction d'interpolation de Hermite passant par les points $(0,1)$, $(1,0.5)$, $(3,-2)$, $(5,2)$, $(6,4)$ et $(9,0)$ avec des pentes de raccord toutes égales à zéro."
   ]
  },
  {
   "cell_type": "code",
   "execution_count": null,
   "metadata": {},
   "outputs": [],
   "source": []
  },
  {
   "cell_type": "markdown",
   "metadata": {},
   "source": [
    "La fonction d'interpolation de Catmull-Rom est une version particulière de la fonction d'interpolation de Hermite dans laquelle on prend les valeurs suivantes pour les pentes de raccord :\n",
    "\n",
    "$\\displaystyle d_0 = \\frac{y_1-y_0}{x_1-x_0}$, $\\displaystyle d_n=\\frac{y_n-y_{n-1}}{x_n-x_{n-1}}$ et, pour tout $k\\in\\{1,\\ldots,n-1\\}$, $\\displaystyle d_k = \\frac{y_{k+1}-y_{k-1}}{x_{k+1}-x_{k-1}}$.\n",
    "\n",
    "\n",
    "- Ecrire une fonction `interpol_CR` qui calcule la fonction d'interpolation de Catmull-Rom. Cette fonction prendra en paramètres `x`, la liste des abscisses des points, et `y`, la liste des ordonnées. Cette fonction renverra la liste des polynômes formant l'interpolation."
   ]
  },
  {
   "cell_type": "code",
   "execution_count": null,
   "metadata": {},
   "outputs": [],
   "source": []
  },
  {
   "cell_type": "markdown",
   "metadata": {},
   "source": [
    "- Calculer la fonction d'interpolation de Catmull-Rom passant par les points $(0,1)$, $(1,0.5)$, $(3,-2)$, $(5,2)$, $(6,4)$ et $(9,0)$."
   ]
  },
  {
   "cell_type": "code",
   "execution_count": null,
   "metadata": {},
   "outputs": [],
   "source": []
  },
  {
   "cell_type": "markdown",
   "metadata": {},
   "source": [
    "- Ecrire une fonction `drawinterpol` qui trace une interpolation polynomiale par morceaux. Cette fonction prendra en paramètres `x`, la liste des abscisses des points d'interpolation, et `interpol`, la liste des polynômes formant l'interpolation."
   ]
  },
  {
   "cell_type": "code",
   "execution_count": null,
   "metadata": {},
   "outputs": [],
   "source": []
  },
  {
   "cell_type": "markdown",
   "metadata": {},
   "source": [
    "- Tracer la fonction d'interpolation de Hermite passant par les points $(0,1)$, $(1,0.5)$, $(3,-2)$, $(5,2)$, $(6,4)$ et $(9,0)$ avec des pentes de raccord toutes égales à zéro. Tracer la fonction d'interpolation de Catmull-Rom passant par ces mêmes points."
   ]
  },
  {
   "cell_type": "code",
   "execution_count": null,
   "metadata": {},
   "outputs": [],
   "source": []
  },
  {
   "cell_type": "markdown",
   "metadata": {},
   "source": [
    "- Entre ces deux tracés, lequel vous semble avoir l'aspect le plus \"naturel\" ?"
   ]
  },
  {
   "cell_type": "code",
   "execution_count": null,
   "metadata": {},
   "outputs": [],
   "source": []
  },
  {
   "cell_type": "markdown",
   "metadata": {},
   "source": [
    "Le code suivant permet de tracer une ligne brisée de manière interactive : un clic gauche ajoute un point au tracé, un clic doit marque le point final du tracé."
   ]
  },
  {
   "cell_type": "code",
   "execution_count": 13,
   "metadata": {},
   "outputs": [
    {
     "data": {
      "application/javascript": [
       "/* Put everything inside the global mpl namespace */\n",
       "/* global mpl */\n",
       "window.mpl = {};\n",
       "\n",
       "mpl.get_websocket_type = function () {\n",
       "    if (typeof WebSocket !== 'undefined') {\n",
       "        return WebSocket;\n",
       "    } else if (typeof MozWebSocket !== 'undefined') {\n",
       "        return MozWebSocket;\n",
       "    } else {\n",
       "        alert(\n",
       "            'Your browser does not have WebSocket support. ' +\n",
       "                'Please try Chrome, Safari or Firefox ≥ 6. ' +\n",
       "                'Firefox 4 and 5 are also supported but you ' +\n",
       "                'have to enable WebSockets in about:config.'\n",
       "        );\n",
       "    }\n",
       "};\n",
       "\n",
       "mpl.figure = function (figure_id, websocket, ondownload, parent_element) {\n",
       "    this.id = figure_id;\n",
       "\n",
       "    this.ws = websocket;\n",
       "\n",
       "    this.supports_binary = this.ws.binaryType !== undefined;\n",
       "\n",
       "    if (!this.supports_binary) {\n",
       "        var warnings = document.getElementById('mpl-warnings');\n",
       "        if (warnings) {\n",
       "            warnings.style.display = 'block';\n",
       "            warnings.textContent =\n",
       "                'This browser does not support binary websocket messages. ' +\n",
       "                'Performance may be slow.';\n",
       "        }\n",
       "    }\n",
       "\n",
       "    this.imageObj = new Image();\n",
       "\n",
       "    this.context = undefined;\n",
       "    this.message = undefined;\n",
       "    this.canvas = undefined;\n",
       "    this.rubberband_canvas = undefined;\n",
       "    this.rubberband_context = undefined;\n",
       "    this.format_dropdown = undefined;\n",
       "\n",
       "    this.image_mode = 'full';\n",
       "\n",
       "    this.root = document.createElement('div');\n",
       "    this.root.setAttribute('style', 'display: inline-block');\n",
       "    this._root_extra_style(this.root);\n",
       "\n",
       "    parent_element.appendChild(this.root);\n",
       "\n",
       "    this._init_header(this);\n",
       "    this._init_canvas(this);\n",
       "    this._init_toolbar(this);\n",
       "\n",
       "    var fig = this;\n",
       "\n",
       "    this.waiting = false;\n",
       "\n",
       "    this.ws.onopen = function () {\n",
       "        fig.send_message('supports_binary', { value: fig.supports_binary });\n",
       "        fig.send_message('send_image_mode', {});\n",
       "        if (fig.ratio !== 1) {\n",
       "            fig.send_message('set_dpi_ratio', { dpi_ratio: fig.ratio });\n",
       "        }\n",
       "        fig.send_message('refresh', {});\n",
       "    };\n",
       "\n",
       "    this.imageObj.onload = function () {\n",
       "        if (fig.image_mode === 'full') {\n",
       "            // Full images could contain transparency (where diff images\n",
       "            // almost always do), so we need to clear the canvas so that\n",
       "            // there is no ghosting.\n",
       "            fig.context.clearRect(0, 0, fig.canvas.width, fig.canvas.height);\n",
       "        }\n",
       "        fig.context.drawImage(fig.imageObj, 0, 0);\n",
       "    };\n",
       "\n",
       "    this.imageObj.onunload = function () {\n",
       "        fig.ws.close();\n",
       "    };\n",
       "\n",
       "    this.ws.onmessage = this._make_on_message_function(this);\n",
       "\n",
       "    this.ondownload = ondownload;\n",
       "};\n",
       "\n",
       "mpl.figure.prototype._init_header = function () {\n",
       "    var titlebar = document.createElement('div');\n",
       "    titlebar.classList =\n",
       "        'ui-dialog-titlebar ui-widget-header ui-corner-all ui-helper-clearfix';\n",
       "    var titletext = document.createElement('div');\n",
       "    titletext.classList = 'ui-dialog-title';\n",
       "    titletext.setAttribute(\n",
       "        'style',\n",
       "        'width: 100%; text-align: center; padding: 3px;'\n",
       "    );\n",
       "    titlebar.appendChild(titletext);\n",
       "    this.root.appendChild(titlebar);\n",
       "    this.header = titletext;\n",
       "};\n",
       "\n",
       "mpl.figure.prototype._canvas_extra_style = function (_canvas_div) {};\n",
       "\n",
       "mpl.figure.prototype._root_extra_style = function (_canvas_div) {};\n",
       "\n",
       "mpl.figure.prototype._init_canvas = function () {\n",
       "    var fig = this;\n",
       "\n",
       "    var canvas_div = (this.canvas_div = document.createElement('div'));\n",
       "    canvas_div.setAttribute(\n",
       "        'style',\n",
       "        'border: 1px solid #ddd;' +\n",
       "            'box-sizing: content-box;' +\n",
       "            'clear: both;' +\n",
       "            'min-height: 1px;' +\n",
       "            'min-width: 1px;' +\n",
       "            'outline: 0;' +\n",
       "            'overflow: hidden;' +\n",
       "            'position: relative;' +\n",
       "            'resize: both;'\n",
       "    );\n",
       "\n",
       "    function on_keyboard_event_closure(name) {\n",
       "        return function (event) {\n",
       "            return fig.key_event(event, name);\n",
       "        };\n",
       "    }\n",
       "\n",
       "    canvas_div.addEventListener(\n",
       "        'keydown',\n",
       "        on_keyboard_event_closure('key_press')\n",
       "    );\n",
       "    canvas_div.addEventListener(\n",
       "        'keyup',\n",
       "        on_keyboard_event_closure('key_release')\n",
       "    );\n",
       "\n",
       "    this._canvas_extra_style(canvas_div);\n",
       "    this.root.appendChild(canvas_div);\n",
       "\n",
       "    var canvas = (this.canvas = document.createElement('canvas'));\n",
       "    canvas.classList.add('mpl-canvas');\n",
       "    canvas.setAttribute('style', 'box-sizing: content-box;');\n",
       "\n",
       "    this.context = canvas.getContext('2d');\n",
       "\n",
       "    var backingStore =\n",
       "        this.context.backingStorePixelRatio ||\n",
       "        this.context.webkitBackingStorePixelRatio ||\n",
       "        this.context.mozBackingStorePixelRatio ||\n",
       "        this.context.msBackingStorePixelRatio ||\n",
       "        this.context.oBackingStorePixelRatio ||\n",
       "        this.context.backingStorePixelRatio ||\n",
       "        1;\n",
       "\n",
       "    this.ratio = (window.devicePixelRatio || 1) / backingStore;\n",
       "    if (this.ratio !== 1) {\n",
       "        fig.send_message('set_dpi_ratio', { dpi_ratio: this.ratio });\n",
       "    }\n",
       "\n",
       "    var rubberband_canvas = (this.rubberband_canvas = document.createElement(\n",
       "        'canvas'\n",
       "    ));\n",
       "    rubberband_canvas.setAttribute(\n",
       "        'style',\n",
       "        'box-sizing: content-box; position: absolute; left: 0; top: 0; z-index: 1;'\n",
       "    );\n",
       "\n",
       "    // Apply a ponyfill if ResizeObserver is not implemented by browser.\n",
       "    if (this.ResizeObserver === undefined) {\n",
       "        if (window.ResizeObserver !== undefined) {\n",
       "            this.ResizeObserver = window.ResizeObserver;\n",
       "        } else {\n",
       "            var obs = _JSXTOOLS_RESIZE_OBSERVER({});\n",
       "            this.ResizeObserver = obs.ResizeObserver;\n",
       "        }\n",
       "    }\n",
       "\n",
       "    this.resizeObserverInstance = new this.ResizeObserver(function (entries) {\n",
       "        var nentries = entries.length;\n",
       "        for (var i = 0; i < nentries; i++) {\n",
       "            var entry = entries[i];\n",
       "            var width, height;\n",
       "            if (entry.contentBoxSize) {\n",
       "                if (entry.contentBoxSize instanceof Array) {\n",
       "                    // Chrome 84 implements new version of spec.\n",
       "                    width = entry.contentBoxSize[0].inlineSize;\n",
       "                    height = entry.contentBoxSize[0].blockSize;\n",
       "                } else {\n",
       "                    // Firefox implements old version of spec.\n",
       "                    width = entry.contentBoxSize.inlineSize;\n",
       "                    height = entry.contentBoxSize.blockSize;\n",
       "                }\n",
       "            } else {\n",
       "                // Chrome <84 implements even older version of spec.\n",
       "                width = entry.contentRect.width;\n",
       "                height = entry.contentRect.height;\n",
       "            }\n",
       "\n",
       "            // Keep the size of the canvas and rubber band canvas in sync with\n",
       "            // the canvas container.\n",
       "            if (entry.devicePixelContentBoxSize) {\n",
       "                // Chrome 84 implements new version of spec.\n",
       "                canvas.setAttribute(\n",
       "                    'width',\n",
       "                    entry.devicePixelContentBoxSize[0].inlineSize\n",
       "                );\n",
       "                canvas.setAttribute(\n",
       "                    'height',\n",
       "                    entry.devicePixelContentBoxSize[0].blockSize\n",
       "                );\n",
       "            } else {\n",
       "                canvas.setAttribute('width', width * fig.ratio);\n",
       "                canvas.setAttribute('height', height * fig.ratio);\n",
       "            }\n",
       "            canvas.setAttribute(\n",
       "                'style',\n",
       "                'width: ' + width + 'px; height: ' + height + 'px;'\n",
       "            );\n",
       "\n",
       "            rubberband_canvas.setAttribute('width', width);\n",
       "            rubberband_canvas.setAttribute('height', height);\n",
       "\n",
       "            // And update the size in Python. We ignore the initial 0/0 size\n",
       "            // that occurs as the element is placed into the DOM, which should\n",
       "            // otherwise not happen due to the minimum size styling.\n",
       "            if (width != 0 && height != 0) {\n",
       "                fig.request_resize(width, height);\n",
       "            }\n",
       "        }\n",
       "    });\n",
       "    this.resizeObserverInstance.observe(canvas_div);\n",
       "\n",
       "    function on_mouse_event_closure(name) {\n",
       "        return function (event) {\n",
       "            return fig.mouse_event(event, name);\n",
       "        };\n",
       "    }\n",
       "\n",
       "    rubberband_canvas.addEventListener(\n",
       "        'mousedown',\n",
       "        on_mouse_event_closure('button_press')\n",
       "    );\n",
       "    rubberband_canvas.addEventListener(\n",
       "        'mouseup',\n",
       "        on_mouse_event_closure('button_release')\n",
       "    );\n",
       "    // Throttle sequential mouse events to 1 every 20ms.\n",
       "    rubberband_canvas.addEventListener(\n",
       "        'mousemove',\n",
       "        on_mouse_event_closure('motion_notify')\n",
       "    );\n",
       "\n",
       "    rubberband_canvas.addEventListener(\n",
       "        'mouseenter',\n",
       "        on_mouse_event_closure('figure_enter')\n",
       "    );\n",
       "    rubberband_canvas.addEventListener(\n",
       "        'mouseleave',\n",
       "        on_mouse_event_closure('figure_leave')\n",
       "    );\n",
       "\n",
       "    canvas_div.addEventListener('wheel', function (event) {\n",
       "        if (event.deltaY < 0) {\n",
       "            event.step = 1;\n",
       "        } else {\n",
       "            event.step = -1;\n",
       "        }\n",
       "        on_mouse_event_closure('scroll')(event);\n",
       "    });\n",
       "\n",
       "    canvas_div.appendChild(canvas);\n",
       "    canvas_div.appendChild(rubberband_canvas);\n",
       "\n",
       "    this.rubberband_context = rubberband_canvas.getContext('2d');\n",
       "    this.rubberband_context.strokeStyle = '#000000';\n",
       "\n",
       "    this._resize_canvas = function (width, height, forward) {\n",
       "        if (forward) {\n",
       "            canvas_div.style.width = width + 'px';\n",
       "            canvas_div.style.height = height + 'px';\n",
       "        }\n",
       "    };\n",
       "\n",
       "    // Disable right mouse context menu.\n",
       "    this.rubberband_canvas.addEventListener('contextmenu', function (_e) {\n",
       "        event.preventDefault();\n",
       "        return false;\n",
       "    });\n",
       "\n",
       "    function set_focus() {\n",
       "        canvas.focus();\n",
       "        canvas_div.focus();\n",
       "    }\n",
       "\n",
       "    window.setTimeout(set_focus, 100);\n",
       "};\n",
       "\n",
       "mpl.figure.prototype._init_toolbar = function () {\n",
       "    var fig = this;\n",
       "\n",
       "    var toolbar = document.createElement('div');\n",
       "    toolbar.classList = 'mpl-toolbar';\n",
       "    this.root.appendChild(toolbar);\n",
       "\n",
       "    function on_click_closure(name) {\n",
       "        return function (_event) {\n",
       "            return fig.toolbar_button_onclick(name);\n",
       "        };\n",
       "    }\n",
       "\n",
       "    function on_mouseover_closure(tooltip) {\n",
       "        return function (event) {\n",
       "            if (!event.currentTarget.disabled) {\n",
       "                return fig.toolbar_button_onmouseover(tooltip);\n",
       "            }\n",
       "        };\n",
       "    }\n",
       "\n",
       "    fig.buttons = {};\n",
       "    var buttonGroup = document.createElement('div');\n",
       "    buttonGroup.classList = 'mpl-button-group';\n",
       "    for (var toolbar_ind in mpl.toolbar_items) {\n",
       "        var name = mpl.toolbar_items[toolbar_ind][0];\n",
       "        var tooltip = mpl.toolbar_items[toolbar_ind][1];\n",
       "        var image = mpl.toolbar_items[toolbar_ind][2];\n",
       "        var method_name = mpl.toolbar_items[toolbar_ind][3];\n",
       "\n",
       "        if (!name) {\n",
       "            /* Instead of a spacer, we start a new button group. */\n",
       "            if (buttonGroup.hasChildNodes()) {\n",
       "                toolbar.appendChild(buttonGroup);\n",
       "            }\n",
       "            buttonGroup = document.createElement('div');\n",
       "            buttonGroup.classList = 'mpl-button-group';\n",
       "            continue;\n",
       "        }\n",
       "\n",
       "        var button = (fig.buttons[name] = document.createElement('button'));\n",
       "        button.classList = 'mpl-widget';\n",
       "        button.setAttribute('role', 'button');\n",
       "        button.setAttribute('aria-disabled', 'false');\n",
       "        button.addEventListener('click', on_click_closure(method_name));\n",
       "        button.addEventListener('mouseover', on_mouseover_closure(tooltip));\n",
       "\n",
       "        var icon_img = document.createElement('img');\n",
       "        icon_img.src = '_images/' + image + '.png';\n",
       "        icon_img.srcset = '_images/' + image + '_large.png 2x';\n",
       "        icon_img.alt = tooltip;\n",
       "        button.appendChild(icon_img);\n",
       "\n",
       "        buttonGroup.appendChild(button);\n",
       "    }\n",
       "\n",
       "    if (buttonGroup.hasChildNodes()) {\n",
       "        toolbar.appendChild(buttonGroup);\n",
       "    }\n",
       "\n",
       "    var fmt_picker = document.createElement('select');\n",
       "    fmt_picker.classList = 'mpl-widget';\n",
       "    toolbar.appendChild(fmt_picker);\n",
       "    this.format_dropdown = fmt_picker;\n",
       "\n",
       "    for (var ind in mpl.extensions) {\n",
       "        var fmt = mpl.extensions[ind];\n",
       "        var option = document.createElement('option');\n",
       "        option.selected = fmt === mpl.default_extension;\n",
       "        option.innerHTML = fmt;\n",
       "        fmt_picker.appendChild(option);\n",
       "    }\n",
       "\n",
       "    var status_bar = document.createElement('span');\n",
       "    status_bar.classList = 'mpl-message';\n",
       "    toolbar.appendChild(status_bar);\n",
       "    this.message = status_bar;\n",
       "};\n",
       "\n",
       "mpl.figure.prototype.request_resize = function (x_pixels, y_pixels) {\n",
       "    // Request matplotlib to resize the figure. Matplotlib will then trigger a resize in the client,\n",
       "    // which will in turn request a refresh of the image.\n",
       "    this.send_message('resize', { width: x_pixels, height: y_pixels });\n",
       "};\n",
       "\n",
       "mpl.figure.prototype.send_message = function (type, properties) {\n",
       "    properties['type'] = type;\n",
       "    properties['figure_id'] = this.id;\n",
       "    this.ws.send(JSON.stringify(properties));\n",
       "};\n",
       "\n",
       "mpl.figure.prototype.send_draw_message = function () {\n",
       "    if (!this.waiting) {\n",
       "        this.waiting = true;\n",
       "        this.ws.send(JSON.stringify({ type: 'draw', figure_id: this.id }));\n",
       "    }\n",
       "};\n",
       "\n",
       "mpl.figure.prototype.handle_save = function (fig, _msg) {\n",
       "    var format_dropdown = fig.format_dropdown;\n",
       "    var format = format_dropdown.options[format_dropdown.selectedIndex].value;\n",
       "    fig.ondownload(fig, format);\n",
       "};\n",
       "\n",
       "mpl.figure.prototype.handle_resize = function (fig, msg) {\n",
       "    var size = msg['size'];\n",
       "    if (size[0] !== fig.canvas.width || size[1] !== fig.canvas.height) {\n",
       "        fig._resize_canvas(size[0], size[1], msg['forward']);\n",
       "        fig.send_message('refresh', {});\n",
       "    }\n",
       "};\n",
       "\n",
       "mpl.figure.prototype.handle_rubberband = function (fig, msg) {\n",
       "    var x0 = msg['x0'] / fig.ratio;\n",
       "    var y0 = (fig.canvas.height - msg['y0']) / fig.ratio;\n",
       "    var x1 = msg['x1'] / fig.ratio;\n",
       "    var y1 = (fig.canvas.height - msg['y1']) / fig.ratio;\n",
       "    x0 = Math.floor(x0) + 0.5;\n",
       "    y0 = Math.floor(y0) + 0.5;\n",
       "    x1 = Math.floor(x1) + 0.5;\n",
       "    y1 = Math.floor(y1) + 0.5;\n",
       "    var min_x = Math.min(x0, x1);\n",
       "    var min_y = Math.min(y0, y1);\n",
       "    var width = Math.abs(x1 - x0);\n",
       "    var height = Math.abs(y1 - y0);\n",
       "\n",
       "    fig.rubberband_context.clearRect(\n",
       "        0,\n",
       "        0,\n",
       "        fig.canvas.width / fig.ratio,\n",
       "        fig.canvas.height / fig.ratio\n",
       "    );\n",
       "\n",
       "    fig.rubberband_context.strokeRect(min_x, min_y, width, height);\n",
       "};\n",
       "\n",
       "mpl.figure.prototype.handle_figure_label = function (fig, msg) {\n",
       "    // Updates the figure title.\n",
       "    fig.header.textContent = msg['label'];\n",
       "};\n",
       "\n",
       "mpl.figure.prototype.handle_cursor = function (fig, msg) {\n",
       "    var cursor = msg['cursor'];\n",
       "    switch (cursor) {\n",
       "        case 0:\n",
       "            cursor = 'pointer';\n",
       "            break;\n",
       "        case 1:\n",
       "            cursor = 'default';\n",
       "            break;\n",
       "        case 2:\n",
       "            cursor = 'crosshair';\n",
       "            break;\n",
       "        case 3:\n",
       "            cursor = 'move';\n",
       "            break;\n",
       "    }\n",
       "    fig.rubberband_canvas.style.cursor = cursor;\n",
       "};\n",
       "\n",
       "mpl.figure.prototype.handle_message = function (fig, msg) {\n",
       "    fig.message.textContent = msg['message'];\n",
       "};\n",
       "\n",
       "mpl.figure.prototype.handle_draw = function (fig, _msg) {\n",
       "    // Request the server to send over a new figure.\n",
       "    fig.send_draw_message();\n",
       "};\n",
       "\n",
       "mpl.figure.prototype.handle_image_mode = function (fig, msg) {\n",
       "    fig.image_mode = msg['mode'];\n",
       "};\n",
       "\n",
       "mpl.figure.prototype.handle_history_buttons = function (fig, msg) {\n",
       "    for (var key in msg) {\n",
       "        if (!(key in fig.buttons)) {\n",
       "            continue;\n",
       "        }\n",
       "        fig.buttons[key].disabled = !msg[key];\n",
       "        fig.buttons[key].setAttribute('aria-disabled', !msg[key]);\n",
       "    }\n",
       "};\n",
       "\n",
       "mpl.figure.prototype.handle_navigate_mode = function (fig, msg) {\n",
       "    if (msg['mode'] === 'PAN') {\n",
       "        fig.buttons['Pan'].classList.add('active');\n",
       "        fig.buttons['Zoom'].classList.remove('active');\n",
       "    } else if (msg['mode'] === 'ZOOM') {\n",
       "        fig.buttons['Pan'].classList.remove('active');\n",
       "        fig.buttons['Zoom'].classList.add('active');\n",
       "    } else {\n",
       "        fig.buttons['Pan'].classList.remove('active');\n",
       "        fig.buttons['Zoom'].classList.remove('active');\n",
       "    }\n",
       "};\n",
       "\n",
       "mpl.figure.prototype.updated_canvas_event = function () {\n",
       "    // Called whenever the canvas gets updated.\n",
       "    this.send_message('ack', {});\n",
       "};\n",
       "\n",
       "// A function to construct a web socket function for onmessage handling.\n",
       "// Called in the figure constructor.\n",
       "mpl.figure.prototype._make_on_message_function = function (fig) {\n",
       "    return function socket_on_message(evt) {\n",
       "        if (evt.data instanceof Blob) {\n",
       "            /* FIXME: We get \"Resource interpreted as Image but\n",
       "             * transferred with MIME type text/plain:\" errors on\n",
       "             * Chrome.  But how to set the MIME type?  It doesn't seem\n",
       "             * to be part of the websocket stream */\n",
       "            evt.data.type = 'image/png';\n",
       "\n",
       "            /* Free the memory for the previous frames */\n",
       "            if (fig.imageObj.src) {\n",
       "                (window.URL || window.webkitURL).revokeObjectURL(\n",
       "                    fig.imageObj.src\n",
       "                );\n",
       "            }\n",
       "\n",
       "            fig.imageObj.src = (window.URL || window.webkitURL).createObjectURL(\n",
       "                evt.data\n",
       "            );\n",
       "            fig.updated_canvas_event();\n",
       "            fig.waiting = false;\n",
       "            return;\n",
       "        } else if (\n",
       "            typeof evt.data === 'string' &&\n",
       "            evt.data.slice(0, 21) === 'data:image/png;base64'\n",
       "        ) {\n",
       "            fig.imageObj.src = evt.data;\n",
       "            fig.updated_canvas_event();\n",
       "            fig.waiting = false;\n",
       "            return;\n",
       "        }\n",
       "\n",
       "        var msg = JSON.parse(evt.data);\n",
       "        var msg_type = msg['type'];\n",
       "\n",
       "        // Call the  \"handle_{type}\" callback, which takes\n",
       "        // the figure and JSON message as its only arguments.\n",
       "        try {\n",
       "            var callback = fig['handle_' + msg_type];\n",
       "        } catch (e) {\n",
       "            console.log(\n",
       "                \"No handler for the '\" + msg_type + \"' message type: \",\n",
       "                msg\n",
       "            );\n",
       "            return;\n",
       "        }\n",
       "\n",
       "        if (callback) {\n",
       "            try {\n",
       "                // console.log(\"Handling '\" + msg_type + \"' message: \", msg);\n",
       "                callback(fig, msg);\n",
       "            } catch (e) {\n",
       "                console.log(\n",
       "                    \"Exception inside the 'handler_\" + msg_type + \"' callback:\",\n",
       "                    e,\n",
       "                    e.stack,\n",
       "                    msg\n",
       "                );\n",
       "            }\n",
       "        }\n",
       "    };\n",
       "};\n",
       "\n",
       "// from http://stackoverflow.com/questions/1114465/getting-mouse-location-in-canvas\n",
       "mpl.findpos = function (e) {\n",
       "    //this section is from http://www.quirksmode.org/js/events_properties.html\n",
       "    var targ;\n",
       "    if (!e) {\n",
       "        e = window.event;\n",
       "    }\n",
       "    if (e.target) {\n",
       "        targ = e.target;\n",
       "    } else if (e.srcElement) {\n",
       "        targ = e.srcElement;\n",
       "    }\n",
       "    if (targ.nodeType === 3) {\n",
       "        // defeat Safari bug\n",
       "        targ = targ.parentNode;\n",
       "    }\n",
       "\n",
       "    // pageX,Y are the mouse positions relative to the document\n",
       "    var boundingRect = targ.getBoundingClientRect();\n",
       "    var x = e.pageX - (boundingRect.left + document.body.scrollLeft);\n",
       "    var y = e.pageY - (boundingRect.top + document.body.scrollTop);\n",
       "\n",
       "    return { x: x, y: y };\n",
       "};\n",
       "\n",
       "/*\n",
       " * return a copy of an object with only non-object keys\n",
       " * we need this to avoid circular references\n",
       " * http://stackoverflow.com/a/24161582/3208463\n",
       " */\n",
       "function simpleKeys(original) {\n",
       "    return Object.keys(original).reduce(function (obj, key) {\n",
       "        if (typeof original[key] !== 'object') {\n",
       "            obj[key] = original[key];\n",
       "        }\n",
       "        return obj;\n",
       "    }, {});\n",
       "}\n",
       "\n",
       "mpl.figure.prototype.mouse_event = function (event, name) {\n",
       "    var canvas_pos = mpl.findpos(event);\n",
       "\n",
       "    if (name === 'button_press') {\n",
       "        this.canvas.focus();\n",
       "        this.canvas_div.focus();\n",
       "    }\n",
       "\n",
       "    var x = canvas_pos.x * this.ratio;\n",
       "    var y = canvas_pos.y * this.ratio;\n",
       "\n",
       "    this.send_message(name, {\n",
       "        x: x,\n",
       "        y: y,\n",
       "        button: event.button,\n",
       "        step: event.step,\n",
       "        guiEvent: simpleKeys(event),\n",
       "    });\n",
       "\n",
       "    /* This prevents the web browser from automatically changing to\n",
       "     * the text insertion cursor when the button is pressed.  We want\n",
       "     * to control all of the cursor setting manually through the\n",
       "     * 'cursor' event from matplotlib */\n",
       "    event.preventDefault();\n",
       "    return false;\n",
       "};\n",
       "\n",
       "mpl.figure.prototype._key_event_extra = function (_event, _name) {\n",
       "    // Handle any extra behaviour associated with a key event\n",
       "};\n",
       "\n",
       "mpl.figure.prototype.key_event = function (event, name) {\n",
       "    // Prevent repeat events\n",
       "    if (name === 'key_press') {\n",
       "        if (event.which === this._key) {\n",
       "            return;\n",
       "        } else {\n",
       "            this._key = event.which;\n",
       "        }\n",
       "    }\n",
       "    if (name === 'key_release') {\n",
       "        this._key = null;\n",
       "    }\n",
       "\n",
       "    var value = '';\n",
       "    if (event.ctrlKey && event.which !== 17) {\n",
       "        value += 'ctrl+';\n",
       "    }\n",
       "    if (event.altKey && event.which !== 18) {\n",
       "        value += 'alt+';\n",
       "    }\n",
       "    if (event.shiftKey && event.which !== 16) {\n",
       "        value += 'shift+';\n",
       "    }\n",
       "\n",
       "    value += 'k';\n",
       "    value += event.which.toString();\n",
       "\n",
       "    this._key_event_extra(event, name);\n",
       "\n",
       "    this.send_message(name, { key: value, guiEvent: simpleKeys(event) });\n",
       "    return false;\n",
       "};\n",
       "\n",
       "mpl.figure.prototype.toolbar_button_onclick = function (name) {\n",
       "    if (name === 'download') {\n",
       "        this.handle_save(this, null);\n",
       "    } else {\n",
       "        this.send_message('toolbar_button', { name: name });\n",
       "    }\n",
       "};\n",
       "\n",
       "mpl.figure.prototype.toolbar_button_onmouseover = function (tooltip) {\n",
       "    this.message.textContent = tooltip;\n",
       "};\n",
       "\n",
       "///////////////// REMAINING CONTENT GENERATED BY embed_js.py /////////////////\n",
       "// prettier-ignore\n",
       "var _JSXTOOLS_RESIZE_OBSERVER=function(A){var t,i=new WeakMap,n=new WeakMap,a=new WeakMap,r=new WeakMap,o=new Set;function s(e){if(!(this instanceof s))throw new TypeError(\"Constructor requires 'new' operator\");i.set(this,e)}function h(){throw new TypeError(\"Function is not a constructor\")}function c(e,t,i,n){e=0 in arguments?Number(arguments[0]):0,t=1 in arguments?Number(arguments[1]):0,i=2 in arguments?Number(arguments[2]):0,n=3 in arguments?Number(arguments[3]):0,this.right=(this.x=this.left=e)+(this.width=i),this.bottom=(this.y=this.top=t)+(this.height=n),Object.freeze(this)}function d(){t=requestAnimationFrame(d);var s=new WeakMap,p=new Set;o.forEach((function(t){r.get(t).forEach((function(i){var r=t instanceof window.SVGElement,o=a.get(t),d=r?0:parseFloat(o.paddingTop),f=r?0:parseFloat(o.paddingRight),l=r?0:parseFloat(o.paddingBottom),u=r?0:parseFloat(o.paddingLeft),g=r?0:parseFloat(o.borderTopWidth),m=r?0:parseFloat(o.borderRightWidth),w=r?0:parseFloat(o.borderBottomWidth),b=u+f,F=d+l,v=(r?0:parseFloat(o.borderLeftWidth))+m,W=g+w,y=r?0:t.offsetHeight-W-t.clientHeight,E=r?0:t.offsetWidth-v-t.clientWidth,R=b+v,z=F+W,M=r?t.width:parseFloat(o.width)-R-E,O=r?t.height:parseFloat(o.height)-z-y;if(n.has(t)){var k=n.get(t);if(k[0]===M&&k[1]===O)return}n.set(t,[M,O]);var S=Object.create(h.prototype);S.target=t,S.contentRect=new c(u,d,M,O),s.has(i)||(s.set(i,[]),p.add(i)),s.get(i).push(S)}))})),p.forEach((function(e){i.get(e).call(e,s.get(e),e)}))}return s.prototype.observe=function(i){if(i instanceof window.Element){r.has(i)||(r.set(i,new Set),o.add(i),a.set(i,window.getComputedStyle(i)));var n=r.get(i);n.has(this)||n.add(this),cancelAnimationFrame(t),t=requestAnimationFrame(d)}},s.prototype.unobserve=function(i){if(i instanceof window.Element&&r.has(i)){var n=r.get(i);n.has(this)&&(n.delete(this),n.size||(r.delete(i),o.delete(i))),n.size||r.delete(i),o.size||cancelAnimationFrame(t)}},A.DOMRectReadOnly=c,A.ResizeObserver=s,A.ResizeObserverEntry=h,A}; // eslint-disable-line\n",
       "mpl.toolbar_items = [[\"Home\", \"Reset original view\", \"fa fa-home icon-home\", \"home\"], [\"Back\", \"Back to previous view\", \"fa fa-arrow-left icon-arrow-left\", \"back\"], [\"Forward\", \"Forward to next view\", \"fa fa-arrow-right icon-arrow-right\", \"forward\"], [\"\", \"\", \"\", \"\"], [\"Pan\", \"Left button pans, Right button zooms\\nx/y fixes axis, CTRL fixes aspect\", \"fa fa-arrows icon-move\", \"pan\"], [\"Zoom\", \"Zoom to rectangle\\nx/y fixes axis, CTRL fixes aspect\", \"fa fa-square-o icon-check-empty\", \"zoom\"], [\"\", \"\", \"\", \"\"], [\"Download\", \"Download plot\", \"fa fa-floppy-o icon-save\", \"download\"]];\n",
       "\n",
       "mpl.extensions = [\"eps\", \"jpeg\", \"pdf\", \"png\", \"ps\", \"raw\", \"svg\", \"tif\"];\n",
       "\n",
       "mpl.default_extension = \"png\";/* global mpl */\n",
       "\n",
       "var comm_websocket_adapter = function (comm) {\n",
       "    // Create a \"websocket\"-like object which calls the given IPython comm\n",
       "    // object with the appropriate methods. Currently this is a non binary\n",
       "    // socket, so there is still some room for performance tuning.\n",
       "    var ws = {};\n",
       "\n",
       "    ws.close = function () {\n",
       "        comm.close();\n",
       "    };\n",
       "    ws.send = function (m) {\n",
       "        //console.log('sending', m);\n",
       "        comm.send(m);\n",
       "    };\n",
       "    // Register the callback with on_msg.\n",
       "    comm.on_msg(function (msg) {\n",
       "        //console.log('receiving', msg['content']['data'], msg);\n",
       "        // Pass the mpl event to the overridden (by mpl) onmessage function.\n",
       "        ws.onmessage(msg['content']['data']);\n",
       "    });\n",
       "    return ws;\n",
       "};\n",
       "\n",
       "mpl.mpl_figure_comm = function (comm, msg) {\n",
       "    // This is the function which gets called when the mpl process\n",
       "    // starts-up an IPython Comm through the \"matplotlib\" channel.\n",
       "\n",
       "    var id = msg.content.data.id;\n",
       "    // Get hold of the div created by the display call when the Comm\n",
       "    // socket was opened in Python.\n",
       "    var element = document.getElementById(id);\n",
       "    var ws_proxy = comm_websocket_adapter(comm);\n",
       "\n",
       "    function ondownload(figure, _format) {\n",
       "        window.open(figure.canvas.toDataURL());\n",
       "    }\n",
       "\n",
       "    var fig = new mpl.figure(id, ws_proxy, ondownload, element);\n",
       "\n",
       "    // Call onopen now - mpl needs it, as it is assuming we've passed it a real\n",
       "    // web socket which is closed, not our websocket->open comm proxy.\n",
       "    ws_proxy.onopen();\n",
       "\n",
       "    fig.parent_element = element;\n",
       "    fig.cell_info = mpl.find_output_cell(\"<div id='\" + id + \"'></div>\");\n",
       "    if (!fig.cell_info) {\n",
       "        console.error('Failed to find cell for figure', id, fig);\n",
       "        return;\n",
       "    }\n",
       "    fig.cell_info[0].output_area.element.on(\n",
       "        'cleared',\n",
       "        { fig: fig },\n",
       "        fig._remove_fig_handler\n",
       "    );\n",
       "};\n",
       "\n",
       "mpl.figure.prototype.handle_close = function (fig, msg) {\n",
       "    var width = fig.canvas.width / fig.ratio;\n",
       "    fig.cell_info[0].output_area.element.off(\n",
       "        'cleared',\n",
       "        fig._remove_fig_handler\n",
       "    );\n",
       "    fig.resizeObserverInstance.unobserve(fig.canvas_div);\n",
       "\n",
       "    // Update the output cell to use the data from the current canvas.\n",
       "    fig.push_to_output();\n",
       "    var dataURL = fig.canvas.toDataURL();\n",
       "    // Re-enable the keyboard manager in IPython - without this line, in FF,\n",
       "    // the notebook keyboard shortcuts fail.\n",
       "    IPython.keyboard_manager.enable();\n",
       "    fig.parent_element.innerHTML =\n",
       "        '<img src=\"' + dataURL + '\" width=\"' + width + '\">';\n",
       "    fig.close_ws(fig, msg);\n",
       "};\n",
       "\n",
       "mpl.figure.prototype.close_ws = function (fig, msg) {\n",
       "    fig.send_message('closing', msg);\n",
       "    // fig.ws.close()\n",
       "};\n",
       "\n",
       "mpl.figure.prototype.push_to_output = function (_remove_interactive) {\n",
       "    // Turn the data on the canvas into data in the output cell.\n",
       "    var width = this.canvas.width / this.ratio;\n",
       "    var dataURL = this.canvas.toDataURL();\n",
       "    this.cell_info[1]['text/html'] =\n",
       "        '<img src=\"' + dataURL + '\" width=\"' + width + '\">';\n",
       "};\n",
       "\n",
       "mpl.figure.prototype.updated_canvas_event = function () {\n",
       "    // Tell IPython that the notebook contents must change.\n",
       "    IPython.notebook.set_dirty(true);\n",
       "    this.send_message('ack', {});\n",
       "    var fig = this;\n",
       "    // Wait a second, then push the new image to the DOM so\n",
       "    // that it is saved nicely (might be nice to debounce this).\n",
       "    setTimeout(function () {\n",
       "        fig.push_to_output();\n",
       "    }, 1000);\n",
       "};\n",
       "\n",
       "mpl.figure.prototype._init_toolbar = function () {\n",
       "    var fig = this;\n",
       "\n",
       "    var toolbar = document.createElement('div');\n",
       "    toolbar.classList = 'btn-toolbar';\n",
       "    this.root.appendChild(toolbar);\n",
       "\n",
       "    function on_click_closure(name) {\n",
       "        return function (_event) {\n",
       "            return fig.toolbar_button_onclick(name);\n",
       "        };\n",
       "    }\n",
       "\n",
       "    function on_mouseover_closure(tooltip) {\n",
       "        return function (event) {\n",
       "            if (!event.currentTarget.disabled) {\n",
       "                return fig.toolbar_button_onmouseover(tooltip);\n",
       "            }\n",
       "        };\n",
       "    }\n",
       "\n",
       "    fig.buttons = {};\n",
       "    var buttonGroup = document.createElement('div');\n",
       "    buttonGroup.classList = 'btn-group';\n",
       "    var button;\n",
       "    for (var toolbar_ind in mpl.toolbar_items) {\n",
       "        var name = mpl.toolbar_items[toolbar_ind][0];\n",
       "        var tooltip = mpl.toolbar_items[toolbar_ind][1];\n",
       "        var image = mpl.toolbar_items[toolbar_ind][2];\n",
       "        var method_name = mpl.toolbar_items[toolbar_ind][3];\n",
       "\n",
       "        if (!name) {\n",
       "            /* Instead of a spacer, we start a new button group. */\n",
       "            if (buttonGroup.hasChildNodes()) {\n",
       "                toolbar.appendChild(buttonGroup);\n",
       "            }\n",
       "            buttonGroup = document.createElement('div');\n",
       "            buttonGroup.classList = 'btn-group';\n",
       "            continue;\n",
       "        }\n",
       "\n",
       "        button = fig.buttons[name] = document.createElement('button');\n",
       "        button.classList = 'btn btn-default';\n",
       "        button.href = '#';\n",
       "        button.title = name;\n",
       "        button.innerHTML = '<i class=\"fa ' + image + ' fa-lg\"></i>';\n",
       "        button.addEventListener('click', on_click_closure(method_name));\n",
       "        button.addEventListener('mouseover', on_mouseover_closure(tooltip));\n",
       "        buttonGroup.appendChild(button);\n",
       "    }\n",
       "\n",
       "    if (buttonGroup.hasChildNodes()) {\n",
       "        toolbar.appendChild(buttonGroup);\n",
       "    }\n",
       "\n",
       "    // Add the status bar.\n",
       "    var status_bar = document.createElement('span');\n",
       "    status_bar.classList = 'mpl-message pull-right';\n",
       "    toolbar.appendChild(status_bar);\n",
       "    this.message = status_bar;\n",
       "\n",
       "    // Add the close button to the window.\n",
       "    var buttongrp = document.createElement('div');\n",
       "    buttongrp.classList = 'btn-group inline pull-right';\n",
       "    button = document.createElement('button');\n",
       "    button.classList = 'btn btn-mini btn-primary';\n",
       "    button.href = '#';\n",
       "    button.title = 'Stop Interaction';\n",
       "    button.innerHTML = '<i class=\"fa fa-power-off icon-remove icon-large\"></i>';\n",
       "    button.addEventListener('click', function (_evt) {\n",
       "        fig.handle_close(fig, {});\n",
       "    });\n",
       "    button.addEventListener(\n",
       "        'mouseover',\n",
       "        on_mouseover_closure('Stop Interaction')\n",
       "    );\n",
       "    buttongrp.appendChild(button);\n",
       "    var titlebar = this.root.querySelector('.ui-dialog-titlebar');\n",
       "    titlebar.insertBefore(buttongrp, titlebar.firstChild);\n",
       "};\n",
       "\n",
       "mpl.figure.prototype._remove_fig_handler = function (event) {\n",
       "    var fig = event.data.fig;\n",
       "    if (event.target !== this) {\n",
       "        // Ignore bubbled events from children.\n",
       "        return;\n",
       "    }\n",
       "    fig.close_ws(fig, {});\n",
       "};\n",
       "\n",
       "mpl.figure.prototype._root_extra_style = function (el) {\n",
       "    el.style.boxSizing = 'content-box'; // override notebook setting of border-box.\n",
       "};\n",
       "\n",
       "mpl.figure.prototype._canvas_extra_style = function (el) {\n",
       "    // this is important to make the div 'focusable\n",
       "    el.setAttribute('tabindex', 0);\n",
       "    // reach out to IPython and tell the keyboard manager to turn it's self\n",
       "    // off when our div gets focus\n",
       "\n",
       "    // location in version 3\n",
       "    if (IPython.notebook.keyboard_manager) {\n",
       "        IPython.notebook.keyboard_manager.register_events(el);\n",
       "    } else {\n",
       "        // location in version 2\n",
       "        IPython.keyboard_manager.register_events(el);\n",
       "    }\n",
       "};\n",
       "\n",
       "mpl.figure.prototype._key_event_extra = function (event, _name) {\n",
       "    var manager = IPython.notebook.keyboard_manager;\n",
       "    if (!manager) {\n",
       "        manager = IPython.keyboard_manager;\n",
       "    }\n",
       "\n",
       "    // Check for shift+enter\n",
       "    if (event.shiftKey && event.which === 13) {\n",
       "        this.canvas_div.blur();\n",
       "        // select the cell after this one\n",
       "        var index = IPython.notebook.find_cell_index(this.cell_info[0]);\n",
       "        IPython.notebook.select(index + 1);\n",
       "    }\n",
       "};\n",
       "\n",
       "mpl.figure.prototype.handle_save = function (fig, _msg) {\n",
       "    fig.ondownload(fig, null);\n",
       "};\n",
       "\n",
       "mpl.find_output_cell = function (html_output) {\n",
       "    // Return the cell and output element which can be found *uniquely* in the notebook.\n",
       "    // Note - this is a bit hacky, but it is done because the \"notebook_saving.Notebook\"\n",
       "    // IPython event is triggered only after the cells have been serialised, which for\n",
       "    // our purposes (turning an active figure into a static one), is too late.\n",
       "    var cells = IPython.notebook.get_cells();\n",
       "    var ncells = cells.length;\n",
       "    for (var i = 0; i < ncells; i++) {\n",
       "        var cell = cells[i];\n",
       "        if (cell.cell_type === 'code') {\n",
       "            for (var j = 0; j < cell.output_area.outputs.length; j++) {\n",
       "                var data = cell.output_area.outputs[j];\n",
       "                if (data.data) {\n",
       "                    // IPython >= 3 moved mimebundle to data attribute of output\n",
       "                    data = data.data;\n",
       "                }\n",
       "                if (data['text/html'] === html_output) {\n",
       "                    return [cell, data, j];\n",
       "                }\n",
       "            }\n",
       "        }\n",
       "    }\n",
       "};\n",
       "\n",
       "// Register the function which deals with the matplotlib target/channel.\n",
       "// The kernel may be null if the page has been refreshed.\n",
       "if (IPython.notebook.kernel !== null) {\n",
       "    IPython.notebook.kernel.comm_manager.register_target(\n",
       "        'matplotlib',\n",
       "        mpl.mpl_figure_comm\n",
       "    );\n",
       "}\n"
      ],
      "text/plain": [
       "<IPython.core.display.Javascript object>"
      ]
     },
     "metadata": {},
     "output_type": "display_data"
    },
    {
     "data": {
      "text/html": [
       "<img src=\"data:image/png;base64,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\" width=\"640\">"
      ],
      "text/plain": [
       "<IPython.core.display.HTML object>"
      ]
     },
     "metadata": {},
     "output_type": "display_data"
    },
    {
     "data": {
      "text/plain": [
       "9"
      ]
     },
     "execution_count": 13,
     "metadata": {},
     "output_type": "execute_result"
    }
   ],
   "source": [
    "import matplotlib.pyplot as plt\n",
    "\n",
    "def onclick(event):\n",
    "    if event.button == 1: #clic gauche\n",
    "        x0, y0 = event.xdata, event.ydata\n",
    "        x.append(x0)  \n",
    "        y.append(y0)\n",
    "        plt.plot(x0, y0, 'b.') \n",
    "    elif event.button == 3: #clic droit\n",
    "        x0, y0 = event.xdata, event.ydata\n",
    "        x.append(x0)  \n",
    "        y.append(y0)\n",
    "        plt.plot(x0, y0, 'b.') \n",
    "        plt.plot(x, y, color=\"blue\")\n",
    "    else:\n",
    "        pass\n",
    "\n",
    "x, y = [], []\n",
    "\n",
    "%matplotlib notebook \n",
    "fig = plt.figure()\n",
    "ax = fig.add_subplot(111)\n",
    "ax.set_xlim(0, 10)\n",
    "ax.set_ylim(0, 10)\n",
    "ax.grid(True)   \n",
    "fig.canvas.mpl_connect('button_press_event', onclick)"
   ]
  },
  {
   "cell_type": "markdown",
   "metadata": {},
   "source": [
    "- En s'inspirant du code ci-dessus, écrire un code qui permet de tracer de manière interactive l'interpolation de Catmull-Rom."
   ]
  },
  {
   "cell_type": "code",
   "execution_count": null,
   "metadata": {},
   "outputs": [],
   "source": []
  }
 ],
 "metadata": {
  "kernelspec": {
   "display_name": "Python 3 (ipykernel)",
   "language": "python",
   "name": "python3"
  },
  "language_info": {
   "codemirror_mode": {
    "name": "ipython",
    "version": 3
   },
   "file_extension": ".py",
   "mimetype": "text/x-python",
   "name": "python",
   "nbconvert_exporter": "python",
   "pygments_lexer": "ipython3",
   "version": "3.9.0"
  }
 },
 "nbformat": 4,
 "nbformat_minor": 1
}
